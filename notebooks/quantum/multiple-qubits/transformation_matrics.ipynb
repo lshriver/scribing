{
 "cells": [
  {
   "cell_type": "markdown",
   "metadata": {},
   "source": [
    "# Calculating the Transformation Matrix"
   ]
  },
  {
   "cell_type": "code",
   "execution_count": 5,
   "metadata": {},
   "outputs": [],
   "source": [
    "from qiskit import transpile\n",
    "from qiskit_aer import Aer, AerSimulator, AerJob\n",
    "\n",
    "def execute(circuits, backend=None, shots=1024, **kwargs):\n",
    "    if backend is None:\n",
    "        backend = AerSimulator()\n",
    "        \n",
    "    # Transpile the circuits for the backend\n",
    "    transpiled_circuits = transpile(circuits, backend)\n",
    "    \n",
    "    # Run the circuits on the backend\n",
    "    job = backend.run(transpiled_circuits, shots=shots, **kwargs)\n",
    "    \n",
    "    return job\n",
    "\n",
    "backend = Aer.get_backend('statevector_simulator')"
   ]
  },
  {
   "cell_type": "code",
   "execution_count": 6,
   "metadata": {},
   "outputs": [
    {
     "data": {
      "image/png": "[encoded data removed]",
      "text/plain": [
       "<Figure size 203.683x200.667 with 1 Axes>"
      ]
     },
     "execution_count": 6,
     "metadata": {},
     "output_type": "execute_result"
    }
   ],
   "source": [
    "from qiskit import QuantumCircuit\n",
    "\n",
    "# Create a quantum circuit with two qubits\n",
    "qc = QuantumCircuit(2)\n",
    "\n",
    "# Apply the X gate to the first qubit\n",
    "qc.x(0)\n",
    "\n",
    "# Apply the Hadamard gate to the second qubit\n",
    "qc.h(1)\n",
    "\n",
    "qc.draw('mpl')"
   ]
  },
  {
   "cell_type": "code",
   "execution_count": 18,
   "metadata": {},
   "outputs": [
    {
     "name": "stdout",
     "output_type": "stream",
     "text": [
      "         Col1        Col2        Col3        Col4\n",
      "0  0.00+0.00j  0.71+0.00j  0.00+0.00j  0.71-0.00j\n",
      "1  0.71+0.00j  0.00+0.00j  0.71-0.00j  0.00+0.00j\n",
      "2  0.00+0.00j  0.71+0.00j  0.00+0.00j -0.71+0.00j\n",
      "3  0.71+0.00j  0.00+0.00j -0.71+0.00j  0.00+0.00j\n"
     ]
    }
   ],
   "source": [
    "import pandas as pd\n",
    "\n",
    "backend = Aer.get_backend('unitary_simulator')\n",
    "unitary = execute(qc,backend).result().get_unitary()\n",
    "\n",
    "# Display results\n",
    "df = pd.DataFrame(unitary, columns=['Col1', 'Col2', 'Col3', 'Col4'])\n",
    "pd.set_option('display.precision', 2)\n",
    "print(df)\n"
   ]
  }
 ],
 "metadata": {
  "language_info": {
   "name": "python"
  }
 },
 "nbformat": 4,
 "nbformat_minor": 2
}
