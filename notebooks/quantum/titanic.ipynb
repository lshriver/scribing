{
 "cells": [
  {
   "cell_type": "code",
   "execution_count": 1,
   "metadata": {},
   "outputs": [],
   "source": [
    "from qiskit import transpile\n",
    "from qiskit_aer import Aer, AerSimulator, AerJob\n",
    "\n",
    "def execute(circuits, backend=None, shots=1024, **kwargs):\n",
    "    if backend is None:\n",
    "        backend = AerSimulator()\n",
    "        \n",
    "    # Transpile the circuits for the backend\n",
    "    transpiled_circuits = transpile(circuits, backend)\n",
    "    \n",
    "    # Run the circuits on the backend\n",
    "    job = backend.run(transpiled_circuits, shots=shots, **kwargs)\n",
    "    \n",
    "    return job\n",
    "\n",
    "from qiskit import QuantumCircuit\n",
    "from qiskit.quantum_info import Operator\n",
    "from qiskit.visualization import plot_histogram\n",
    "\n",
    "import matplotlib.pyplot as plt \n",
    "import numpy as np \n",
    "from IPython.display import display, clear_output\n",
    "from math import sqrt\n",
    "\n",
    "# Tell qiskit how to simulate the circuit\n",
    "backend = Aer.get_backend('statevector_simulator')"
   ]
  },
  {
   "cell_type": "markdown",
   "metadata": {},
   "source": [
    "Create a parameterized quantum circuit (PQC) to solve our binary classification task\n",
    "- A **PQC** is a type of quantum circuit that takes all data as input parameters (i.e., the input data directly influences the parameters of the quantum gates within the circuit)\n",
    "- \"Parameterized\" refers to this circuit's ability to modify its behavior based on these input parameters\n",
    "\n",
    "Here, our PQC will take a single quantum state $\\psi$ as input. It will then measue the state and provide its prediction as the output."
   ]
  },
  {
   "cell_type": "code",
   "execution_count": 2,
   "metadata": {},
   "outputs": [],
   "source": [
    "# Exploring the Observer Effect\n",
    "from sklearn.metrics import recall_score, precision_score, confusion_matrix\n",
    "\n",
    "def pqc_classify(backend, passenger_state):\n",
    "    \"\"\"backend -- a qiskit backend to run the quantum circuit \n",
    "    at passenger_state -- a valid quantum state vector\"\"\"\n",
    "    \n",
    "    # Create a quantum circuit with one qubit\n",
    "    qc = QuantumCircuit(1)\n",
    "    \n",
    "    # Define state |psi> and initialize the circuit\n",
    "    qc.initialize(passenger_state, 0)\n",
    "    \n",
    "    # Measure the circuit\n",
    "    qc.measure_all()\n",
    "    \n",
    "    # Run the quantum circuit\n",
    "    result = execute(qc, backend).result()\n",
    "    \n",
    "    # Obtain the counts, these are either {'0': 1} or {'1': 1}\n",
    "    counts = result.get_counts(qc)\n",
    "    \n",
    "    # Get the bit 0 or 1\n",
    "    return int(list(map(lambda item: item[0], counts.items()))[0])"
   ]
  }
 ],
 "metadata": {
  "kernelspec": {
   "display_name": "qenv",
   "language": "python",
   "name": "python3"
  },
  "language_info": {
   "codemirror_mode": {
    "name": "ipython",
    "version": 3
   },
   "file_extension": ".py",
   "mimetype": "text/x-python",
   "name": "python",
   "nbconvert_exporter": "python",
   "pygments_lexer": "ipython3",
   "version": "3.12.1"
  }
 },
 "nbformat": 4,
 "nbformat_minor": 2
}
