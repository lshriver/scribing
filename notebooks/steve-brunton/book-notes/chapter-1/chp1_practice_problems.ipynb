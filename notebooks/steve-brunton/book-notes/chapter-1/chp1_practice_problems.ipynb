{
 "cells": [
  {
   "cell_type": "markdown",
   "id": "75ea59e7",
   "metadata": {},
   "source": [
    "# Exercise 1.1\n",
    "Load an image and compute the full SVD. \n",
    "\n",
    "1. Choose a rank $r<m$ and confirm that the matirx $U^*U$ is the $r\\times r$ identity matrix\n",
    "\n",
    "2. Confirm that $UU^*$ is *not* the identity matrix\n",
    "\n",
    "3. Compute the norm of the error between $UU^*$ and the $n\\times n$ identity matrix as the rank $r$ varies from $1$ to $n$ and plot the error."
   ]
  }
 ],
 "metadata": {
  "language_info": {
   "name": "python"
  }
 },
 "nbformat": 4,
 "nbformat_minor": 5
}
