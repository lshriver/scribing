{
 "cells": [
  {
   "cell_type": "markdown",
   "id": "75ea59e7",
   "metadata": {},
   "source": [
    "# Exercise 1.1\n",
    "Load an image and compute the full SVD. \n",
    "- A.  Choose a rank $r<m$ and confirm that the matirx $U^*U$ is the $r\\times r$ identity matrix\n",
    "- B. Confirm that $UU^*$ is *not* the identity matrix\n",
    "- C. Compute the norm of the error between $UU^*$ and the $n\\times n$ identity matrix as the rank $r$ varies from $1$ to $n$ and plot the error.\n"
   ]
  },
  {
   "cell_type": "markdown",
   "id": "8dd1a551",
   "metadata": {},
   "source": [
    "### Load an image and compute the full SVD"
   ]
  },
  {
   "cell_type": "code",
   "execution_count": 75,
   "id": "ec9623f8",
   "metadata": {},
   "outputs": [],
   "source": [
    "import numpy as np\n",
    "import matplotlib.pyplot as plt\n",
    "from matplotlib.image import imread\n",
    "from IPython.display import display, Latex, Math\n",
    "\n",
    "# Load the image\n",
    "A = imread('/workspaces/scribing/images/logo.png')\n",
    "X = np.mean(A, -1)  # Convert to grayscale\n",
    "\n",
    "# Take the SVD\n",
    "U, S, VT = np.linalg.svd(X, full_matrices=False)\n",
    "S = np.diag(S)"
   ]
  },
  {
   "cell_type": "markdown",
   "id": "4419fa82",
   "metadata": {},
   "source": [
    "### Part A\n",
    "Choose a rank $r<m$ and confirm that the matrix $U^*U$ is the $r\\times r$ identity matrix."
   ]
  },
  {
   "cell_type": "code",
   "execution_count": 95,
   "id": "4e7005df",
   "metadata": {},
   "outputs": [
    {
     "name": "stdout",
     "output_type": "stream",
     "text": [
      "m:  450 \n",
      "\n",
      "n:  450 \n",
      "\n",
      "Norm of the distance (should be near 0):  1.0064210607239148e-06 \n",
      "\n"
     ]
    }
   ],
   "source": [
    "# Choose a rank r (must be less than m)\n",
    "num_rows, num_cols = U_r.shape\n",
    "print('m: ', num_rows, '\\n')\n",
    "print('n: ', num_cols, '\\n')\n",
    "\n",
    "r = 27;  # Rank of the approximation (any r < m)\n",
    "\n",
    "# Truncated U (only the first r columns)\n",
    "U_r = U[:, :r]\n",
    "\n",
    "# Compute U_r^dagger * U_r (here U_r^dagger denotes the conjuage transpose; for real data, this is just the transpose)\n",
    "I_r = np.dot(U_r.T, U_r)\n",
    "\n",
    "# Numerical confirmation\n",
    "identity_matrix = np.eye(r)\n",
    "difference = I_r - identity_matrix\n",
    "#\n",
    "# Compute the norm of the difference\n",
    "error_norm = np.linalg.norm(difference)\n",
    "print('Norm of the distance (should be near 0): ', error_norm, '\\n')\n"
   ]
  },
  {
   "cell_type": "markdown",
   "id": "716e850b",
   "metadata": {},
   "source": [
    "#### Part A Answer"
   ]
  },
  {
   "cell_type": "code",
   "execution_count": 77,
   "id": "34a7d1d7",
   "metadata": {},
   "outputs": [
    {
     "data": {
      "text/latex": [
       "$U_r^\\dagger U_r \\approx I_r$ ✅"
      ],
      "text/plain": [
       "<IPython.core.display.Latex object>"
      ]
     },
     "metadata": {},
     "output_type": "display_data"
    }
   ],
   "source": [
    "if error_norm < 1e-5:\n",
    "    display(Latex(r\"$U_r^\\dagger U_r \\approx I_r$ ✅\"))\n",
    "else:\n",
    "    display(Latex(r\"$U_r^\\dagger U_r \\neq I_r$ ❌\"))"
   ]
  },
  {
   "cell_type": "markdown",
   "id": "fa4f2954",
   "metadata": {},
   "source": [
    "### Part B\n",
    "Confirm that the matrix $UU^\\dagger$ is not the  $r\\times r$ identity matrix."
   ]
  },
  {
   "cell_type": "code",
   "execution_count": 78,
   "id": "a4ad06cd",
   "metadata": {},
   "outputs": [
    {
     "name": "stdout",
     "output_type": "stream",
     "text": [
      "m:  450 \n",
      "\n",
      "n:  27 \n",
      "\n",
      "Norm of the distance (should be near 0):  20.56696380443393 \n",
      "\n"
     ]
    }
   ],
   "source": [
    "# Choose a rank r (must be less than m)\n",
    "num_rows, num_cols = U_r.shape\n",
    "print('m: ', num_rows, '\\n')\n",
    "print('n: ', num_cols, '\\n')\n",
    "\n",
    "r = 27;  # Rank of the approximation (any r < m)\n",
    "\n",
    "# Truncated U (only the first r columns)\n",
    "U_r = U[:, :r]\n",
    "\n",
    "# Compute U_r^dagger * U_r (here U_r^dagger denotes the conjuage transpose; for real data, this is just the transpose)\n",
    "notI_r = np.dot(U_r, U_r.T)\n",
    "\n",
    "# Numerical confirmation\n",
    "identity_matrix = np.eye(num_rows)\n",
    "difference = notI_r - identity_matrix\n",
    "#\n",
    "# Compute the norm of the difference\n",
    "error_norm = np.linalg.norm(difference)\n",
    "print('Norm of the distance (should be near 0): ', error_norm, '\\n')"
   ]
  },
  {
   "cell_type": "markdown",
   "id": "92206cd0",
   "metadata": {},
   "source": [
    "#### Part B Answer"
   ]
  },
  {
   "cell_type": "code",
   "execution_count": 79,
   "id": "d42deb5a",
   "metadata": {},
   "outputs": [
    {
     "data": {
      "text/latex": [
       "$U_rU_r^\\dagger \\neq I_r$ ❌"
      ],
      "text/plain": [
       "<IPython.core.display.Latex object>"
      ]
     },
     "metadata": {},
     "output_type": "display_data"
    }
   ],
   "source": [
    "if error_norm < 1e-5:\n",
    "    display(Latex(r\"$U_rU_r^\\dagger \\approx I_r$ ✅\"))\n",
    "else:\n",
    "    display(Latex(r\"$U_rU_r^\\dagger \\neq I_r$ ❌\"))"
   ]
  },
  {
   "cell_type": "markdown",
   "id": "ed6a29fe",
   "metadata": {},
   "source": [
    "### Part C\n",
    "Compute the norm of the error between $UU^\\dagger$ and the $n\\times n$ identity matrix as the rank $r$ varies from $1$ to $n$ and plot the error."
   ]
  },
  {
   "cell_type": "code",
   "execution_count": 85,
   "id": "5ae6bb55",
   "metadata": {},
   "outputs": [
    {
     "data": {
      "text/latex": [
       "Error in $P-I_m$: 20.56696380443393 (should be greater than 0)"
      ],
      "text/plain": [
       "<IPython.core.display.Latex object>"
      ]
     },
     "metadata": {},
     "output_type": "display_data"
    }
   ],
   "source": [
    "# Compute the projection matrix P = U_r U_r^T\n",
    "P = np.dot(U_r, U_r.T)\n",
    "\n",
    "# Compare P to the mxm identity marix \n",
    "m = num_rows\n",
    "I_m = np.eye(m)\n",
    "error_B = np.linalg.norm(P - I_m)\n",
    "display(Latex(r\"Error in $P-I_m$: \" + str(error_B) + \" (should be greater than 0)\"))"
   ]
  },
  {
   "cell_type": "code",
   "execution_count": 86,
   "id": "4f56d1fd",
   "metadata": {},
   "outputs": [
    {
     "data": {
      "text/latex": [
       "$U_rU_r^\\dagger \\neq I_m$ ❌"
      ],
      "text/plain": [
       "<IPython.core.display.Latex object>"
      ]
     },
     "metadata": {},
     "output_type": "display_data"
    }
   ],
   "source": [
    "if error_norm < 1e-5:\n",
    "    display(Latex(r\"$U_rU_r^\\dagger \\approx I_r$ ✅\"))\n",
    "else:\n",
    "    display(Latex(r\"$U_rU_r^\\dagger \\neq I_m$ ❌\"))"
   ]
  },
  {
   "cell_type": "markdown",
   "id": "cd5edb3a",
   "metadata": {},
   "source": [
    "#### Plotting the Norm of the Error between $U_r U_r^\\dagger$ and $I$ as $r$ Varies\n",
    "\n",
    "$$\\text{error}(r) = \\Vert U_r U_r^\\dagger - I_m \\Vert_{(F)}$$"
   ]
  },
  {
   "cell_type": "code",
   "execution_count": null,
   "id": "4fcbbb68",
   "metadata": {},
   "outputs": [
    {
     "data": {
      "image/png": "[encoded data removed]",
      "text/plain": [
       "<Figure size 800x500 with 1 Axes>"
      ]
     },
     "metadata": {},
     "output_type": "display_data"
    }
   ],
   "source": [
    "errors = []\n",
    "r_vals = range(1, m+1) # or you might restrict to a max rank if m is large\n",
    "\n",
    "for r in r_vals:\n",
    "    U_r = U[:, :r] # first r columns\n",
    "    P_r = np.dot(U_r, U_r.T) # projection onto the subspace\\\n",
    "    err = np.linalg.norm(P_r - I_m) # Frobenius norm\n",
    "    errors.append(err)\n",
    "\n",
    "# Plotting the error versus rank r\n",
    "plt.figure(figsize=(8, 5))\n",
    "plt.plot(r_vals, errors, marker='o')\n",
    "plt.xlabel(r\"Rank $r$\")\n",
    "plt.ylabel(r\"$\\Vert U_rU_r^T - I_m \\Vert_F$\")\n",
    "plt.title(r\"Error in approximating Identity by $U_r U_r^T$\")\n",
    "plt.grid(True)\n",
    "plt.show()"
   ]
  },
  {
   "cell_type": "markdown",
   "id": "6cbd34a1",
   "metadata": {},
   "source": [
    "Note that the error decreases to near zero as $r# increases towards $m$. "
   ]
  }
 ],
 "metadata": {
  "kernelspec": {
   "display_name": ".venv",
   "language": "python",
   "name": "python3"
  },
  "language_info": {
   "codemirror_mode": {
    "name": "ipython",
    "version": 3
   },
   "file_extension": ".py",
   "mimetype": "text/x-python",
   "name": "python",
   "nbconvert_exporter": "python",
   "pygments_lexer": "ipython3",
   "version": "3.12.1"
  }
 },
 "nbformat": 4,
 "nbformat_minor": 5
}
