{
 "cells": [
  {
   "cell_type": "markdown",
   "id": "662b5376",
   "metadata": {},
   "source": [
    "# Chapter 1 Notes: The SVD"
   ]
  },
  {
   "cell_type": "markdown",
   "id": "9c7e389b",
   "metadata": {},
   "source": [
    "## Prof Won Math Preliminary Notes\n",
    "### Lecture 20 | Singular Value Decomposition\n",
    "\n",
    "## Recall: **Diagonalization** of $A\\in \\mathbb{R}^{n\\times n}$ \n",
    "*If* $A$ has $n$ linearly independent eigenvectors, then we can write $$A=XDX^{-1}$$ where \n",
    "- $X$ is an invertible matrix whose columns are the eigenvectors of $A$\n",
    "- $D$ is a diagonal matrix whose diagonal entries are the eigenvalues of $A$\n",
    "\n",
    "This factorization allows us to think about $A$ as a \"diagonal matrix in the context of a different basis\".\n",
    "\n",
    "Recall: Symmetric matrices are always diagonalizable (spectrum theorem stuff)\n",
    "\n",
    "## SVD is similar to diagonalization\n",
    "One big difference is SVD is not limited to square matrices.\n",
    "\n",
    "Crude overview: SVD $\\Rightarrow$ factorize a rectangular matrix $A\\in\\mathbb{R}^{m\\times n}$\n",
    "\n",
    "## Theorem\n",
    "Any $A \\in \\mathbb{R}^{m\\times n}$ with $\\text{rank}(A)=r$ admits a factorization, $$A=U\\Sigma V^T$$ called a **singular value decomposition (SVD)**. \n",
    "- The matrix $$U=\\begin{bmatrix} \\vec{u}_1 & \\vec{u}_2 & \\cdots & \\vec{u}_r & \\vec{u}_{r+1} & \\cdots & \\vec{u}_m \\end{bmatrix}$$ is orthonormal (therefore, $UU^T = U^T U = I_m$). The column vectors of $U$ are called the **left singular vectors** and can be partitioned into two groups:\n",
    "    1. The first $r$ columns of $U$, $\\vec{u}_1, \\vec{u}_2, \\dots, \\vec{u}_r$ form an orthonormal basis for $\\text{Col}(A)$\n",
    "    2. The remaining columns of $U$, $\\vec{u}_{r+1}, \\vec{u}_{r+2}, \\dots, \\vec{u}_{m}$ form an orthonormal basis for $\\text{Null}(A^T)$\n",
    "\n",
    "- The matrix $$V=\\begin{bmatrix} \\vec{v}_1 & \\vec{v}_2 & \\cdots & \\vec{v}_r & \\vec{v}_{r+1} & \\cdots & \\vec{v}_n \\end{bmatrix}$$ is orthonormal (therefore, $$VV^T = V^T V+ I_n$). The column vectors of $V$ are called the **right singular vectors** and can be partitioned into groups:\n",
    "    1. The first $r$ columns of $V$, $\\vec{v}_1, \\vec{v}_2, \\dots, \\vec{v}_r$ form an orthonomral basis for $\\text{Row}(A)$\n",
    "    2. The remaining columns of $V$, $\\vec{v}_{r+1}, \\vec{v}_{r+1}, \\dots, \\vec{v}_n$ form an orthonormal basis for $\\text{Null}(A)$\n",
    "\n",
    "- The matrix $$\\Sigma = \\begin{bmatrix} \\tilde{\\Sigma} & \\bold{0}_{r,n-r} \\\\ \\bold{0}_{m-r,n} & \\bold{0}_{m-r, n-r} \\end{bmatrix}$$ where $$\\tilde{\\Sigma} = \\begin{bmatrix} \\sigma_1 & 0 & \\dots & 0 \\\\ 0 & \\sigma_2 & \\dots & 0 \\\\ \\vdots & \\vdots & \\ddots & \\vdots \\\\ 0 & 0 & \\dots & \\sigma_r  \\end{bmatrix}$$ is nonnegativew whose only nonzero entries occur along the diagonal entries and appear in decreasing order, $\\sigma_1 \\geq \\sigma_2 \\geq \\dots \\geq \\sigma_r$. These nonzero diagonal elements of $\\Sigma$ are called the **singular values** of matrix $A$"
   ]
  },
  {
   "cell_type": "code",
   "execution_count": 1,
   "id": "9a550b40",
   "metadata": {},
   "outputs": [
    {
     "ename": "AttributeError",
     "evalue": "module 'numpy' has no attribute 'linagle'",
     "output_type": "error",
     "traceback": [
      "\u001b[31m---------------------------------------------------------------------------\u001b[39m",
      "\u001b[31mAttributeError\u001b[39m                            Traceback (most recent call last)",
      "\u001b[36mCell\u001b[39m\u001b[36m \u001b[39m\u001b[32mIn[1]\u001b[39m\u001b[32m, line 4\u001b[39m\n\u001b[32m      2\u001b[39m X = np.random.rand(\u001b[32m5\u001b[39m, \u001b[32m3\u001b[39m)  \u001b[38;5;66;03m# Create random data matrix\u001b[39;00m\n\u001b[32m      3\u001b[39m U, Sigma, VT = np.linalg.svd(X, full_matrices=\u001b[38;5;28;01mTrue\u001b[39;00m)  \u001b[38;5;66;03m# Full SVD\u001b[39;00m\n\u001b[32m----> \u001b[39m\u001b[32m4\u001b[39m Uhat, Sigmahat, VThat = \u001b[43mnp\u001b[49m\u001b[43m.\u001b[49m\u001b[43mlinagle\u001b[49m.svd(X, full_matrices=\u001b[38;5;28;01mFalse\u001b[39;00m)  \u001b[38;5;66;03m# Economy SVD\u001b[39;00m\n\u001b[32m      6\u001b[39m \u001b[38;5;28mprint\u001b[39m(\u001b[33m\"\u001b[39m\u001b[33mU:\u001b[39m\u001b[38;5;130;01m\\n\u001b[39;00m\u001b[33m\"\u001b[39m, U)\n\u001b[32m      7\u001b[39m \u001b[38;5;28mprint\u001b[39m(\u001b[33m\"\u001b[39m\u001b[33mSigma:\u001b[39m\u001b[38;5;130;01m\\n\u001b[39;00m\u001b[33m\"\u001b[39m, Sigma)\n",
      "\u001b[36mFile \u001b[39m\u001b[32m~/.local/lib/python3.12/site-packages/numpy/__init__.py:414\u001b[39m, in \u001b[36m__getattr__\u001b[39m\u001b[34m(attr)\u001b[39m\n\u001b[32m    411\u001b[39m     \u001b[38;5;28;01mimport\u001b[39;00m\u001b[38;5;250m \u001b[39m\u001b[34;01mnumpy\u001b[39;00m\u001b[34;01m.\u001b[39;00m\u001b[34;01mchar\u001b[39;00m\u001b[38;5;250m \u001b[39m\u001b[38;5;28;01mas\u001b[39;00m\u001b[38;5;250m \u001b[39m\u001b[34;01mchar\u001b[39;00m\n\u001b[32m    412\u001b[39m     \u001b[38;5;28;01mreturn\u001b[39;00m char.chararray\n\u001b[32m--> \u001b[39m\u001b[32m414\u001b[39m \u001b[38;5;28;01mraise\u001b[39;00m \u001b[38;5;167;01mAttributeError\u001b[39;00m(\u001b[33m\"\u001b[39m\u001b[33mmodule \u001b[39m\u001b[38;5;132;01m{!r}\u001b[39;00m\u001b[33m has no attribute \u001b[39m\u001b[33m\"\u001b[39m\n\u001b[32m    415\u001b[39m                      \u001b[33m\"\u001b[39m\u001b[38;5;132;01m{!r}\u001b[39;00m\u001b[33m\"\u001b[39m.format(\u001b[34m__name__\u001b[39m, attr))\n",
      "\u001b[31mAttributeError\u001b[39m: module 'numpy' has no attribute 'linagle'"
     ]
    }
   ],
   "source": [
    "import numpy as np\n",
    "X = np.random.rand(5, 3)  # Create random data matrix\n",
    "U, Sigma, VT = np.linalg.svd(X, full_matrices=True)  # Full SVD\n",
    "Uhat, Sigmahat, VThat = np.linagle.svd(X, full_matrices=False)  # Economy SVD\n",
    "\n",
    "print(\"U:\\n\", U)\n",
    "print(\"Sigma:\\n\", Sigma)\n",
    "print(\"VT:\\n\", VT)\n",
    "print(\"Uhat:\\n\", Uhat)"
   ]
  }
 ],
 "metadata": {
  "kernelspec": {
   "display_name": ".venv",
   "language": "python",
   "name": "python3"
  },
  "language_info": {
   "codemirror_mode": {
    "name": "ipython",
    "version": 3
   },
   "file_extension": ".py",
   "mimetype": "text/x-python",
   "name": "python",
   "nbconvert_exporter": "python",
   "pygments_lexer": "ipython3",
   "version": "3.12.1"
  }
 },
 "nbformat": 4,
 "nbformat_minor": 5
}
