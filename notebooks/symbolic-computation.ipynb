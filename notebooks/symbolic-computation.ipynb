{
 "cells": [
  {
   "cell_type": "code",
   "execution_count": 2,
   "metadata": {},
   "outputs": [],
   "source": [
    "import sys\n",
    "sys.path.append('/workspaces/scribing/')\n",
    "from colors import Bcolors as bc"
   ]
  },
  {
   "cell_type": "markdown",
   "metadata": {},
   "source": [
    "# Symbolic Computation\n",
    "Source: [educative.io/courses/python-for-scientists-and-engineers/](https://www.educative.io/)"
   ]
  },
  {
   "cell_type": "markdown",
   "metadata": {},
   "source": [
    "## Symbolic Variables"
   ]
  },
  {
   "cell_type": "code",
   "execution_count": 3,
   "metadata": {},
   "outputs": [
    {
     "name": "stdout",
     "output_type": "stream",
     "text": [
      "x + y + z\n"
     ]
    }
   ],
   "source": [
    "from sympy import *\n",
    "\n",
    "x = Symbol('x')\n",
    "y, z = symbols('y z')\n",
    "\n",
    "print(x + y + z)"
   ]
  },
  {
   "cell_type": "markdown",
   "metadata": {},
   "source": [
    "📝 We can explicitly set properties for a symbolic number. This helps to simplify expressions."
   ]
  },
  {
   "cell_type": "code",
   "execution_count": 4,
   "metadata": {},
   "outputs": [],
   "source": [
    "x = Symbol('x', real = True, positive = True)"
   ]
  },
  {
   "cell_type": "markdown",
   "metadata": {},
   "source": [
    "## Complex Numbers"
   ]
  },
  {
   "cell_type": "code",
   "execution_count": 5,
   "metadata": {},
   "outputs": [
    {
     "name": "stdout",
     "output_type": "stream",
     "text": [
      "sqrt(x**2)\n",
      "2 + 5*I\n",
      "(2 + 5*I)**2\n"
     ]
    }
   ],
   "source": [
    "from sympy import *\n",
    "\n",
    "# Real symbolic variable\n",
    "x = Symbol('x')\n",
    "print(sqrt(x**2))\n",
    "\n",
    "# Complex symbolic variable\n",
    "z = 2 + 5*I\n",
    "print(z)\n",
    "print(z**2)"
   ]
  },
  {
   "cell_type": "markdown",
   "metadata": {},
   "source": [
    "⚠️⚠️ Make sure you convert from the data type generated from `I` to the regular Python complex data type"
   ]
  },
  {
   "cell_type": "code",
   "execution_count": 6,
   "metadata": {},
   "outputs": [
    {
     "name": "stdout",
     "output_type": "stream",
     "text": [
      "Type of x is \u001b[34m <class 'sympy.core.add.Add'> \u001b[0m\n",
      "Type of y is \u001b[32m <class 'complex'> \u001b[0m\n"
     ]
    }
   ],
   "source": [
    "from sympy import *\n",
    "\n",
    "x = 2 + 5*I\n",
    "print(f\"Type of x is {bc.BLUE}\", type(x), bc.ENDC)\n",
    "\n",
    "y = complex(x)  # converts x to a Python complex data type\n",
    "print(f\"Type of y is {bc.GREEN}\", type(y), bc.ENDC)"
   ]
  }
 ],
 "metadata": {
  "kernelspec": {
   "display_name": "venv",
   "language": "python",
   "name": "python3"
  },
  "language_info": {
   "codemirror_mode": {
    "name": "ipython",
    "version": 3
   },
   "file_extension": ".py",
   "mimetype": "text/x-python",
   "name": "python",
   "nbconvert_exporter": "python",
   "pygments_lexer": "ipython3",
   "version": "3.12.1"
  }
 },
 "nbformat": 4,
 "nbformat_minor": 2
}
