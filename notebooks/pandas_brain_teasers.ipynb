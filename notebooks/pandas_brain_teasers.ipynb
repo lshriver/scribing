{
 "cells": [
  {
   "cell_type": "markdown",
   "metadata": {},
   "source": [
    "# Pandas Brain Teasers"
   ]
  },
  {
   "cell_type": "code",
   "execution_count": 9,
   "metadata": {},
   "outputs": [],
   "source": [
    "import sys\n",
    "sys.path.append('/workspaces/scribing/')\n",
    "from colors import Bcolors as bc\n",
    "import pandas as pd\n",
    "import numpy as np"
   ]
  },
  {
   "cell_type": "markdown",
   "metadata": {},
   "source": [
    "## Relational Operators with Pandas Series\n",
    "\n",
    "A `ValueError` is raised when a function gets an argument of correct type but improper value.\n",
    "\n",
    "### Universal Functions\n",
    "Definition: A function that works on a scaler, `pandas.Series` and a NumPy array is called a `ufunc()`, which is short for **universal function**.\n",
    "\n",
    "> 📝 Note: Most of the functions from NumPy or Pandas, such as `min()` or `to_datetime()`, are universal functions (`ufun()`).\n",
    "\n",
    "\n",
    "NumPy has a `@vectorize` decorator for converting scalar functions to `ufunc()`.\n",
    "\n",
    "In the code below, pay attention to types. The output of `relu(n)` is of type `numpy.ndarray`, not `pandas.Series`."
   ]
  },
  {
   "cell_type": "code",
   "execution_count": null,
   "metadata": {},
   "outputs": [
    {
     "name": "stdout",
     "output_type": "stream",
     "text": [
      "[0 0 1]\n"
     ]
    }
   ],
   "source": [
    "@np.vectorize   \n",
    "\n",
    "def relu(n):\n",
    "  if n < 0:\n",
    "    return 0\n",
    "  return n\n",
    "    \n",
    "arr = pd.Series([-1, 0, 1])\n",
    "print(relu(arr))"
   ]
  },
  {
   "cell_type": "code",
   "execution_count": null,
   "metadata": {},
   "outputs": [],
   "source": []
  }
 ],
 "metadata": {
  "language_info": {
   "name": "python"
  }
 },
 "nbformat": 4,
 "nbformat_minor": 2
}
