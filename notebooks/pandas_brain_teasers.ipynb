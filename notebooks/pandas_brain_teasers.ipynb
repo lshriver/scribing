{
 "cells": [
  {
   "cell_type": "markdown",
   "metadata": {},
   "source": [
    "# Pandas Brain Teasers"
   ]
  },
  {
   "cell_type": "code",
   "execution_count": 9,
   "metadata": {},
   "outputs": [],
   "source": [
    "import sys\n",
    "sys.path.append('/workspaces/scribing/')\n",
    "from colors import Bcolors as bc\n",
    "import pandas as pd\n",
    "import numpy as np"
   ]
  },
  {
   "cell_type": "markdown",
   "metadata": {},
   "source": [
    "## Relational Operators with Pandas Series\n",
    "\n",
    "A `ValueError` is raised when a function gets an argument of correct type but improper value.\n",
    "\n",
    "### Universal Functions\n",
    "Definition: A function that works on a scaler, `pandas.Series` and a NumPy array is called a `ufunc()`, which is short for **universal function**.\n",
    "\n",
    "> 📝 Note: Most of the functions from NumPy or Pandas, such as `min()` or `to_datetime()`, are universal functions (`ufun()`).\n",
    "\n",
    "\n",
    "NumPy has a `@vectorize` decorator for converting scalar functions to `ufunc()`.\n",
    "\n",
    "In the code below, pay attention to types. The output of `relu(n)` is of type `numpy.ndarray`, not `pandas.Series`."
   ]
  },
  {
   "cell_type": "code",
   "execution_count": 1,
   "metadata": {},
   "outputs": [
    {
     "ename": "NameError",
     "evalue": "name 'np' is not defined",
     "output_type": "error",
     "traceback": [
      "\u001b[0;31m---------------------------------------------------------------------------\u001b[0m",
      "\u001b[0;31mNameError\u001b[0m                                 Traceback (most recent call last)",
      "\u001b[1;32m/workspaces/scribing/notebooks/pandas_brain_teasers.ipynb Cell 4\u001b[0m line \u001b[0;36m1\n\u001b[0;32m----> <a href='vscode-notebook-cell://codespaces%2Bliterate-broccoli-wrggrq9qxr4rhg4jj/workspaces/scribing/notebooks/pandas_brain_teasers.ipynb#W3sdnNjb2RlLXJlbW90ZQ%3D%3D?line=0'>1</a>\u001b[0m \u001b[39m@np\u001b[39m\u001b[39m.\u001b[39mvectorize   \n\u001b[1;32m      <a href='vscode-notebook-cell://codespaces%2Bliterate-broccoli-wrggrq9qxr4rhg4jj/workspaces/scribing/notebooks/pandas_brain_teasers.ipynb#W3sdnNjb2RlLXJlbW90ZQ%3D%3D?line=1'>2</a>\u001b[0m \n\u001b[1;32m      <a href='vscode-notebook-cell://codespaces%2Bliterate-broccoli-wrggrq9qxr4rhg4jj/workspaces/scribing/notebooks/pandas_brain_teasers.ipynb#W3sdnNjb2RlLXJlbW90ZQ%3D%3D?line=2'>3</a>\u001b[0m \u001b[39mdef\u001b[39;00m \u001b[39mrelu\u001b[39m(n):\n\u001b[1;32m      <a href='vscode-notebook-cell://codespaces%2Bliterate-broccoli-wrggrq9qxr4rhg4jj/workspaces/scribing/notebooks/pandas_brain_teasers.ipynb#W3sdnNjb2RlLXJlbW90ZQ%3D%3D?line=3'>4</a>\u001b[0m   \u001b[39mif\u001b[39;00m n \u001b[39m<\u001b[39m \u001b[39m0\u001b[39m:\n\u001b[1;32m      <a href='vscode-notebook-cell://codespaces%2Bliterate-broccoli-wrggrq9qxr4rhg4jj/workspaces/scribing/notebooks/pandas_brain_teasers.ipynb#W3sdnNjb2RlLXJlbW90ZQ%3D%3D?line=4'>5</a>\u001b[0m     \u001b[39mreturn\u001b[39;00m \u001b[39m0\u001b[39m\n",
      "\u001b[0;31mNameError\u001b[0m: name 'np' is not defined"
     ]
    }
   ],
   "source": [
    "@np.vectorize   \n",
    "\n",
    "def relu(n):\n",
    "  if n < 0:\n",
    "    return 0\n",
    "  return n\n",
    "    \n",
    "arr = pd.Series([-1, 0, 1])\n",
    "print(relu(arr))"
   ]
  },
  {
   "cell_type": "code",
   "execution_count": null,
   "metadata": {},
   "outputs": [],
   "source": []
  }
 ],
 "metadata": {
  "language_info": {
   "name": "python"
  }
 },
 "nbformat": 4,
 "nbformat_minor": 2
}
