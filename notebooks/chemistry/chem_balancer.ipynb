{
 "cells": [
  {
   "cell_type": "markdown",
   "metadata": {},
   "source": [
    "# Balancing Chemical Equations\n",
    "## ⚠️ Need to verify output!!!!!\n",
    "💡 Idea for this originated from the fact that a 'chemical equation balancing problem' is a linear Diophantine equation (from discrete math).\n",
    "\n",
    "✅ Tips to Ensure Success\n",
    "- Check Chemical Formulas: Ensure all chemical formulas in your equation are correct.\n",
    "- Consistent Notation: Use standard chemical notation, and avoid spaces within compound formulas.\n",
    "- Equation Format: The equation should be in the format Reactant1 + Reactant2 = Product1 + Product2."
   ]
  },
  {
   "cell_type": "code",
   "execution_count": 1,
   "metadata": {},
   "outputs": [
    {
     "name": "stdout",
     "output_type": "stream",
     "text": [
      "Balanced Equation:\n",
      "6Al(OH)3 + 5H2SO4 = 3Al2(SO4)3 + 14H2O\n"
     ]
    }
   ],
   "source": [
    "import chem_balancer\n",
    "\n",
    "equation = 'Al(OH)3 + H2SO4 = Al2(SO4)3 + H2O'\n",
    "\n",
    "balanced_equation = chem_balancer.balance_equation(equation)\n",
    "print('Balanced Equation:')\n",
    "print(balanced_equation)"
   ]
  },
  {
   "cell_type": "markdown",
   "metadata": {},
   "source": [
    "## Example 1: Combustion Reaction"
   ]
  },
  {
   "cell_type": "code",
   "execution_count": 2,
   "metadata": {},
   "outputs": [
    {
     "name": "stdout",
     "output_type": "stream",
     "text": [
      "Balanced Equation:\n",
      "0C2H6 + O2 = 0CO2 + 0H2O\n"
     ]
    }
   ],
   "source": [
    "equation = 'C2H6 + O2 = CO2 + H2O'\n",
    "balanced_equation = chem_balancer.balance_equation(equation)\n",
    "print('Balanced Equation:')\n",
    "print(balanced_equation)"
   ]
  },
  {
   "cell_type": "markdown",
   "metadata": {},
   "source": [
    "## Example 2: Redox Reaction"
   ]
  },
  {
   "cell_type": "code",
   "execution_count": 3,
   "metadata": {},
   "outputs": [
    {
     "name": "stdout",
     "output_type": "stream",
     "text": [
      "Balanced Equation:\n",
      "0C2H6 + O2 = 0CO2 + 0H2O\n"
     ]
    }
   ],
   "source": [
    "equation = 'C2H6 + O2 = CO2 + H2O'\n",
    "balanced_equation = chem_balancer.balance_equation(equation)\n",
    "print('Balanced Equation:')\n",
    "print(balanced_equation)"
   ]
  },
  {
   "cell_type": "markdown",
   "metadata": {},
   "source": [
    "## Example 3: Neutralization Reaction"
   ]
  },
  {
   "cell_type": "code",
   "execution_count": 4,
   "metadata": {},
   "outputs": [
    {
     "name": "stdout",
     "output_type": "stream",
     "text": [
      "Balanced Equation:\n",
      "6Al(OH)3 + 5H2SO4 = 3Al2(SO4)3 + 14H2O\n"
     ]
    }
   ],
   "source": [
    "equation = 'Al(OH)3 + H2SO4 = Al2(SO4)3 + H2O'\n",
    "balanced_equation = chem_balancer.balance_equation(equation)\n",
    "print('Balanced Equation:')\n",
    "print(balanced_equation)"
   ]
  }
 ],
 "metadata": {
  "kernelspec": {
   "display_name": "venv",
   "language": "python",
   "name": "python3"
  },
  "language_info": {
   "codemirror_mode": {
    "name": "ipython",
    "version": 3
   },
   "file_extension": ".py",
   "mimetype": "text/x-python",
   "name": "python",
   "nbconvert_exporter": "python",
   "pygments_lexer": "ipython3",
   "version": "3.12.1"
  }
 },
 "nbformat": 4,
 "nbformat_minor": 2
}
