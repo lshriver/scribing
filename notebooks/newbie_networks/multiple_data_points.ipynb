{
 "cells": [
  {
   "cell_type": "code",
   "execution_count": 11,
   "metadata": {},
   "outputs": [
    {
     "name": "stdout",
     "output_type": "stream",
     "text": [
      "(np.float64(2.7775866402942837), np.float64(7.797571499245237))\n",
      "(2.7775866402942837, 7.797571499245237)\n"
     ]
    }
   ],
   "source": [
    "import numpy as np\n",
    "from typing import Union\n",
    "\n",
    "def sigmoid(x: Union[int, float]) -> float:\n",
    "    \"\"\"\"The sigmoid activation function\"\"\"\n",
    "    return 1 / (1 + np.exp(-x)) # applying the sigmoid activation function\n",
    "\n",
    "def forward_propagation(input_data: np.ndarray, weights: np.ndarray, bias: np.ndarray) -> np.ndarray:\n",
    "    \"\"\"\n",
    "    Computes the forward propagation operation of a perceptron and \n",
    "    returns the output after applying the sigmoid activation function\n",
    "    \"\"\"\n",
    "    # take the dot product of input and weight and add the bias\n",
    "    return sigmoid(np.dot(input_data, weights) + bias) # the perceptron equation\n",
    "\n",
    "def calculate_error(y: np.ndarray, y_predicted: np.ndarray) -> np.ndarray:\n",
    "    \"\"\"\"Computes the binary cross entropy error\"\"\"\n",
    "    # the cross entropy function\n",
    "    return - y * np.log(y_predicted) - (1 - y) * np.log(1 - y_predicted)\n",
    "\n",
    "def ce_two_different_weights(X, Y, weights_0, weights_1, bias):\n",
    "    \"\"\"Compute the sum of the error using two different weights and the same bias\"\"\"\n",
    "    sum_error1 = 0.0\n",
    "    sum_error2 = 0.0\n",
    "    for idx in range(len(X)):\n",
    "        Y_predicted_1 = forward_propagation(X[idx], weights_0.T, bias) # predicted label for first set of weights\n",
    "        sum_error1 += calculate_error(Y[idx], Y_predicted_1)\n",
    "        Y_predicted_2 = forward_propagation(X[idx], weights_1.T, bias) # predicted label for second set of weights\n",
    "        sum_error2 += calculate_error(Y[idx], Y_predicted_2)\n",
    "    return sum_error1, sum_error2\n",
    "\n",
    "X = np.array([[2, 3], [1,4], [-1, -3], [-4, -5]])\n",
    "weights_0 = np.array([0.0, 0.0])\n",
    "weights_1 = np.array([1.0, -1.0])\n",
    "bias = 0.1\n",
    "Y = np.array([1.0, 1.0, 0.0, 0.0])\n",
    "\n",
    "\n",
    "errors = ce_two_different_weights(X, Y, weights_0, weights_1, bias)\n",
    "errors_python_floats = tuple(float(error) for error in errors)\n",
    "print(errors_python_floats)                                         "
   ]
  }
 ],
 "metadata": {
  "kernelspec": {
   "display_name": "qenv",
   "language": "python",
   "name": "python3"
  },
  "language_info": {
   "codemirror_mode": {
    "name": "ipython",
    "version": 3
   },
   "file_extension": ".py",
   "mimetype": "text/x-python",
   "name": "python",
   "nbconvert_exporter": "python",
   "pygments_lexer": "ipython3",
   "version": "3.12.1"
  }
 },
 "nbformat": 4,
 "nbformat_minor": 2
}
