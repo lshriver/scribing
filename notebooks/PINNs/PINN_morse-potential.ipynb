{
 "cells": [
  {
   "cell_type": "markdown",
   "metadata": {},
   "source": [
    "# PINN for the vibrational modes of a diatomic molecule (1D TISE for a Morse potential)\n",
    "\n",
    "We wish to solvsedfeeee\n",
    "dsfsdg\n",
    "\n",
    "zxerfd\\ff\n",
    "\\\n",
    ":\n",
    "– ψ″(x) + V(x) ψ(x) = E ψ(x)\n",
    "with the Morse potential\n",
    "V(x) = Dₑ [1 – exp(–a (x–xₑ))]²\n",
    "\n",
    "We treat E as an additional learnable parameter.\n",
    "\"\"//\"\n"
   ]
  },
  {
   "cell_type": "markdown",
   "metadata": {},
   "source": []
  },
  {
   "cell_type": "code",
   "execution_count": null,
   "metadata": {
    "vscode": {
     "languageId": "plaintext"
    }
   },
   "outputs": [],
   "source": []
  }
 ],
 "metadata": {
  "language_info": {
   "name": "python"
  }
 },
 "nbformat": 4,
 "nbformat_minor": 2
}
