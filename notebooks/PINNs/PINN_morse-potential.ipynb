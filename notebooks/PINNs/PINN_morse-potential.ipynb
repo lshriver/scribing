{
 "cells": [
  {
   "cell_type": "markdown",
   "metadata": {},
   "source": [
    "# PINN for the vibrational modes of a diatomic molecule (1D TISE for a Morse potential):\n",
    "\n",
    "We wish to solve the 1D time-independent Schrodinger equation for an electron in a hydrogen fluoride molecule.\n",
    "$$ - \\frac{\\hbar^2}{2m}\\frac{\\partial^2 \\psi}{\\partial x^2} + V(x)\\psi(x) = E\\psi(x)$$\n",
    "\n",
    "with the Morse potential:\n",
    "$$V(x)=D_e [1-e^{-\\alpha (x-x_e)}]^2$$\n",
    "with the Morse potential\n",
    "\n",
    "We treat $E$ as an additional learnable parameter.\n",
    "\n"
   ]
  },
  {
   "cell_type": "markdown",
   "metadata": {},
   "source": []
  },
  {
   "cell_type": "code",
   "execution_count": null,
   "metadata": {
    "vscode": {
     "languageId": "plaintext"
    }
   },
   "outputs": [],
   "source": [
    "import torch\n",
    "import torch.nn as nn\n",
    "import torch.optim as optim\n",
    "import numpy as np\n"
   ]
  }
 ],
 "metadata": {
  "language_info": {
   "name": "python"
  }
 },
 "nbformat": 4,
 "nbformat_minor": 2
}
