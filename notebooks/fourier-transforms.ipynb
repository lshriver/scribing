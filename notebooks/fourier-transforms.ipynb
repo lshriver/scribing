{
 "cells": [
  {
   "cell_type": "code",
   "execution_count": 4,
   "metadata": {},
   "outputs": [],
   "source": [
    "from scipy import *\n",
    "from scipy import fftpack\n",
    "import matplotlib.pyplot as plt\n",
    "import numpy as np\n",
    "\n",
    "signal_time = 0.5    # signal length [s]\n",
    "sample_rate = 500    # sampling rate [Hz]\n",
    "\n",
    "dt = 1 / sample_rate    # time between samples [s]\n",
    "df = 1 / signal_time    # frequency between 'frequency points' [Hz]\n",
    "\n",
    "# array for time\n",
    "t = np.arange(0, signal_time, dt)"
   ]
  }
 ],
 "metadata": {
  "kernelspec": {
   "display_name": "venv",
   "language": "python",
   "name": "python3"
  },
  "language_info": {
   "codemirror_mode": {
    "name": "ipython",
    "version": 3
   },
   "file_extension": ".py",
   "mimetype": "text/x-python",
   "name": "python",
   "nbconvert_exporter": "python",
   "pygments_lexer": "ipython3",
   "version": "3.12.1"
  }
 },
 "nbformat": 4,
 "nbformat_minor": 2
}
