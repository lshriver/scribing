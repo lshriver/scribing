{
 "cells": [
  {
   "cell_type": "code",
   "execution_count": 1,
   "metadata": {},
   "outputs": [
    {
     "data": {
      "text/plain": [
       "Text(0.5, 0, 'Initial Conditions for θᵢ')"
      ]
     },
     "execution_count": 1,
     "metadata": {},
     "output_type": "execute_result"
    },
    {
     "data": {
      "image/png": "[encoded data removed]",
      "text/plain": [
       "<Figure size 600x600 with 2 Axes>"
      ]
     },
     "metadata": {},
     "output_type": "display_data"
    }
   ],
   "source": [
    "import numpy as np\n",
    "import matplotlib.pyplot as plt \n",
    "from scipy.stats import beta\n",
    "from scipy.integrate import odeint\n",
    "import networkx as nx \n",
    "import time \n",
    "\n",
    "start_time = time.time()\n",
    "\n",
    "# Set up plotting parameters\n",
    "plt.rcParams['figure.figsize'] = [8, 8]\n",
    "plt.rcParams['font.size'] = 10\n",
    "\n",
    "DOT_SIZE = 250\n",
    "\n",
    "# Parameters\n",
    "N = 500     # number of oscillators\n",
    "\n",
    "# Create beta distribution\n",
    "a1, b1 = 2, 2\n",
    "W = beta.rvs(a1, b1, size=N)    # intrinsic frequencies\n",
    "\n",
    "a2, b2 = 1, 1\n",
    "P0 = 2 * np.pi * beta.rvs(a2, b2, size=N) - np.pi   # initial phases\n",
    "\n",
    "K = 50      # coupling constant\n",
    "Kn = K/N    # coupling strength\n",
    "tmax = 50\n",
    "t = np.linspace(0, tmax, 1000)\n",
    "\n",
    "# Plot PDFs\n",
    "plt.figure(figsize=(6, 6))\n",
    "plt.subplot(2, 1, 1)\n",
    "plt.hist(W, color='lightgreen')\n",
    "plt.grid(True)\n",
    "plt.xlabel('Intrinsic Frequency Distribution')\n",
    "\n",
    "plt.subplot(2, 1, 2)\n",
    "plt.hist(P0, bins=np.linspace(-np.pi, np.pi, 21), color='skyblue')\n",
    "plt.grid(True)\n",
    "plt.xlabel('Initial Conditions for θᵢ')"
   ]
  },
  {
   "cell_type": "markdown",
   "metadata": {},
   "source": [
    "## Phase Frustration Matrix\n",
    "```\n",
    "p_alpha = 0\n",
    "alpha_0 = 0\n",
    "alpha = alpha_0 * np.pi\n",
    "alpha_matrix = np.random.rand(N, N)\n",
    "alpha_matrix = np.triu(alpha_matrix) + np.triu(alpha_matrix, 1).T\n",
    "np.fill_diagonal(alpha_matrix, 0)\n",
    "alpha_matrix = (alpha_matrix < p_alpha) * alpha"
   ]
  },
  {
   "cell_type": "code",
   "execution_count": 14,
   "metadata": {},
   "outputs": [],
   "source": [
    "# Phase Frustration Matrix\n",
    "p_alpha = 0.5       # threshold probability for phase frustration\n",
    "alpha_0 = 1         # scaling factor\n",
    "#alpha = alpha_0 * np.pi\n",
    "alpha_matrix = np.random.rand(N,N)\n",
    "alpha_matrix = np.triu(alpha_matrix) + np.triu(alpha_matrix,1).T #⚠️⚠️\n",
    "alpha_matrix = (alpha_matrix < p_alpha) * alpha_0\n",
    "np.fill_diagonal(alpha_matrix, 0)"
   ]
  },
  {
   "cell_type": "code",
   "execution_count": 16,
   "metadata": {},
   "outputs": [
    {
     "ename": "AttributeError",
     "evalue": "module 'networkx' has no attribute 'random_partition'",
     "output_type": "error",
     "traceback": [
      "\u001b[0;31m---------------------------------------------------------------------------\u001b[0m",
      "\u001b[0;31mAttributeError\u001b[0m                            Traceback (most recent call last)",
      "Cell \u001b[0;32mIn[16], line 10\u001b[0m\n\u001b[1;32m      8\u001b[0m p_edge \u001b[38;5;241m=\u001b[39m \u001b[38;5;241m0.05\u001b[39m \u001b[38;5;66;03m# probability of adjacency\u001b[39;00m\n\u001b[1;32m      9\u001b[0m l \u001b[38;5;241m=\u001b[39m \u001b[38;5;241m0.75\u001b[39m      \u001b[38;5;66;03m# proportion of links within groups\u001b[39;00m\n\u001b[0;32m---> 10\u001b[0m A \u001b[38;5;241m=\u001b[39m \u001b[43mrandom_modular_graph\u001b[49m\u001b[43m(\u001b[49m\u001b[43mN\u001b[49m\u001b[43m,\u001b[49m\u001b[43m \u001b[49m\u001b[43mC\u001b[49m\u001b[43m,\u001b[49m\u001b[43m \u001b[49m\u001b[43mp_edge\u001b[49m\u001b[43m,\u001b[49m\u001b[43m \u001b[49m\u001b[43ml\u001b[49m\u001b[43m)\u001b[49m\n",
      "Cell \u001b[0;32mIn[16], line 4\u001b[0m, in \u001b[0;36mrandom_modular_graph\u001b[0;34m(N, C, p_edge, l)\u001b[0m\n\u001b[1;32m      2\u001b[0m \u001b[38;5;28;01mdef\u001b[39;00m \u001b[38;5;21mrandom_modular_graph\u001b[39m(N, C, p_edge, l):\n\u001b[1;32m      3\u001b[0m     \u001b[38;5;66;03m# This is a simplified version\u001b[39;00m\n\u001b[0;32m----> 4\u001b[0m     G \u001b[38;5;241m=\u001b[39m \u001b[43mnx\u001b[49m\u001b[38;5;241;43m.\u001b[39;49m\u001b[43mrandom_partition\u001b[49m([N\u001b[38;5;241m/\u001b[39m\u001b[38;5;241m/\u001b[39mC] \u001b[38;5;241m*\u001b[39m C, p_edge \u001b[38;5;241m*\u001b[39m \u001b[38;5;241m1\u001b[39m, p_edge \u001b[38;5;241m*\u001b[39m (\u001b[38;5;241m1\u001b[39m\u001b[38;5;241m-\u001b[39ml))\n\u001b[1;32m      5\u001b[0m     \u001b[38;5;28;01mreturn\u001b[39;00m nx\u001b[38;5;241m.\u001b[39mto_numpy_array(G)\n",
      "\u001b[0;31mAttributeError\u001b[0m: module 'networkx' has no attribute 'random_partition'"
     ]
    }
   ],
   "source": [
    "# Create random modular graph\n",
    "def random_modular_graph(N, C, p_edge, l):\n",
    "    # This is a simplified version\n",
    "    G = nx.random_partition([N//C] * C, p_edge * 1, p_edge * (1-l))\n",
    "    return nx.to_numpy_array(G)\n",
    "\n",
    "C = 10      # Number of clusters\n",
    "p_edge = 0.05 # probability of adjacency\n",
    "l = 0.75      # proportion of links within groups\n",
    "A = random_modular_graph(N, C, p_edge, l)\n",
    "A = A * K"
   ]
  },
  {
   "cell_type": "code",
   "execution_count": null,
   "metadata": {},
   "outputs": [],
   "source": []
  },
  {
   "cell_type": "markdown",
   "metadata": {},
   "source": [
    "```\n",
    "# Create random modular graph\n",
    "def random_modular_graph(N, C, p_edge, l):\n",
    "    # This is a simplified version - you might want to implement a more sophisticated\n",
    "    # random modular graph generator\n",
    "    G = nx.random_partition_graph([N//C] * C, p_edge * l, p_edge * (1-l))\n",
    "    return nx.to_numpy_array(G)\n",
    "\n",
    "C = 10  # number of clusters\n",
    "p_edge = 0.05  # probability of attachment\n",
    "l = 0.75  # proportion of links within modules\n",
    "A = random_modular_graph(N, C, p_edge, l)\n",
    "A_K = A * K\n",
    "\n",
    "# Define the system of differential equations\n",
    "def dPdt(P, t, W, A_K, alpha_matrix):\n",
    "    P_mesh = np.meshgrid(P, P)[0]\n",
    "    return W + (1/N) * np.sum(A_K * np.sin(P_mesh - P_mesh.T - alpha_matrix), axis=1)\n",
    "\n",
    "# Solve the system\n",
    "P = odeint(dPdt, P0, t, args=(W, A_K, alpha_matrix))\n",
    "\n",
    "# Visualization\n",
    "plt.figure(figsize=(12, 12))\n",
    "for idx in range(len(t)):\n",
    "    plt.clf()\n",
    "    \n",
    "    # Plot 1: Oscillators on unit circle\n",
    "    plt.subplot(2, 2, 1)\n",
    "    plt.scatter(np.cos(P[idx]), np.sin(P[idx]), c=range(N), s=DOT_SIZE, cmap='hsv')\n",
    "    plt.grid(True)\n",
    "    plt.xlabel('cos(θᵢ)')\n",
    "    plt.ylabel('sin(θᵢ)')\n",
    "    plt.xlim(-1.5, 1.5)\n",
    "    plt.ylim(-1.5, 1.5)\n",
    "\n",
    "    # Plot 2: Phase evolution\n",
    "    plt.subplot(2, 2, 2)\n",
    "    plt.scatter([t[idx]]*N, P[idx], c=range(N), s=DOT_SIZE, cmap='hsv')\n",
    "    plt.xlabel('time(t)')\n",
    "    plt.ylabel('θᵢ(t)')\n",
    "\n",
    "    # Plot 3: Order parameter\n",
    "    plt.subplot(2, 2, 3)\n",
    "    circle = plt.Circle((0, 0), 1, fill=False, color='orange')\n",
    "    plt.gca().add_artist(circle)\n",
    "    q = np.exp(1j * P[idx])\n",
    "    q_sum = np.sum(q)/N\n",
    "    plt.plot(q_sum.real, q_sum.imag, 'o', color=[0, 0.447, 0.741])\n",
    "    plt.grid(True)\n",
    "    plt.xlim(-1.5, 1.5)\n",
    "    plt.ylim(-1.5, 1.5)\n",
    "    plt.xlabel('Re(e^{iθⱼ})')\n",
    "    plt.ylabel('Im(∑e^{iθⱼ}/N)')\n",
    "\n",
    "    # Plot 4: Order parameter magnitude\n",
    "    plt.subplot(2, 2, 4)\n",
    "    r_sum = np.abs(np.sum(np.exp(1j * P[:idx+1]), axis=1)/N)\n",
    "    plt.plot(t[:idx+1], r_sum, color=[0, 0.447, 0.741])\n",
    "    plt.grid(True)\n",
    "    plt.xlabel('time (t)')\n",
    "    plt.ylabel('R = |∑e^{iθⱼ(t)}/N|')\n",
    "    plt.ylim(0, 1.5)\n",
    "\n",
    "    plt.pause(0.1)\n",
    "\n",
    "print(f\"Execution time: {time.time() - start_time} seconds\")```"
   ]
  }
 ],
 "metadata": {
  "kernelspec": {
   "display_name": "venv",
   "language": "python",
   "name": "python3"
  },
  "language_info": {
   "codemirror_mode": {
    "name": "ipython",
    "version": 3
   },
   "file_extension": ".py",
   "mimetype": "text/x-python",
   "name": "python",
   "nbconvert_exporter": "python",
   "pygments_lexer": "ipython3",
   "version": "3.12.1"
  }
 },
 "nbformat": 4,
 "nbformat_minor": 2
}
