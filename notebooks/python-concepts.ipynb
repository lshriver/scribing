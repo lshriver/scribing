{
 "cells": [
  {
   "cell_type": "markdown",
   "metadata": {},
   "source": [
    "# Python Concepts 🔰\n",
    "Source: [10 Important Python Concepts in 20 Minutes](https://youtu.be/Gx5qb1uHss4)"
   ]
  },
  {
   "cell_type": "code",
   "execution_count": 1,
   "metadata": {},
   "outputs": [],
   "source": [
    "import sys\n",
    "sys.path.append('/workspaces/scribing/')\n",
    "from colors import Bcolors as bc"
   ]
  },
  {
   "cell_type": "markdown",
   "metadata": {},
   "source": [
    "## Basic Data Types"
   ]
  },
  {
   "cell_type": "code",
   "execution_count": 2,
   "metadata": {},
   "outputs": [],
   "source": [
    "number: int = 27\n",
    "decimal: float = 2.7\n",
    "text: str = 'Hello, world!'\n",
    "active: bool = False\n",
    "\n",
    "names: list = ['Lauren', 'Paul', 'Allison']\n",
    "coordinates: tuple = (3.5, 1.9)\n",
    "unique: set = {1, 4, 1, 9}\n",
    "data: dict = {'name': 'Renzo', 'age': 22}"
   ]
  },
  {
   "cell_type": "markdown",
   "metadata": {},
   "source": [
    "## Type Annotations\n",
    "📝 Notes\n",
    "- Type annotations don't have any effect on how the code runs\n",
    "- It only serves as a \"⚠️-control\" tool for the developer "
   ]
  },
  {
   "cell_type": "code",
   "execution_count": 3,
   "metadata": {},
   "outputs": [
    {
     "name": "stdout",
     "output_type": "stream",
     "text": [
      "22\n"
     ]
    }
   ],
   "source": [
    "# Examples\n",
    "name: str = 'Renzo'\n",
    "age: int = 22\n",
    "\n",
    "print(age)"
   ]
  },
  {
   "cell_type": "markdown",
   "metadata": {},
   "source": [
    "## Constants"
   ]
  },
  {
   "cell_type": "code",
   "execution_count": 4,
   "metadata": {},
   "outputs": [],
   "source": [
    "from typing import Final\n",
    "\n",
    "VERSION: Final[str] = '0.0.0'\n",
    "PI: Final[float] = 3.1415       "
   ]
  },
  {
   "cell_type": "markdown",
   "metadata": {},
   "source": [
    "## Functions"
   ]
  },
  {
   "cell_type": "code",
   "execution_count": 5,
   "metadata": {},
   "outputs": [
    {
     "name": "stdout",
     "output_type": "stream",
     "text": [
      "Current 📅 and 🕰️:\n",
      "\u001b[32m 2024-10-03 08:33:43.998652 \u001b[0m\n",
      "Current 📅 and 🕰️:\n",
      "\u001b[32m 2024-10-03 08:33:43.998729 \u001b[0m\n"
     ]
    }
   ],
   "source": [
    "from datetime import datetime\n",
    "\n",
    "def show_date() -> None:\n",
    "    print('Current 📅 and 🕰️:')\n",
    "    print(bc.GREEN, datetime.now(), bc.ENDC)\n",
    "\n",
    "show_date()\n",
    "show_date()"
   ]
  },
  {
   "cell_type": "code",
   "execution_count": 6,
   "metadata": {},
   "outputs": [
    {
     "name": "stdout",
     "output_type": "stream",
     "text": [
      "Hello \u001b[36m Bilbo \u001b[0m ! It's great to see you, welcome welcome!\n",
      "Hello \u001b[36m Jesse \u001b[0m ! It's great to see you, welcome welcome!\n",
      "Hello \u001b[36m Dallas \u001b[0m ! It's great to see you, welcome welcome!\n",
      "Hello \u001b[36m Erich \u001b[0m ! It's great to see you, welcome welcome!\n"
     ]
    }
   ],
   "source": [
    "# Example function with parameter(s)\n",
    "def greet(name: str) -> None:\n",
    "    print(f'Hello', bc.CYAN, name, bc.ENDC, f\"! It's great to see you, welcome welcome!\")\n",
    "\n",
    "greet('Bilbo')\n",
    "greet('Jesse')\n",
    "greet('Dallas')\n",
    "greet('Erich')"
   ]
  },
  {
   "cell_type": "code",
   "execution_count": 7,
   "metadata": {},
   "outputs": [
    {
     "name": "stdout",
     "output_type": "stream",
     "text": [
      "71\n"
     ]
    }
   ],
   "source": [
    "# Example function with return keyword\n",
    "def add(a: float, b: float) -> float:\n",
    "    return a + b\n",
    "\n",
    "print(add(63, 8))"
   ]
  },
  {
   "cell_type": "markdown",
   "metadata": {},
   "source": [
    "## Classes\n",
    "- \"A class is just a blueprint for code.\"\n",
    "- \"Classes simplify the process of making objects\""
   ]
  },
  {
   "cell_type": "code",
   "execution_count": 10,
   "metadata": {},
   "outputs": [],
   "source": [
    "class Car:\n",
    "    def __init__(self, color: str, horsepower: int, torque: int) -> None:\n",
    "        self.color = color\n",
    "        self.horsepower = horsepower\n",
    "        self.torque = torque            # [lb-ft]"
   ]
  },
  {
   "cell_type": "markdown",
   "metadata": {},
   "source": [
    "## Initialisers\n",
    "Initilaize a class by creating a customized 'instance' (i.e., actual object) of our class."
   ]
  },
  {
   "cell_type": "code",
   "execution_count": 26,
   "metadata": {},
   "outputs": [
    {
     "name": "stdout",
     "output_type": "stream",
     "text": [
      "Color: \t\t \u001b[36m blue \u001b[0m\n",
      "Horsepower: \t \u001b[36m 181 [lb-ft/s] \u001b[0m\n",
      "Torque: \t \u001b[36m 190 [lb-ft] \u001b[0m\n"
     ]
    }
   ],
   "source": [
    "escape: Car = Car('blue', 181, 190)\n",
    "\n",
    "# Print attributes associated with our instance\n",
    "white = bc.ENDC\n",
    "cyan = bc.CYAN\n",
    "print(\"Color: \\t\\t\", cyan, escape.color, white)\n",
    "print(\"Horsepower: \\t\", cyan, escape.horsepower, f'[lb-ft/s]', white)\n",
    "print(\"Torque: \\t\", cyan, escape.torque, f'[lb-ft]', white)"
   ]
  },
  {
   "cell_type": "markdown",
   "metadata": {},
   "source": [
    "## Methods\n",
    "\"A method is just a function defined inside a class\""
   ]
  },
  {
   "cell_type": "code",
   "execution_count": 48,
   "metadata": {},
   "outputs": [
    {
     "name": "stdout",
     "output_type": "stream",
     "text": [
      "Vulpix is sleeping!\n",
      "Vulpix is awake!\n",
      "Original 151? ✔️\n",
      "Vulpix is a 🔥 type with \u001b[92m50 HP\u001b[0m\n"
     ]
    }
   ],
   "source": [
    "class Pokemon:\n",
    "    def __init__(self, name: str, type: str, original: bool) -> None:\n",
    "        self.name = name        # attribute 1\n",
    "        self.type = type        # attribute 2\n",
    "        self.original = original            # attribute 3\n",
    "\n",
    "    # method 1:\n",
    "    def sleep(self) -> None:                    \n",
    "        print(f'{self.name} is sleeping!')\n",
    "\n",
    "    # method 2:\n",
    "    def awake(self) -> None:\n",
    "        print(f'{self.name} is awake!')\n",
    "\n",
    "    # method 3:\n",
    "    def get_info(self, hp: int) -> None:\n",
    "        if self.original == True:\n",
    "            print('Original 151? ✔️')\n",
    "        else:\n",
    "            print('Original 151? ✖️')\n",
    "\n",
    "        print(f'{self.name} is a {self.type} type with {bc.OKGREEN}{hp} HP{white}')\n",
    "\n",
    "vulpix: Pokemon = Pokemon('Vulpix', '🔥', True)\n",
    "vulpix.sleep()\n",
    "vulpix.awake()\n",
    "vulpix.get_info(50)\n",
    "\n"
   ]
  },
  {
   "cell_type": "markdown",
   "metadata": {},
   "source": [
    "## Dunder Methods\n",
    "cont @15:21"
   ]
  }
 ],
 "metadata": {
  "kernelspec": {
   "display_name": "venv",
   "language": "python",
   "name": "python3"
  },
  "language_info": {
   "codemirror_mode": {
    "name": "ipython",
    "version": 3
   },
   "file_extension": ".py",
   "mimetype": "text/x-python",
   "name": "python",
   "nbconvert_exporter": "python",
   "pygments_lexer": "ipython3",
   "version": "3.12.1"
  }
 },
 "nbformat": 4,
 "nbformat_minor": 2
}
