{
 "cells": [
  {
   "cell_type": "markdown",
   "metadata": {},
   "source": [
    "# Python Concepts 🔰\n",
    "Source: [10 Important Python Concepts in 20 Minutes](https://youtu.be/Gx5qb1uHss4)"
   ]
  },
  {
   "cell_type": "code",
   "execution_count": 1,
   "metadata": {},
   "outputs": [],
   "source": [
    "import sys\n",
    "sys.path.append('/workspaces/scribing/')\n",
    "from colors import Bcolors as bc"
   ]
  },
  {
   "cell_type": "markdown",
   "metadata": {},
   "source": [
    "## Basic Data Types"
   ]
  },
  {
   "cell_type": "code",
   "execution_count": 2,
   "metadata": {},
   "outputs": [],
   "source": [
    "number: int = 27\n",
    "decimal: float = 2.7\n",
    "text: str = 'Hello, world!'\n",
    "active: bool = False\n",
    "\n",
    "names: list = ['Lauren', 'Paul', 'Allison']\n",
    "coordinates: tuple = (3.5, 1.9)\n",
    "unique: set = {1, 4, 1, 9}\n",
    "data: dict = {'name': 'Renzo', 'age': 22}"
   ]
  },
  {
   "cell_type": "markdown",
   "metadata": {},
   "source": [
    "## Type Annotations\n",
    "📝 Notes\n",
    "- Type annotations don't have any effect on how the code runs\n",
    "- It only serves as a \"⚠️-control\" tool for the developer "
   ]
  },
  {
   "cell_type": "code",
   "execution_count": 3,
   "metadata": {},
   "outputs": [
    {
     "name": "stdout",
     "output_type": "stream",
     "text": [
      "22\n"
     ]
    }
   ],
   "source": [
    "# Examples\n",
    "name: str = 'Renzo'\n",
    "age: int = 22\n",
    "\n",
    "print(age)"
   ]
  },
  {
   "cell_type": "markdown",
   "metadata": {},
   "source": [
    "## Constants"
   ]
  },
  {
   "cell_type": "code",
   "execution_count": 4,
   "metadata": {},
   "outputs": [],
   "source": [
    "from typing import Final\n",
    "\n",
    "VERSION: Final[str] = '0.0.0'\n",
    "PI: Final[float] = 3.1415       "
   ]
  },
  {
   "cell_type": "markdown",
   "metadata": {},
   "source": [
    "## Functions"
   ]
  },
  {
   "cell_type": "code",
   "execution_count": 5,
   "metadata": {},
   "outputs": [
    {
     "name": "stdout",
     "output_type": "stream",
     "text": [
      "Current 📅 and 🕰️:\n",
      "\u001b[32m 2024-10-03 08:33:43.998652 \u001b[0m\n",
      "Current 📅 and 🕰️:\n",
      "\u001b[32m 2024-10-03 08:33:43.998729 \u001b[0m\n"
     ]
    }
   ],
   "source": [
    "from datetime import datetime\n",
    "\n",
    "def show_date() -> None:\n",
    "    print('Current 📅 and 🕰️:')\n",
    "    print(bc.GREEN, datetime.now(), bc.ENDC)\n",
    "\n",
    "show_date()\n",
    "show_date()"
   ]
  },
  {
   "cell_type": "code",
   "execution_count": 6,
   "metadata": {},
   "outputs": [
    {
     "name": "stdout",
     "output_type": "stream",
     "text": [
      "Hello \u001b[36m Bilbo \u001b[0m ! It's great to see you, welcome welcome!\n",
      "Hello \u001b[36m Jesse \u001b[0m ! It's great to see you, welcome welcome!\n",
      "Hello \u001b[36m Dallas \u001b[0m ! It's great to see you, welcome welcome!\n",
      "Hello \u001b[36m Erich \u001b[0m ! It's great to see you, welcome welcome!\n"
     ]
    }
   ],
   "source": [
    "# Example function with parameter(s)\n",
    "def greet(name: str) -> None:\n",
    "    print(f'Hello', bc.CYAN, name, bc.ENDC, f\"! It's great to see you, welcome welcome!\")\n",
    "\n",
    "greet('Bilbo')\n",
    "greet('Jesse')\n",
    "greet('Dallas')\n",
    "greet('Erich')"
   ]
  },
  {
   "cell_type": "code",
   "execution_count": 7,
   "metadata": {},
   "outputs": [
    {
     "name": "stdout",
     "output_type": "stream",
     "text": [
      "71\n"
     ]
    }
   ],
   "source": [
    "# Example function with return keyword\n",
    "def add(a: float, b: float) -> float:\n",
    "    return a + b\n",
    "\n",
    "print(add(63, 8))"
   ]
  },
  {
   "cell_type": "markdown",
   "metadata": {},
   "source": [
    "## Classes\n",
    "\"A class is just a blueprint for code.\""
   ]
  },
  {
   "cell_type": "code",
   "execution_count": 8,
   "metadata": {},
   "outputs": [
    {
     "name": "stdout",
     "output_type": "stream",
     "text": [
      "\u001b[34m blue\n",
      "\u001b[35m 181\n",
      "\u001b[92m 190\n",
      "\u001b[0m\n"
     ]
    }
   ],
   "source": [
    "class Car:\n",
    "    def __init__(self, color: str, horsepower: int, torque: int) -> None:\n",
    "        self.color = color\n",
    "        self.horsepower = horsepower\n",
    "        self.torque = torque            # [lb-ft]\n",
    "\n",
    "escape: Car = Car('blue', 181, 190)     # customized 'instance' of our car class\n",
    "print(bc.BLUE, escape.color)\n",
    "print(bc.PURPLE, escape.horsepower)\n",
    "print(bc.OKGREEN, escape.torque)\n",
    " \n",
    "print(bc.ENDC) # reset output text color to white\n"
   ]
  },
  {
   "cell_type": "markdown",
   "metadata": {},
   "source": [
    "## Initialisers"
   ]
  },
  {
   "cell_type": "code",
   "execution_count": null,
   "metadata": {},
   "outputs": [],
   "source": []
  },
  {
   "cell_type": "markdown",
   "metadata": {},
   "source": [
    "## Methods"
   ]
  }
 ],
 "metadata": {
  "kernelspec": {
   "display_name": "venv",
   "language": "python",
   "name": "python3"
  },
  "language_info": {
   "codemirror_mode": {
    "name": "ipython",
    "version": 3
   },
   "file_extension": ".py",
   "mimetype": "text/x-python",
   "name": "python",
   "nbconvert_exporter": "python",
   "pygments_lexer": "ipython3",
   "version": "3.12.1"
  }
 },
 "nbformat": 4,
 "nbformat_minor": 2
}
