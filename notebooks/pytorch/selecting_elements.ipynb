{
 "cells": [
  {
   "cell_type": "markdown",
   "metadata": {},
   "source": [
    "# Selecting Elements from a Tensor"
   ]
  },
  {
   "cell_type": "markdown",
   "metadata": {},
   "source": [
    "## Selecting tensor with index\n",
    "\n",
    "Example: Take a 2-dimensional tensor as an example. Consider the matrix.\n",
    "- `tensor[2, 3]`: Get only one value.\n",
    "- `tensor[:, 1]`: Get teh second column of the tensor.\n",
    "- `tensor[1, :]`: Get the second row from the tensor. \n",
    "\n",
    "For higher-dimensional tensors, the operations are the same. Such as `tensor[:,2,:]`."
   ]
  },
  {
   "cell_type": "code",
   "execution_count": 5,
   "metadata": {},
   "outputs": [
    {
     "name": "stdout",
     "output_type": "stream",
     "text": [
      "The original teonsor\n",
      "tensor([[1, 2, 3],\n",
      "        [4, 5, 6],\n",
      "        [7, 8, 9]])\n",
      "Select only one element\n",
      "tensor(5)\n"
     ]
    }
   ],
   "source": [
    "# Select element with [] operator\n",
    "import torch\n",
    "\n",
    "a = torch.arange(1, 10).reshape((3, 3))\n",
    "\n",
    "print(\"The original teonsor\")\n",
    "print(a)\n",
    "\n",
    "print(\"Select only one element\")\n",
    "print(a[1, 1])\n"
   ]
  },
  {
   "cell_type": "markdown",
   "metadata": {},
   "source": [
    "## Selecting tensor with `index_select`\n",
    "`PyTorch` provides a function `index_select` which enables us to select some elements from a tensor with indices. \n",
    "\n",
    "At first, we need to create a tensor (`Long` type) that indicates the indices we want to select. \n",
    "- Since we want to use `index` to locate the element in the tensor, this tensor must be of `Long` type.\n",
    "\n",
    "`index_select` requires the following parameters:\n",
    "- The first parameter is the tensor we want to select. \n",
    "- `dim`: It indicates the dimension in which we index. In this example, the tensor is a 2-dimensional tensor.\n",
    "    - `dim=0` means the row\n",
    "    - `dim=1` means the column\n",
    "- `index`: The 1-D tensor containing the indices to index.\n",
    "\n",
    "### Task 1: Create a 2-D tensor and store it to `a`\n",
    "### Task 2: Create a `Long` type tensor. \n",
    "This is a 1-D tensor containing the indices to the index.\n",
    "### Task 3: Select tensor from `a` with specific index and dim."
   ]
  },
  {
   "cell_type": "code",
   "execution_count": 10,
   "metadata": {},
   "outputs": [
    {
     "name": "stdout",
     "output_type": "stream",
     "text": [
      "tensor([0, 2])\n",
      "tensor([[1, 2, 3],\n",
      "        [7, 8, 9]])\n"
     ]
    }
   ],
   "source": [
    "import torch\n",
    "a = torch.arange(1,10).reshape((3, 3))\n",
    "\n",
    "indices = torch.LongTensor([0, 2])\n",
    "print(indices)\n",
    "\n",
    "result = torch.index_select(a, dim=0, index=indices)\n",
    "print(result)"
   ]
  },
  {
   "cell_type": "markdown",
   "metadata": {},
   "source": [
    "## Selecting tensor with a mask\n",
    "\n",
    "The mask tensor is `BoolTensor`, which identifies which elements are chosen. \n",
    "- The shape of the mask tensor and the original tensor don't need to match, but they must be broadcastable.\n",
    "- **Note:** In this notebook, we will only consider situations where the shape of the original tensor and mask are the same.\n",
    "\n",
    "I.e., PyTorch enables us to pass a tensor of Boolean type to `masked_select`, which selectes desired elements from another tensor.\n",
    "- The first parameter is the original tensor you want to select and the second is the mask tensor.\n",
    "- **Note:** Unlike other functions, the result of `masked_select` is a one-dimensional vector."
   ]
  },
  {
   "cell_type": "code",
   "execution_count": 13,
   "metadata": {},
   "outputs": [
    {
     "name": "stdout",
     "output_type": "stream",
     "text": [
      "the mask tensor is: \n",
      "tensor([[ True, False,  True],\n",
      "        [False, False,  True],\n",
      "        [ True, False, False]])\n",
      "The original tensor is: \n",
      "tensor([[1, 2, 3],\n",
      "        [4, 5, 6],\n",
      "        [7, 8, 9]])\n",
      "The result is tensor([1, 3, 6, 7])\n"
     ]
    }
   ],
   "source": [
    "import torch\n",
    "\n",
    "a = torch.arange(1, 10).reshape((3, 3))\n",
    "\n",
    "mask = torch.BoolTensor([[True, False, True],\n",
    "                         [False, False, True],\n",
    "                         [True, False, False]])\n",
    "\n",
    "print(\"the mask tensor is: \\n{}\".format(mask))\n",
    "print(\"The original tensor is: \\n{}\".format(a))\n",
    "result = torch.masked_select(a, mask)\n",
    "print(\"The result is {}\".format(result))"
   ]
  }
 ],
 "metadata": {
  "kernelspec": {
   "display_name": "venv",
   "language": "python",
   "name": "python3"
  },
  "language_info": {
   "codemirror_mode": {
    "name": "ipython",
    "version": 3
   },
   "file_extension": ".py",
   "mimetype": "text/x-python",
   "name": "python",
   "nbconvert_exporter": "python",
   "pygments_lexer": "ipython3",
   "version": "3.12.1"
  }
 },
 "nbformat": 4,
 "nbformat_minor": 2
}
