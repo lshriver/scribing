{
 "cells": [
  {
   "cell_type": "markdown",
   "metadata": {},
   "source": [
    "# Changing the Shape of a Tensor"
   ]
  },
  {
   "cell_type": "markdown",
   "metadata": {},
   "source": [
    "## Reshaping a tensor\n",
    "\n",
    "The `shape()` function allows us to create a tensor with the same data and number of original tensor elements.\n",
    "- Requires two parameters. The first parameter input is the tensor the be reshaped. The second parameter is the `shape` which is a tuple of int, the new shape.\n",
    "- **Note:** You can use `-1` as an argument for one dimension, which means you don't specify the size for this dimension. It would be inferred from the remaining dimensions.\n",
    "\n",
    "### Task 1: Create a 1-D tensor with 8 elements and store it in the variable `a`.\n",
    "### Task 2: Reshape `a` with a new shape of (2, 4). This  shaping is row-wise.\n",
    "### Task 3: Use `-1` to reshape `a`. \n",
    "Specifically, use the shape (2, -1) for the new shape. This total element is 8, the first dimension is 2, so the second dimension could be inferred."
   ]
  },
  {
   "cell_type": "code",
   "execution_count": 1,
   "metadata": {},
   "outputs": [
    {
     "name": "stdout",
     "output_type": "stream",
     "text": [
      "The original tensor:\n",
      "tensor([1, 2, 3, 4, 5, 6, 7, 8]) \n",
      "\n",
      "The reshaped tensor with shape (2, 4):\n",
      "tensor([[1, 2, 3, 4],\n",
      "        [5, 6, 7, 8]]) \n",
      "\n",
      "The reshaped tensor with shape (2, -1):\n",
      "tensor([[1, 2, 3, 4],\n",
      "        [5, 6, 7, 8]]) \n",
      "\n"
     ]
    }
   ],
   "source": [
    "import torch\n",
    "\n",
    "a = torch.arange(1, 9)\n",
    "print(\"The original tensor:\")\n",
    "print(a, \"\\n\")\n",
    "\n",
    "b = torch.reshape(a, (2, 4))\n",
    "print(\"The reshaped tensor with shape (2, 4):\")\n",
    "print(b, \"\\n\")\n",
    "\n",
    "c = torch.reshape(a, (2, -1))\n",
    "print(\"The reshaped tensor with shape (2, -1):\")\n",
    "print(c, \"\\n\")"
   ]
  },
  {
   "cell_type": "markdown",
   "metadata": {},
   "source": [
    "## Squeezing a Tensor"
   ]
  },
  {
   "cell_type": "code",
   "execution_count": 2,
   "metadata": {},
   "outputs": [
    {
     "name": "stdout",
     "output_type": "stream",
     "text": [
      "The original shape of a is torch.Size([3, 1, 2])\n",
      "The original a tensor is \n",
      "tensor([[[1., 1.]],\n",
      "\n",
      "        [[1., 1.]],\n",
      "\n",
      "        [[1., 1.]]])\n",
      "\n",
      "The new shape of a is torch.Size([3, 2])\n",
      "The new a tensor is \n",
      "tensor([[1., 1.],\n",
      "        [1., 1.],\n",
      "        [1., 1.]])\n",
      "\n",
      "The original shape of b is torch.Size([3, 1, 2, 2])\n",
      "The original b tensor is \n",
      "tensor([[[[1., 1.],\n",
      "          [1., 1.]]],\n",
      "\n",
      "\n",
      "        [[[1., 1.],\n",
      "          [1., 1.]]],\n",
      "\n",
      "\n",
      "        [[[1., 1.],\n",
      "          [1., 1.]]]])\n",
      "\n",
      "The new shape of b is torch.Size([3, 2, 2])\n",
      "The new b tensor is \n",
      "tensor([[[1., 1.],\n",
      "         [1., 1.]],\n",
      "\n",
      "        [[1., 1.],\n",
      "         [1., 1.]],\n",
      "\n",
      "        [[1., 1.],\n",
      "         [1., 1.]]])\n"
     ]
    }
   ],
   "source": [
    "import torch\n",
    "\n",
    "a = torch.ones((3, 1, 2))\n",
    "print(\"The original shape of a is {}\".format(a.shape))\n",
    "print(\"The original a tensor is \\n{}\".format(a))\n",
    "\n",
    "a = torch.squeeze(a, dim=1)\n",
    "print(\"\\nThe new shape of a is {}\".format(a.shape))\n",
    "print(\"The new a tensor is \\n{}\".format(a))\n",
    "\n",
    "b = torch.ones((3, 1, 2, 2))\n",
    "print(\"\\nThe original shape of b is {}\".format(b.shape))\n",
    "print(\"The original b tensor is \\n{}\".format(b))\n",
    "\n",
    "b = torch.squeeze(b)\n",
    "print(\"\\nThe new shape of b is {}\".format(b.shape))\n",
    "print(\"The new b tensor is \\n{}\".format(b))"
   ]
  },
  {
   "cell_type": "markdown",
   "metadata": {},
   "source": [
    "## Un-squeezing a tensor"
   ]
  },
  {
   "cell_type": "code",
   "execution_count": 3,
   "metadata": {},
   "outputs": [
    {
     "name": "stdout",
     "output_type": "stream",
     "text": [
      "The original shape of a is torch.Size([3, 3])\n",
      "The original a tensor is \n",
      "tensor([[1., 1., 1.],\n",
      "        [1., 1., 1.],\n",
      "        [1., 1., 1.]])\n",
      "\n",
      "The new shape of a is torch.Size([3, 1, 3])\n",
      "The new a tensor is \n",
      "tensor([[[1., 1., 1.]],\n",
      "\n",
      "        [[1., 1., 1.]],\n",
      "\n",
      "        [[1., 1., 1.]]])\n"
     ]
    }
   ],
   "source": [
    "import torch\n",
    "\n",
    "a = torch.ones((3, 3))\n",
    "print(\"The original shape of a is {}\".format(a.shape))\n",
    "print(\"The original a tensor is \\n{}\".format(a))\n",
    "\n",
    "a = torch.unsqueeze(a, dim=1)\n",
    "print(\"\\nThe new shape of a is {}\".format(a.shape))\n",
    "print(\"The new a tensor is \\n{}\".format(a))"
   ]
  },
  {
   "cell_type": "markdown",
   "metadata": {},
   "source": [
    "## Transposing a tensor"
   ]
  },
  {
   "cell_type": "code",
   "execution_count": 4,
   "metadata": {},
   "outputs": [
    {
     "name": "stdout",
     "output_type": "stream",
     "text": [
      "The original shape of a is torch.Size([2, 4])\n",
      "The original a tensor is \n",
      "tensor([[1., 1., 1., 1.],\n",
      "        [1., 1., 1., 1.]])\n",
      "\n",
      "The new shape of a is torch.Size([4, 2])\n",
      "The new a tensor is \n",
      "tensor([[1., 1.],\n",
      "        [1., 1.],\n",
      "        [1., 1.],\n",
      "        [1., 1.]])\n",
      "\n",
      "The original shape of b is torch.Size([2, 4, 2])\n",
      "The original b tensor is \n",
      "tensor([[[1., 1.],\n",
      "         [1., 1.],\n",
      "         [1., 1.],\n",
      "         [1., 1.]],\n",
      "\n",
      "        [[1., 1.],\n",
      "         [1., 1.],\n",
      "         [1., 1.],\n",
      "         [1., 1.]]])\n",
      "\n",
      "The new shape of b is torch.Size([2, 2, 4])\n",
      "The new b tensor is \n",
      "tensor([[[1., 1., 1., 1.],\n",
      "         [1., 1., 1., 1.]],\n",
      "\n",
      "        [[1., 1., 1., 1.],\n",
      "         [1., 1., 1., 1.]]])\n"
     ]
    }
   ],
   "source": [
    "import torch\n",
    "\n",
    "a = torch.ones((2, 4))\n",
    "print(\"The original shape of a is {}\".format(a.shape))\n",
    "print(\"The original a tensor is \\n{}\".format(a))\n",
    "\n",
    "a = torch.transpose(a, 0, 1)\n",
    "print(\"\\nThe new shape of a is {}\".format(a.shape))\n",
    "print(\"The new a tensor is \\n{}\".format(a))\n",
    "\n",
    "b = torch.ones((2, 4, 2))\n",
    "print(\"\\nThe original shape of b is {}\".format(b.shape))\n",
    "print(\"The original b tensor is \\n{}\".format(b))\n",
    "\n",
    "b = torch.transpose(b, 1, 2)\n",
    "print(\"\\nThe new shape of b is {}\".format(b.shape))\n",
    "print(\"The new b tensor is \\n{}\".format(b))"
   ]
  }
 ],
 "metadata": {
  "kernelspec": {
   "display_name": "venv",
   "language": "python",
   "name": "python3"
  },
  "language_info": {
   "codemirror_mode": {
    "name": "ipython",
    "version": 3
   },
   "file_extension": ".py",
   "mimetype": "text/x-python",
   "name": "python",
   "nbconvert_exporter": "python",
   "pygments_lexer": "ipython3",
   "version": "3.12.1"
  }
 },
 "nbformat": 4,
 "nbformat_minor": 2
}
