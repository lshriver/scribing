{
 "cells": [
  {
   "cell_type": "markdown",
   "metadata": {},
   "source": [
    "# Concatenating Tensors"
   ]
  },
  {
   "cell_type": "code",
   "execution_count": 7,
   "metadata": {},
   "outputs": [
    {
     "name": "stdout",
     "output_type": "stream",
     "text": [
      "The original tensor a is \n",
      " tensor([[0.4662, 0.0997, 0.5191],\n",
      "        [0.2157, 0.0764, 0.5140],\n",
      "        [0.6489, 0.1500, 0.2382]])\n",
      "The shape of result is torch.Size([6, 3])\n",
      "The new tesnor is\n",
      " tensor([[0.4662, 0.0997, 0.5191],\n",
      "        [0.2157, 0.0764, 0.5140],\n",
      "        [0.6489, 0.1500, 0.2382],\n",
      "        [0.4662, 0.0997, 0.5191],\n",
      "        [0.2157, 0.0764, 0.5140],\n",
      "        [0.6489, 0.1500, 0.2382]])\n",
      "\n",
      "The original tensor b is\n",
      " tensor([[ 0.6761,  0.4923, -1.2221],\n",
      "        [-0.2422,  1.6382,  0.5304],\n",
      "        [-0.1059, -0.5245, -0.5382]])\n",
      "The shape of result is torch.Size([3, 6])\n",
      "The new tensor is\n",
      " tensor([[ 0.6761,  0.4923, -1.2221,  0.6761,  0.4923, -1.2221],\n",
      "        [-0.2422,  1.6382,  0.5304, -0.2422,  1.6382,  0.5304],\n",
      "        [-0.1059, -0.5245, -0.5382, -0.1059, -0.5245, -0.5382]])\n"
     ]
    }
   ],
   "source": [
    "import  torch\n",
    "\n",
    "a = torch.rand((3, 3))\n",
    "print(\"The original tensor a is \\n {}\".format(a))\n",
    "result = torch.cat((a, a), dim=0)\n",
    "print(\"The shape of result is {}\".format(result.shape))\n",
    "print(\"The new tesnor is\\n {}\".format(result))\n",
    "\n",
    "print()\n",
    "\n",
    "b = torch.randn((3, 3))\n",
    "print(\"The original tensor b is\\n {}\".format(b))\n",
    "result = torch.cat((b, b), dim=1)\n",
    "print(\"The shape of result is {}\".format(result.shape))\n",
    "print(\"The new tensor is\\n {}\".format(result))"
   ]
  },
  {
   "cell_type": "markdown",
   "metadata": {},
   "source": [
    "## Stacking the Tensors"
   ]
  },
  {
   "cell_type": "code",
   "execution_count": 10,
   "metadata": {},
   "outputs": [
    {
     "name": "stdout",
     "output_type": "stream",
     "text": [
      "The original tensor a is\n",
      " tensor([[-1.7099,  0.2728],\n",
      "        [-0.2311, -0.6671]])\n",
      "The original tensor b is\n",
      " tensor([[-0.5565,  0.6501],\n",
      "        [ 1.5452, -1.6176]])\n",
      "The shape of result is torch.Size([2, 2, 2])\n",
      "The new tensor is\n",
      " tensor([[[-1.7099,  0.2728],\n",
      "         [-0.5565,  0.6501]],\n",
      "\n",
      "        [[-0.2311, -0.6671],\n",
      "         [ 1.5452, -1.6176]]])\n"
     ]
    }
   ],
   "source": [
    "import torch\n",
    "a = torch.randn((2, 2))\n",
    "b = torch.randn((2, 2))\n",
    "print(\"The original tensor a is\\n {}\".format(a))\n",
    "print(\"The original tensor b is\\n {}\".format(b))\n",
    "result = torch.stack((a, b), dim=1) # stack along the second dimension\n",
    "print(\"The shape of result is {}\".format(result.shape))\n",
    "print(\"The new tensor is\\n {}\".format(result))"
   ]
  }
 ],
 "metadata": {
  "kernelspec": {
   "display_name": "venv",
   "language": "python",
   "name": "python3"
  },
  "language_info": {
   "codemirror_mode": {
    "name": "ipython",
    "version": 3
   },
   "file_extension": ".py",
   "mimetype": "text/x-python",
   "name": "python",
   "nbconvert_exporter": "python",
   "pygments_lexer": "ipython3",
   "version": "3.12.1"
  }
 },
 "nbformat": 4,
 "nbformat_minor": 2
}
