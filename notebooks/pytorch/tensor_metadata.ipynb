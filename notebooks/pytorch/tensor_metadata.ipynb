{
 "cells": [
  {
   "cell_type": "markdown",
   "metadata": {},
   "source": [
    "# Tensor Metadata"
   ]
  },
  {
   "cell_type": "markdown",
   "metadata": {},
   "source": [
    "## Getting type from `dtype`\n",
    "\n",
    "The `dtype` attribute of a PyTorch tensor can be used to get its type information.\n",
    "\n",
    "The code below creates a tensor with the float type and prints the type information."
   ]
  },
  {
   "cell_type": "code",
   "execution_count": 1,
   "metadata": {},
   "outputs": [
    {
     "name": "stdout",
     "output_type": "stream",
     "text": [
      "torch.float32\n"
     ]
    }
   ],
   "source": [
    "import torch\n",
    "\n",
    "a = torch.tensor([1, 2, 3], dtype=torch.float)\n",
    "print(a.dtype)"
   ]
  },
  {
   "cell_type": "markdown",
   "metadata": {},
   "source": [
    "## Getting size from `shape` and `size`\n",
    "Note that...\n",
    "- `shape` is an attribute\n",
    "- `size()` is a function"
   ]
  },
  {
   "cell_type": "code",
   "execution_count": 2,
   "metadata": {},
   "outputs": [
    {
     "name": "stdout",
     "output_type": "stream",
     "text": [
      "tensor([[1., 1., 1., 1.],\n",
      "        [1., 1., 1., 1.],\n",
      "        [1., 1., 1., 1.]])\n",
      "torch.Size([3, 4])\n",
      "torch.Size([3, 4])\n"
     ]
    }
   ],
   "source": [
    "a = torch.ones((3, 4))\n",
    "print(a)\n",
    "print(a.shape)\n",
    "print(a.size())"
   ]
  },
  {
   "cell_type": "markdown",
   "metadata": {},
   "source": [
    "## Getting the number of dim\n",
    "The number of dimensions of a PyTorch tensor can be obtained using the `ndim` attribute or using the `dim()` funtion, or its alias `ndimension()`."
   ]
  },
  {
   "cell_type": "code",
   "execution_count": 3,
   "metadata": {},
   "outputs": [
    {
     "name": "stdout",
     "output_type": "stream",
     "text": [
      "tensor([[1., 1., 1., 1.],\n",
      "        [1., 1., 1., 1.],\n",
      "        [1., 1., 1., 1.]])\n",
      "2\n",
      "2\n"
     ]
    }
   ],
   "source": [
    "a = torch.ones((3, 4))\n",
    "print(a)\n",
    "print(a.ndim)\n",
    "print(a.dim())"
   ]
  },
  {
   "cell_type": "markdown",
   "metadata": {},
   "source": [
    "## Getting the number of elements\n",
    "Two ways to get the number of elements of a tensor, `nelement()` and `numel()`. Both of them are functions."
   ]
  },
  {
   "cell_type": "code",
   "execution_count": 5,
   "metadata": {},
   "outputs": [
    {
     "name": "stdout",
     "output_type": "stream",
     "text": [
      "tensor([[[1., 1., 1., 1., 1., 1.],\n",
      "         [1., 1., 1., 1., 1., 1.],\n",
      "         [1., 1., 1., 1., 1., 1.],\n",
      "         [1., 1., 1., 1., 1., 1.]],\n",
      "\n",
      "        [[1., 1., 1., 1., 1., 1.],\n",
      "         [1., 1., 1., 1., 1., 1.],\n",
      "         [1., 1., 1., 1., 1., 1.],\n",
      "         [1., 1., 1., 1., 1., 1.]],\n",
      "\n",
      "        [[1., 1., 1., 1., 1., 1.],\n",
      "         [1., 1., 1., 1., 1., 1.],\n",
      "         [1., 1., 1., 1., 1., 1.],\n",
      "         [1., 1., 1., 1., 1., 1.]]])\n",
      "72\n"
     ]
    }
   ],
   "source": [
    "a = torch.ones((3, 4, 6))\n",
    "print(a)\n",
    "print(a.numel())"
   ]
  },
  {
   "cell_type": "markdown",
   "metadata": {},
   "source": [
    "## Checking if the tensor is on GPU\n",
    "`is_cuda` is an attribute of a tensor.\n",
    "- It is ture if the tensor is stored on the GPU.\n",
    "- Otherwise it will false."
   ]
  },
  {
   "cell_type": "markdown",
   "metadata": {},
   "source": [
    "## Getting the device\n",
    "`device` is an attribute of a tensor that contains the information of the device being used by the tensor."
   ]
  },
  {
   "cell_type": "code",
   "execution_count": 6,
   "metadata": {},
   "outputs": [
    {
     "name": "stdout",
     "output_type": "stream",
     "text": [
      "cpu\n"
     ]
    }
   ],
   "source": [
    "a = torch.ones((3, 4, 6))\n",
    "print(a.device)"
   ]
  },
  {
   "cell_type": "code",
   "execution_count": 8,
   "metadata": {},
   "outputs": [
    {
     "name": "stdout",
     "output_type": "stream",
     "text": [
      "The dtype of tensor a is torch.float32.\n",
      "\n",
      "The size of tensor a is torch.Size([2, 3, 4]).\n",
      "The shape of tensor a is torch.Size([2, 3, 4]).\n",
      "\n",
      "The dims of tensor a is 3.\n",
      "The dims of tensor a is 3.\n",
      "\n"
     ]
    }
   ],
   "source": [
    "import torch\n",
    "\n",
    "a = torch.rand((2, 3, 4), dtype=torch.float)\n",
    "\n",
    "print(\"The dtype of tensor a is {}.\\n\".format(a.dtype))\n",
    "\n",
    "print(\"The size of tensor a is {}.\".format(a.size()))\n",
    "print(\"The shape of tensor a is {}.\\n\".format(a.shape))\n",
    "\n",
    "print(\"The dims of tensor a is {}.\".format(a.dim()))\n",
    "print(\"The dims of tensor a is {}.\\n\".format(a.ndim))"
   ]
  },
  {
   "cell_type": "markdown",
   "metadata": {},
   "source": [
    "## My questions ❓\n",
    "\n",
    "1. What is the difference betwen the size and shape of a tensor?"
   ]
  }
 ],
 "metadata": {
  "kernelspec": {
   "display_name": "venv",
   "language": "python",
   "name": "python3"
  },
  "language_info": {
   "codemirror_mode": {
    "name": "ipython",
    "version": 3
   },
   "file_extension": ".py",
   "mimetype": "text/x-python",
   "name": "python",
   "nbconvert_exporter": "python",
   "pygments_lexer": "ipython3",
   "version": "3.12.1"
  }
 },
 "nbformat": 4,
 "nbformat_minor": 2
}
