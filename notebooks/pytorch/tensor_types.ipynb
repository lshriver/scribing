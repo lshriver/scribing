{
 "cells": [
  {
   "cell_type": "markdown",
   "metadata": {},
   "source": [
    "# Tensor Types\n",
    "|Data Type|dtype|CPU tensor|GPU tensor|\n",
    "|--|--|--|--|\n",
    "|32-bit floating point|torch.float32/torch.float|torch.FloatTensor|torch.cuda.FloatTensor|\n",
    "|64-bit floating point|torch.float64/torch.double|torch.DoubleTensor|torch.cuda.DoubleTensor|\n",
    "|8-bit integer (signed)| torch.int16|torch.ShortTensor|torch.cuda.ShortTensor|\n",
    "|boolean|torch.bool|torch.BoolTensor|torch.cuda.BoolTensor|"
   ]
  },
  {
   "cell_type": "markdown",
   "metadata": {},
   "source": [
    "## Tensor type is vital for two main reasons\n",
    "1. The GPU has video memory limitations $\\rightarrow$ therfore, tensor type affects speed and memory usage. More bits type takes more memory and requires more computing resources. \n",
    "    - Example: A matrix `A` with `1000*1000`. If the `dtype` is `torch.float32`, ths matrix would consume about 3.81MB GPU memory (`1000*1000*4bytes`, each `float32` uses 4 bytes.). If the `dtype` is `torch.double`, this matrix would consume about $7.62MB of GPU memory (`1000*1000*8bytes`, each `double` uses 8 bytes.).\n",
    "\n",
    "2. Some APIs have strong requirement types. \n",
    "    - Example: when you train a model about a classifaction task, you to need to calculate some metrics. The tensor type of some API requires the `torch.long` type. "
   ]
  },
  {
   "cell_type": "markdown",
   "metadata": {},
   "source": [
    "## Specifying tensor types when creating tensors"
   ]
  },
  {
   "cell_type": "code",
   "execution_count": 1,
   "metadata": {},
   "outputs": [
    {
     "name": "stdout",
     "output_type": "stream",
     "text": [
      "The dtype for a is torch.int64\n",
      "The dtype for b is torch.float32\n"
     ]
    }
   ],
   "source": [
    "import torch\n",
    "\n",
    "a = torch.tensor([1, 2, 3])\n",
    "print(\"The dtype for a is {}\".format(a.dtype))\n",
    "\n",
    "b = torch.tensor([1, 2, 3], dtype=torch.float)\n",
    "print(\"The dtype for b is {}\".format(b.dtype))"
   ]
  },
  {
   "cell_type": "markdown",
   "metadata": {},
   "source": [
    "## Creating tensors from specified APIs\n",
    "`PyTorch` provides some functions to create tensors with the specified types.\n",
    "- `FloatTensor`: This function creates tensors with `torch.float32` type.\n",
    "- `IntTensor`: This function creates tensors with `torch.int32` type.\n",
    "- `DoubleTensor`: This function creates tensors with `torch.float64` type.\n",
    "- `LongTensor`: This function creates with `torch.long` type. "
   ]
  },
  {
   "cell_type": "code",
   "execution_count": 6,
   "metadata": {},
   "outputs": [
    {
     "name": "stdout",
     "output_type": "stream",
     "text": [
      "tensor([1., 2., 3.])\n",
      "tensor([1, 2, 3], dtype=torch.int32)\n"
     ]
    }
   ],
   "source": [
    "d = torch.FloatTensor([1, 2, 3])\n",
    "e = torch.IntTensor([1, 2, 3])\n",
    "\n",
    "print(d)\n",
    "print(e)\n"
   ]
  },
  {
   "cell_type": "markdown",
   "metadata": {},
   "source": [
    "## Casting tensors into different types\n",
    "The **tensor** class has the method `to()`, which can cast tensors into different types. To cast a tensor, call its `to()` method and pass the dtype as the argument.\n",
    "\n",
    "### Task 1\n",
    "Creates a tensor with the type `torch.float`, and store it in the variable `b`.\n",
    "\n",
    "### Task 2\n",
    "Casts the `b` from the `torch.float` to `torch.int64`, and stores it in variable `c`."
   ]
  },
  {
   "cell_type": "code",
   "execution_count": 3,
   "metadata": {},
   "outputs": [
    {
     "name": "stdout",
     "output_type": "stream",
     "text": [
      "The dtype for b is torch.float32\n",
      "The dtype for c is torch.int64\n"
     ]
    }
   ],
   "source": [
    "import torch\n",
    "\n",
    "b = torch.tensor([1, 2, 3], dtype=torch.float)\n",
    "print(\"The dtype for b is {}\".format(b.dtype))\n",
    "\n",
    "c = b.to(dtype=torch.int64)\n",
    "print(\"The dtype for c is {}\".format(c.dtype))"
   ]
  },
  {
   "cell_type": "markdown",
   "metadata": {},
   "source": [
    "## Casting tensors into different device type\n",
    "Once of the most important features of PyTorch tensors is that they can work on GPU devices. \n",
    "- In order to enable this feature, we need to first copy the tensor to a GPU. We can do this using the `to()` function. \n",
    "- There is a parameter `device` in `to()`. We can pass the device id. If you don't specify any device, the tensor would be running on the CPU.\n",
    "- The `to()` function can take as an argument the device id where we want to run the tensor. If you don't specify any device, teh tensor would run on the CPU.\n",
    "\n",
    "Note: This operation is also not  an in-place operation.\n"
   ]
  },
  {
   "cell_type": "code",
   "execution_count": null,
   "metadata": {},
   "outputs": [],
   "source": [
    "# Example: How to select a device for running the tensor\n",
    "a = torch.tensor([1, 2, 3])\n",
    "b = a.to('cpu')"
   ]
  },
  {
   "cell_type": "markdown",
   "metadata": {},
   "source": [
    "If you only have one GPU, you can use the code below to get the GPU ID and cast it."
   ]
  },
  {
   "cell_type": "code",
   "execution_count": 12,
   "metadata": {},
   "outputs": [
    {
     "name": "stdout",
     "output_type": "stream",
     "text": [
      "cpu\n"
     ]
    }
   ],
   "source": [
    "device = torch.device(\"cuda:0\" if torch.cuda.is_available() else \"cpu\")\n",
    "a = torch.tensor([1, 2, 3])\n",
    "c = a.to(device)\n",
    "\n",
    "print(device)"
   ]
  },
  {
   "cell_type": "markdown",
   "metadata": {},
   "source": [
    "If you have multiple GPUs, then you can use `cuda:0`, `cuda:1`, or `cuda:2` to get a different GPU.\n",
    "\n",
    "Note: You can get the `device` object with `torch.device`. For CPU, simply pass the string `cpu` as the only argument. For GPU, use the example above."
   ]
  }
 ],
 "metadata": {
  "kernelspec": {
   "display_name": "venv",
   "language": "python",
   "name": "python3"
  },
  "language_info": {
   "codemirror_mode": {
    "name": "ipython",
    "version": 3
   },
   "file_extension": ".py",
   "mimetype": "text/x-python",
   "name": "python",
   "nbconvert_exporter": "python",
   "pygments_lexer": "ipython3",
   "version": "3.12.1"
  }
 },
 "nbformat": 4,
 "nbformat_minor": 2
}
