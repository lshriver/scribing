{
 "cells": [
  {
   "cell_type": "markdown",
   "metadata": {},
   "source": [
    "# Multiple Regression\n",
    "📜 [Multiple Regression](https://showers-swim-i9l.craft.me/oZ1vCvqBTCqPaehttps://showers-swim-i9l.craft.me/oZ1vCvqBTCqPae)"
   ]
  },
  {
   "cell_type": "markdown",
   "metadata": {},
   "source": [
    "## 📘Example 1\n",
    "\n",
    "Consider the Hypothetical Dataset:\n",
    "| Qubits | Fidelity | Decoherence | Error Rate |\n",
    "|--------|----------|-------------|------------|\n",
    "| 5      | 0.9      | 0.01        | 0.05       |\n",
    "| 10     | 0.85     | 0.02        | 0.10       |\n",
    "| 15     | 0.8      | 0.03        | 0.15       |\n",
    "| 20     | 0.75     | 0.04        | 0.20       |\n",
    "| 25     | 0.7      | 0.05        | 0.25       |\n",
    "\n",
    "Our regression equation will be:\n",
    "$$\\text{Error Rate} = \\beta_0 + \\beta{1}(\\text{Qubits}) + \\beta_2(\\text{Fidelity}) + \\beta_3(\\text{Decoherence}) + \\beta_4(\\text{Qubits}\\times\\text{Fidelity}) + \\epsilon$$\n"
   ]
  },
  {
   "cell_type": "code",
   "execution_count": 2,
   "metadata": {},
   "outputs": [
    {
     "name": "stdout",
     "output_type": "stream",
     "text": [
      "                            OLS Regression Results                            \n",
      "==============================================================================\n",
      "Dep. Variable:                      y   R-squared:                       1.000\n",
      "Model:                            OLS   Adj. R-squared:                  1.000\n",
      "Method:                 Least Squares   F-statistic:                 1.662e+29\n",
      "Date:                Tue, 08 Oct 2024   Prob (F-statistic):           6.02e-30\n",
      "Time:                        02:34:06   Log-Likelihood:                 174.36\n",
      "No. Observations:                   5   AIC:                            -342.7\n",
      "Df Residuals:                       2   BIC:                            -343.9\n",
      "Df Model:                           2                                         \n",
      "Covariance Type:            nonrobust                                         \n",
      "==============================================================================\n",
      "                 coef    std err          t      P>|t|      [0.025      0.975]\n",
      "------------------------------------------------------------------------------\n",
      "const       4.993e-05    3.1e-16   1.61e+11      0.000    4.99e-05    4.99e-05\n",
      "x1             0.0100   1.94e-16   5.16e+13      0.000       0.010       0.010\n",
      "x2         -5.256e-05   2.93e-16  -1.79e+11      0.000   -5.26e-05   -5.26e-05\n",
      "x3              2e-05   3.88e-19   5.16e+13      0.000       2e-05       2e-05\n",
      "x4                  0   2.93e-16          0      1.000   -1.26e-15    1.26e-15\n",
      "==============================================================================\n",
      "Omnibus:                          nan   Durbin-Watson:                   0.124\n",
      "Prob(Omnibus):                    nan   Jarque-Bera (JB):                0.418\n",
      "Skew:                          -0.004   Prob(JB):                        0.811\n",
      "Kurtosis:                       1.584   Cond. No.                     2.41e+19\n",
      "==============================================================================\n",
      "\n",
      "Notes:\n",
      "[1] Standard Errors assume that the covariance matrix of the errors is correctly specified.\n",
      "[2] The smallest eigenvalue is 3.7e-36. This might indicate that there are\n",
      "strong multicollinearity problems or that the design matrix is singular.\n"
     ]
    },
    {
     "name": "stderr",
     "output_type": "stream",
     "text": [
      "/workspaces/scribing/venv/lib/python3.12/site-packages/statsmodels/stats/stattools.py:74: ValueWarning: omni_normtest is not valid with less than 8 observations; 5 samples were given.\n",
      "  warn(\"omni_normtest is not valid with less than 8 observations; %i \"\n"
     ]
    }
   ],
   "source": [
    "import numpy as np\n",
    "import statsmodels.api as sm\n",
    "\n",
    "# Data\n",
    "qubits = np.array([5, 10, 15, 20, 25])\n",
    "fidelity = np.array([0.9, 0.85, 0.8, 0.75, 0.7])\n",
    "decoherence = np.array([0.01, 0.02, 0.03, 0.04, 0.05])\n",
    "error_rate = np.array([0.05, 0.10, 0.15, 0.20, 0.25])\n",
    "\n",
    "# Interaction term\n",
    "interaction = qubits * fidelity\n",
    "\n",
    "# Independent variables matrix\n",
    "X = np.column_stack((qubits, fidelity, decoherence, interaction))\n",
    "X = sm.add_constant(X)  # Add constant term\n",
    "\n",
    "# Fit the regression model\n",
    "model = sm.OLS(error_rate, X).fit()\n",
    "\n",
    "# Display the model summary\n",
    "print(model.summary())"
   ]
  },
  {
   "cell_type": "markdown",
   "metadata": {},
   "source": [
    "## Interpreting the results\n",
    "The output shows the coefficients for each term:\n",
    "- `const`: The intercept ($\\beta_0$)\n",
    "- `x1`: Coefficient for qubits ($\\beta_1$)\n",
    "- `x2`: Coefficient for fidelity ($\\beta_2$)\n",
    "- `x3`: Coefficient for decoherence ($\\beta_3$)\n",
    "- `x4`: Coefficient for qubits $\\times$ fidelity ($\\beta_4$)\n",
    "\n",
    "❓*What does each coefficient tell us about the relation between the variables and the error rate?*\n",
    "- `x1=0.0100` tells us there is a small positive correlation between the number of qubits and error rate\n",
    "- The rest of the coefficients are near zero, telling us there is little to no correlation between fidelity and error rate, decoherence and error rate, and the combined effect qubits and fidelity on error rate\n"
   ]
  },
  {
   "cell_type": "markdown",
   "metadata": {},
   "source": [
    "# Example 2:\n",
    "\n",
    "Consider the following dataset:\n",
    "\n",
    "$$\\bold{X} = \\begin{bmatrix}\n",
    "\n",
    "  1 & 5 & 0.9 & 0.01 & 4.5 \\\\\n",
    "  1 & 10 & 0.85 & 0.02 & 8.5 \\\\\n",
    "  1 & 15 & 0.8 & 0.03 & 12 \\\\\n",
    "  1 & 20 & 0.75 & 0.04 & 15 \\\\\n",
    "  1 & 25 & 0.7 & 0.05 & 17.5\n",
    "\n",
    "\\end{bmatrix} \\quad \\text{ and } \\quad\n",
    "\n",
    "\\vec{y} = \\begin{bmatrix}\n",
    "\n",
    "  0.05 \\\\\n",
    "  0.10 \\\\\n",
    "  0.15 \\\\\n",
    "  0.20 \\\\\n",
    "  0.25\n",
    "\n",
    "\\end{bmatrix}$$\n",
    "\n",
    "Calculate the coeffients using the **normal equation**\n",
    "$$ \\vec{\\beta} = (\\bold{X}^T\\bold{X})^{-1}\\bold{X}\\vec{y}"
   ]
  },
  {
   "cell_type": "code",
   "execution_count": 5,
   "metadata": {},
   "outputs": [
    {
     "name": "stdout",
     "output_type": "stream",
     "text": [
      "beta = [ 5.19750000e-01 -1.99957143e-02 -2.62500000e-01  1.43800000e+01\n",
      " -3.27515792e-15]\n"
     ]
    }
   ],
   "source": [
    "import numpy as np\n",
    "\n",
    "# Hypothetical dataset\n",
    "X = np.array([[1, 5, 0.9, 0.01, 4.5],\n",
    "              [1, 10, 0.85, 0.02, 8.5],\n",
    "              [1, 15, 0.8, 0.03, 12],\n",
    "              [1, 20, 0.75, 0.04, 15],\n",
    "              [1, 25, 0.7, 0.05, 17.5]])\n",
    "Y = np.array([0.05, 0.10, 0.15, 0.20, 0.25])\n",
    "\n",
    "# Normal equation\n",
    "beta = np.linalg.inv(X.T @ X) @ X.T @ Y\n",
    "print('beta =', beta)"
   ]
  }
 ],
 "metadata": {
  "language_info": {
   "name": "python"
  }
 },
 "nbformat": 4,
 "nbformat_minor": 2
}
