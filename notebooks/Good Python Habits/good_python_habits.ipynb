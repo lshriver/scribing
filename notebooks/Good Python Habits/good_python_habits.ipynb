{
 "cells": [
  {
   "cell_type": "markdown",
   "metadata": {},
   "source": [
    "# 5 Good Python Habits\n",
    "Source: [https://www.youtube.com/watch?v=I72uD8ED73U](https://www.youtube.com/watch?v=I72uD8ED73U)"
   ]
  },
  {
   "cell_type": "markdown",
   "metadata": {},
   "source": [
    "## Habit 1 - `if __name__ == '__main__'`"
   ]
  },
  {
   "cell_type": "code",
   "execution_count": 1,
   "metadata": {},
   "outputs": [
    {
     "name": "stdout",
     "output_type": "stream",
     "text": [
      "Connecting to the internet...\n",
      "Your are connected!\n"
     ]
    }
   ],
   "source": [
    "from habit_1_module import connect\n",
    "\n",
    "if __name__ == '__main__':\n",
    "  connect()"
   ]
  },
  {
   "cell_type": "markdown",
   "metadata": {},
   "source": [
    "## Habit 2 - `main()`\n",
    "Bundle up all your definitions"
   ]
  },
  {
   "cell_type": "code",
   "execution_count": 2,
   "metadata": {},
   "outputs": [
    {
     "name": "stdout",
     "output_type": "stream",
     "text": [
      "Hello world!\n",
      "Bye world!\n"
     ]
    }
   ],
   "source": [
    "def greet() -> None:\n",
    "  print('Hello world!')\n",
    "\n",
    "def bye() -> None:\n",
    "  print('Bye world!')\n",
    "\n",
    "# Good Habit 2 - 'bundle up all your definitions'\n",
    "def main() -> None:\n",
    "  greet()\n",
    "  bye()\n",
    "\n",
    "# Good Habit 1\n",
    "if __name__ == '__main__':\n",
    "  main()"
   ]
  },
  {
   "cell_type": "markdown",
   "metadata": {},
   "source": [
    "## Habit 3 - Big Functions\n",
    "'Bundle up' definitions that pertain to each other into a single 'mother' definition"
   ]
  },
  {
   "cell_type": "code",
   "execution_count": 3,
   "metadata": {},
   "outputs": [
    {
     "name": "stdout",
     "output_type": "stream",
     "text": [
      "Get out of here Bob, we don't want no trouble.\n",
      "You may enter the club.\n",
      "You may not enter the club.\n",
      "You may not enter the club.\n"
     ]
    }
   ],
   "source": [
    "def is_an_adult(age: int, has_id: bool) -> bool:\n",
    "  return age >= 21 and has_id\n",
    "\n",
    "def is_bob(name: str) -> bool:\n",
    "  return name.lower() =='bob'\n",
    "\n",
    "# Habit 3: 'bundle up' above definitions into a 'mother' definition\n",
    "def enter_club(name: str, age: int, has_id: bool) -> None:\n",
    "  if is_bob(name):\n",
    "    print('Get out of here Bob, we don\\'t want no trouble.')\n",
    "    return\n",
    "\n",
    "  if is_an_adult(age, has_id):\n",
    "    print('You may enter the club.')\n",
    "  else:\n",
    "    print('You may not enter the club.')\n",
    "\n",
    "# Habit 2\n",
    "def main() -> None:    # test cases\n",
    "  enter_club('Bob', 29, has_id=True)\n",
    "  enter_club('James', 29, has_id=True)\n",
    "  enter_club('Sandra', 29, has_id=False)\n",
    "  enter_club('Mario', 20, has_id=True)\n",
    "\n",
    "# Habit 1\n",
    "if __name__ == '__main__':\n",
    "  main()"
   ]
  },
  {
   "cell_type": "markdown",
   "metadata": {},
   "source": [
    "## Habit 4 - Type Annotations"
   ]
  },
  {
   "cell_type": "code",
   "execution_count": 16,
   "metadata": {},
   "outputs": [
    {
     "name": "stdout",
     "output_type": "stream",
     "text": [
      "['RENZO', 'JESSE', 'PAUL', 'ALLISON']\n"
     ]
    }
   ],
   "source": [
    " # Habit 4 - Type Annotations\n",
    "def upper_everything(elements: list[str]) -> list[str]:\n",
    "  return [element.upper() for element in elements]\n",
    "\n",
    "people: list[str] = upper_everything(['renzo', 'jesse', 'paul', 'allison'])\n",
    "print(people)"
   ]
  },
  {
   "cell_type": "markdown",
   "metadata": {},
   "source": [
    "## Habit 5 - List Comprehensions"
   ]
  },
  {
   "cell_type": "code",
   "execution_count": 13,
   "metadata": {},
   "outputs": [
    {
     "name": "stdout",
     "output_type": "stream",
     "text": [
      "Long names: ['allison']\n"
     ]
    }
   ],
   "source": [
    "people: list[str] = ['renzo', 'jesse', 'paul', 'allison']\n",
    "\n",
    "# long_names: list[str] = []\n",
    "# for person in people:\n",
    "#     if len(person) > 6:\n",
    "#         long_names.append(person)\n",
    "\n",
    "# Habit 5 - List comprehensions\n",
    "long_names: list[str] = [p for p in people if len(p) > 6]\n",
    "print(f'Long names: {long_names}')"
   ]
  }
 ],
 "metadata": {
  "language_info": {
   "name": "python"
  }
 },
 "nbformat": 4,
 "nbformat_minor": 2
}
