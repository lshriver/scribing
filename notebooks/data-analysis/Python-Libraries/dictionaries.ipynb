{
 "cells": [
  {
   "attachments": {
    "image.png": {
     "image/png": "[encoded data removed]"
    }
   },
   "cell_type": "markdown",
   "metadata": {},
   "source": [
    "![image.png](attachment:image.png)"
   ]
  },
  {
   "cell_type": "code",
   "execution_count": 2,
   "metadata": {},
   "outputs": [
    {
     "name": "stdout",
     "output_type": "stream",
     "text": [
      "List looks like  ['Juliana', 7000, 5500, 10300, 8000, 1200, 2000, 5000]\n",
      "Dictionary looks like  {'Juliana': [7000, 5500, 10300, 8000, 1200, 2000, 5000]}\n"
     ]
    }
   ],
   "source": [
    "fitness_list = [\"Juliana\", 7000, 5500, 10300, 8000, 1200, 2000, 5000]\n",
    "print(\"List looks like \", fitness_list)\n",
    "\n",
    "key = fitness_list[0]\n",
    "value = fitness_list[1:]\n",
    "\n",
    "fitness_dictionary = {}\n",
    "fitness_dictionary[key] = value\n",
    "\n",
    "print(\"Dictionary looks like \", fitness_dictionary)"
   ]
  },
  {
   "cell_type": "code",
   "execution_count": 11,
   "metadata": {},
   "outputs": [
    {
     "name": "stdout",
     "output_type": "stream",
     "text": [
      "Dictionary looks like  {'Juliana': [7000, 5500, 10300, 8000, 1200, 2000, 5000], 'Ulises': [374, 625, 729, 977, 0, 0, 0], 'Christine': [214, 665, 373, 1095, 349, 1037, 0]}\n",
      "\n",
      "Accessing the value stored against one key [374, 625, 729, 977, 0, 0, 0]\n",
      "\n",
      "Juliana took following steps per day [7000, 5500, 10300, 8000, 1200, 2000, 5000]\n",
      "Ulises took following steps per day [374, 625, 729, 977, 0, 0, 0]\n",
      "Christine took following steps per day [214, 665, 373, 1095, 349, 1037, 0]\n"
     ]
    }
   ],
   "source": [
    "fitness_list1 = [\"Juliana\", 7000, 5500, 10300, 8000, 1200, 2000, 5000]\n",
    "fitness_list2 = [\"Ulises\", 374, 625, 729, 977, 0, 0, 0]\n",
    "fitness_list3 = [\"Christine\", 214, 665, 373, 1095, 349, 1037, 0]\n",
    "\n",
    "key1 = fitness_list1[0]\n",
    "value1 = fitness_list1[1:]\n",
    "key2 = fitness_list2[0]\n",
    "value2 = fitness_list2[1:]\n",
    "key3 = fitness_list3[0] \n",
    "value3 = fitness_list3[1:]\n",
    "\n",
    "fitness_dictionary = {}\n",
    "fitness_dictionary[key1] = value1\n",
    "fitness_dictionary[key2] = value2\n",
    "fitness_dictionary[key3] = value3\n",
    "\n",
    "print(\"Dictionary looks like \", fitness_dictionary)\n",
    "\n",
    "print()\n",
    "print(\"Accessing the value stored against one key\", fitness_dictionary[\"Ulises\"])\n",
    "\n",
    "print()\n",
    "for user in fitness_dictionary:\n",
    "    print(user, \"took following steps per day\", fitness_dictionary[user])"
   ]
  },
  {
   "cell_type": "markdown",
   "metadata": {},
   "source": [
    "## Loading data from an external file into a dictionary"
   ]
  },
  {
   "cell_type": "code",
   "execution_count": 13,
   "metadata": {},
   "outputs": [
    {
     "name": "stdout",
     "output_type": "stream",
     "text": [
      "{np.str_('Ulises'): array([  0,   0,   0,   0,  45,  26, 267]), np.str_('Alice'): array([  0,   0,   0, 448,  26,  26,  36])}\n"
     ]
    }
   ],
   "source": [
    "import numpy as np\n",
    "\n",
    "# Reading data from a file\n",
    "data = np.loadtxt(\"steps1.csv\", delimiter=\",\", dtype=str)\n",
    "\n",
    "# Adding data to dictionary\n",
    "data_dict = {}\n",
    "for i in range(1, len(data)): # Choosing 1 instead of 0 to skip the header\n",
    "    row = data[i] # <--- Picking out a list from data\n",
    "    name = row[0] # <--- Extracting name\n",
    "    steps = np.array(row[1:], dtype = int)# <--- Extracting list of steps as integer\n",
    "    data_dict[name] = steps # <--- Adding key:value pair to dictionary\n",
    "\n",
    "print(data_dict)"
   ]
  },
  {
   "cell_type": "markdown",
   "metadata": {},
   "source": [
    "Print the number of elements in the list and the length of the list of steps of one specific user named `Jasmin`."
   ]
  },
  {
   "cell_type": "code",
   "execution_count": 20,
   "metadata": {},
   "outputs": [
    {
     "name": "stdout",
     "output_type": "stream",
     "text": [
      "Number of elements in the dictionary: 10\n",
      "Length of a list of steps: 168\n"
     ]
    }
   ],
   "source": [
    "import numpy as np\n",
    "\n",
    "# Reading data from a file\n",
    "data = np.loadtxt(\"steps2.csv\", delimiter=\",\", dtype=str)\n",
    "\n",
    "# Adding data to dictionary\n",
    "data_dict = {}\n",
    "for i in range(1, len(data)): # Choosing 1 instead of 0 to skip the header\n",
    "    row = data[i] # <--- Picking out a list from data\n",
    "    name = row[0] # <--- Extracting name\n",
    "    steps = np.array(row[1:], dtype = int)# <--- Extracting list of steps as integer\n",
    "    data_dict[name] = steps # <--- Adding key:value pair to dictionary\n",
    "\n",
    "print(\"Number of elements in the dictionary:\", len(data_dict))\n",
    "print(\"Length of a list of steps:\", len(data_dict['Jasmin']))"
   ]
  }
 ],
 "metadata": {
  "kernelspec": {
   "display_name": "venv",
   "language": "python",
   "name": "python3"
  },
  "language_info": {
   "codemirror_mode": {
    "name": "ipython",
    "version": 3
   },
   "file_extension": ".py",
   "mimetype": "text/x-python",
   "name": "python",
   "nbconvert_exporter": "python",
   "pygments_lexer": "ipython3",
   "version": "3.12.1"
  }
 },
 "nbformat": 4,
 "nbformat_minor": 2
}
