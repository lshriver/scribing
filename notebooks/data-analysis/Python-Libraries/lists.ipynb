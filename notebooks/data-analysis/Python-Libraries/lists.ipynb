{
 "cells": [
  {
   "cell_type": "markdown",
   "metadata": {},
   "source": [
    "# Lists in Python"
   ]
  },
  {
   "cell_type": "markdown",
   "metadata": {},
   "source": [
    "## Storing data in variables"
   ]
  },
  {
   "cell_type": "markdown",
   "metadata": {},
   "source": [
    "### Print a list of strings"
   ]
  },
  {
   "cell_type": "code",
   "execution_count": 2,
   "metadata": {},
   "outputs": [
    {
     "name": "stdout",
     "output_type": "stream",
     "text": [
      "['Sunday', 'Monday', 'Tuesday', 'Wednesday', 'Thursday', 'Friday', 'Saturday']\n"
     ]
    }
   ],
   "source": [
    "days_of_week = [\"Sunday\", \"Monday\", \"Tuesday\", \"Wednesday\", \"Thursday\", \"Friday\", \"Saturday\"]\n",
    "print(days_of_week)"
   ]
  },
  {
   "cell_type": "markdown",
   "metadata": {},
   "source": [
    "### Print a list of numbers"
   ]
  },
  {
   "cell_type": "code",
   "execution_count": 3,
   "metadata": {},
   "outputs": [
    {
     "name": "stdout",
     "output_type": "stream",
     "text": [
      "[7000, 5500, 10300, 8000, 1200, 2000, 5000]\n"
     ]
    }
   ],
   "source": [
    "steps_per_day = [7000, 5500, 10300, 8000, 1200, 2000, 5000]\n",
    "print(steps_per_day)"
   ]
  },
  {
   "cell_type": "markdown",
   "metadata": {},
   "source": [
    "### Print a list of mixed data types"
   ]
  },
  {
   "cell_type": "code",
   "execution_count": 4,
   "metadata": {},
   "outputs": [
    {
     "name": "stdout",
     "output_type": "stream",
     "text": [
      "['Juliana', 7000, 5500, 10300, 8000, 1200, 2000, 5000]\n"
     ]
    }
   ],
   "source": [
    "fitness_data = [\"Juliana\", 7000, 5500, 10300, 8000, 1200, 2000, 5000]\n",
    "print(fitness_data)"
   ]
  },
  {
   "cell_type": "markdown",
   "metadata": {},
   "source": [
    "## Accessing a element"
   ]
  },
  {
   "cell_type": "markdown",
   "metadata": {},
   "source": [
    "### Print the maximum element"
   ]
  },
  {
   "cell_type": "code",
   "execution_count": 6,
   "metadata": {},
   "outputs": [
    {
     "name": "stdout",
     "output_type": "stream",
     "text": [
      "8\n"
     ]
    }
   ],
   "source": [
    "num1 = 5\n",
    "num2 = 8\n",
    "maximum_num = 0\n",
    "\n",
    "if num1 >= num2:\n",
    "    maximum_num = num1\n",
    "else:\n",
    "    maximum_num = num2\n",
    "\n",
    "print(maximum_num)"
   ]
  },
  {
   "cell_type": "code",
   "execution_count": 8,
   "metadata": {},
   "outputs": [
    {
     "name": "stdout",
     "output_type": "stream",
     "text": [
      "5\n"
     ]
    }
   ],
   "source": [
    "numbers = [5,8]\n",
    "first_element = numbers[0]\n",
    "print(first_element)"
   ]
  },
  {
   "cell_type": "code",
   "execution_count": 9,
   "metadata": {},
   "outputs": [
    {
     "name": "stdout",
     "output_type": "stream",
     "text": [
      "8\n"
     ]
    }
   ],
   "source": [
    "numbers = [5,8]\n",
    "maximum_num = 0\n",
    "# Write your code here\n",
    "for i in range(len(numbers)):\n",
    "  if numbers[i] >= maximum_num:\n",
    "    maximum_num = numbers[i]\n",
    "  else:\n",
    "    maximum_num = maximum_num\n",
    "\n",
    "print(maximum_num)"
   ]
  },
  {
   "cell_type": "markdown",
   "metadata": {},
   "source": [
    "## Print the last element in a list"
   ]
  },
  {
   "cell_type": "code",
   "execution_count": 13,
   "metadata": {},
   "outputs": [
    {
     "name": "stdout",
     "output_type": "stream",
     "text": [
      "Juliana\n",
      "5000\n"
     ]
    }
   ],
   "source": [
    "fitness_data = [\"Juliana\", 7000, 5500, 10300, 8000, 1200, 2000, 5000]\n",
    "\n",
    "first_index = 0\n",
    "print(fitness_data[first_index])\n",
    "\n",
    "last_index = len(fitness_data) - 1\n",
    "print(fitness_data[last_index])\n"
   ]
  },
  {
   "cell_type": "markdown",
   "metadata": {},
   "source": [
    "## Appending and removing an element"
   ]
  },
  {
   "cell_type": "markdown",
   "metadata": {},
   "source": [
    "### Appending an element"
   ]
  },
  {
   "cell_type": "code",
   "execution_count": null,
   "metadata": {},
   "outputs": [
    {
     "name": "stdout",
     "output_type": "stream",
     "text": [
      "['Sunday', 'Monday', 'Tuesday', 'Wednesday', 'Thursday', 'Friday']\n",
      "['Sunday', 'Monday', 'Tuesday', 'Wednesday', 'Thursday', 'Friday', 'Saturday']\n"
     ]
    }
   ],
   "source": [
    "week_without_Saturday = [\"Sunday\", \"Monday\", \"Tuesday\", \"Wednesday\", \"Thursday\", \"Friday\"]\n",
    "print(week_without_Saturday)\n",
    "\n",
    "week_without_Saturday.append(\"Saturday\")\n",
    "print(week_without_Saturday)\n"
   ]
  },
  {
   "cell_type": "markdown",
   "metadata": {},
   "source": [
    "### Removing an element"
   ]
  },
  {
   "cell_type": "code",
   "execution_count": 16,
   "metadata": {},
   "outputs": [
    {
     "name": "stdout",
     "output_type": "stream",
     "text": [
      "['Juliana', 7000, 5500, 10300, 8000, 1200, 2000, 5000]\n",
      "[7000, 5500, 10300, 8000, 1200, 2000, 5000]\n"
     ]
    }
   ],
   "source": [
    "fitness_data = [\"Juliana\", 7000, 5500, 10300, 8000, 1200, 2000, 5000]\n",
    "print(fitness_data)\n",
    "\n",
    "fitness_data.remove(\"Juliana\")\n",
    "print(fitness_data)"
   ]
  },
  {
   "cell_type": "markdown",
   "metadata": {},
   "source": [
    "## Review"
   ]
  },
  {
   "cell_type": "code",
   "execution_count": 17,
   "metadata": {},
   "outputs": [
    {
     "name": "stdout",
     "output_type": "stream",
     "text": [
      "6\n"
     ]
    }
   ],
   "source": [
    "week_without_Saturday = [\"Sunday\", \"Monday\", \"Tuesday\", \"Wednesday\", \"Thursday\", \"Friday\"]\n",
    "list_length = len(week_without_Saturday)\n",
    "\n",
    "week_without_Saturday.append(\"Saturday\")\n",
    "print(list_length)"
   ]
  },
  {
   "cell_type": "markdown",
   "metadata": {},
   "source": [
    "Remove `\"Alice\"` from the `fitness_data` list first, and then print the updated list"
   ]
  },
  {
   "cell_type": "code",
   "execution_count": 18,
   "metadata": {},
   "outputs": [
    {
     "name": "stdout",
     "output_type": "stream",
     "text": [
      "['Alice', 100, 1000, 4400, 2600, 2500, 360, 0]\n",
      "[100, 1000, 4400, 2600, 2500, 360, 0]\n"
     ]
    }
   ],
   "source": [
    "fitness_data = [\"Alice\", 100, 1000, 4400, 2600, 2500, 360, 0]\n",
    "print(fitness_data)\n",
    "\n",
    "# Remove \"Alice\" from fitness_data and then print the list\n",
    "fitness_data.remove(\"Alice\")\n",
    "print(fitness_data)"
   ]
  },
  {
   "cell_type": "markdown",
   "metadata": {},
   "source": [
    "# Using the for Loop for Traversing the Lists"
   ]
  },
  {
   "attachments": {
    "image.png": {
     "image/png": "[encoded data removed]"
    }
   },
   "cell_type": "markdown",
   "metadata": {},
   "source": [
    "## Slicing up a list\n",
    "![image.png](attachment:image.png)"
   ]
  },
  {
   "cell_type": "markdown",
   "metadata": {},
   "source": [
    "### Print one element"
   ]
  },
  {
   "cell_type": "code",
   "execution_count": 20,
   "metadata": {},
   "outputs": [
    {
     "name": "stdout",
     "output_type": "stream",
     "text": [
      "7000\n"
     ]
    }
   ],
   "source": [
    "fitness_data = [\"Juliana\", 7000, 5500, 10300, 8000, 1200, 2000, 5000]\n",
    "one_element = fitness_data[1]\n",
    "print(one_element)"
   ]
  },
  {
   "cell_type": "markdown",
   "metadata": {},
   "source": [
    "### Slice out more than one element\n",
    "\n",
    "Get every item from the fitness_data list starting from index 1 until you reach index 3 (the value at index 3 will not be included) and assign them to the new slice_list list."
   ]
  },
  {
   "cell_type": "code",
   "execution_count": 21,
   "metadata": {},
   "outputs": [
    {
     "name": "stdout",
     "output_type": "stream",
     "text": [
      "[7000, 5500]\n"
     ]
    }
   ],
   "source": [
    "fitness_data = [\"Juliana\", 7000, 5500, 10300, 8000, 1200, 2000, 5000]\n",
    "slice_list = fitness_data[1:3]\n",
    "print(slice_list)"
   ]
  },
  {
   "cell_type": "markdown",
   "metadata": {},
   "source": [
    "Use the built-in function len() to find out the last legitimate index and slice the entire list except for \"Juliana\" and print that sliced list in the code widget below?"
   ]
  },
  {
   "cell_type": "code",
   "execution_count": 22,
   "metadata": {},
   "outputs": [
    {
     "name": "stdout",
     "output_type": "stream",
     "text": [
      "[7000, 5500, 10300, 8000, 1200, 2000, 5000]\n"
     ]
    }
   ],
   "source": [
    "fitness_data = [\"Juliana\", 7000, 5500, 10300, 8000, 1200, 2000, 5000]\n",
    "list_daily_steps = []\n",
    "\n",
    "list_daily_steps = fitness_data[1:len(fitness_data)+1]\n",
    "\n",
    "print(list_daily_steps)"
   ]
  },
  {
   "cell_type": "markdown",
   "metadata": {},
   "source": [
    "## One iteration over the entire list"
   ]
  },
  {
   "cell_type": "code",
   "execution_count": 2,
   "metadata": {},
   "outputs": [
    {
     "name": "stdout",
     "output_type": "stream",
     "text": [
      "7000\n",
      "5500\n",
      "10300\n",
      "8000\n",
      "1200\n",
      "2000\n",
      "5000\n"
     ]
    }
   ],
   "source": [
    "list_daily_steps = [7000, 5500, 10300, 8000, 1200, 2000, 5000]\n",
    "\n",
    "index = 0\n",
    "print(list_daily_steps[index])\n",
    "index = index + 1\n",
    "print(list_daily_steps[index])\n",
    "index = index + 1\n",
    "print(list_daily_steps[index])\n",
    "index = index + 1\n",
    "print(list_daily_steps[index])\n",
    "index = index + 1\n",
    "print(list_daily_steps[index])\n",
    "index = index + 1\n",
    "print(list_daily_steps[index])\n",
    "index = index + 1\n",
    "print(list_daily_steps[index])"
   ]
  },
  {
   "cell_type": "markdown",
   "metadata": {},
   "source": [
    "Repeat the output of the code above, but merge all the 16 lines into a single line using a `while` loop"
   ]
  },
  {
   "cell_type": "code",
   "execution_count": 3,
   "metadata": {},
   "outputs": [
    {
     "name": "stdout",
     "output_type": "stream",
     "text": [
      "7000\n",
      "5500\n",
      "10300\n",
      "8000\n",
      "1200\n",
      "2000\n",
      "5000\n"
     ]
    }
   ],
   "source": [
    "list_daily_steps = [7000, 5500, 10300, 8000, 1200, 2000, 5000]\n",
    "index = 0\n",
    "while index < len(list_daily_steps):\n",
    "    print(list_daily_steps[index])\n",
    "    index = index + 1"
   ]
  },
  {
   "cell_type": "markdown",
   "metadata": {},
   "source": [
    "## Things that can go wrong using a `while` loops\n",
    "- You would end up making an infinite loop\n",
    "- You might miss some elements in the list\n",
    "- You might start and end the loop incorrectly\n",
    "- You might set up an incorrect logic condition for the while loop"
   ]
  }
 ],
 "metadata": {
  "kernelspec": {
   "display_name": "venv",
   "language": "python",
   "name": "python3"
  },
  "language_info": {
   "codemirror_mode": {
    "name": "ipython",
    "version": 3
   },
   "file_extension": ".py",
   "mimetype": "text/x-python",
   "name": "python",
   "nbconvert_exporter": "python",
   "pygments_lexer": "ipython3",
   "version": "3.12.1"
  }
 },
 "nbformat": 4,
 "nbformat_minor": 2
}
