{
 "cells": [
  {
   "cell_type": "markdown",
   "metadata": {},
   "source": [
    "# Reading Data from a File"
   ]
  },
  {
   "cell_type": "code",
   "execution_count": 1,
   "metadata": {},
   "outputs": [
    {
     "name": "stdout",
     "output_type": "stream",
     "text": [
      "7.0\n"
     ]
    }
   ],
   "source": [
    "import numpy\n",
    "\n",
    "data = numpy.loadtxt('data.txt')\n",
    "\n",
    "print(data)"
   ]
  },
  {
   "cell_type": "markdown",
   "metadata": {},
   "source": [
    "## Loading two data values into two variables"
   ]
  },
  {
   "cell_type": "code",
   "execution_count": null,
   "metadata": {},
   "outputs": [
    {
     "name": "stdout",
     "output_type": "stream",
     "text": [
      "7.0 11.0\n"
     ]
    }
   ],
   "source": [
    "import numpy as np\n",
    "\n",
    "num1, num2 = numpy.loadtxt('data1.csv', delimiter=',')\n",
    "\n",
    "print(num1, num2)"
   ]
  },
  {
   "cell_type": "markdown",
   "metadata": {},
   "source": [
    "## Loading one long row of data into a list"
   ]
  },
  {
   "cell_type": "code",
   "execution_count": 3,
   "metadata": {},
   "outputs": [
    {
     "name": "stdout",
     "output_type": "stream",
     "text": [
      "[ 685.    0.    0.    0.    0.    0.    0.    0.    0.  964.  934.   21.\n",
      "  623. 1085.  989. 1113.  599.  667.  869. 1192.   86.  402. 1040. 1065.\n",
      "  953.  903.    0.    0.    0.    0.    0.    0.  631. 1178.  410.  447.\n",
      " 1013.  952.  482.   67.   62. 1164.  977. 1127.  970.   22.  403.  665.\n",
      "  762.    0.    0.    0.    0.    0.    0.    0.    0.  649. 1029. 1133.\n",
      " 1000.  802.  946.  675.  768.  743.  786.   41.  856.  868.  209. 1097.\n",
      "  469.  217.    0.    0.    0.    0.    0.    0.    0.  495.  241.  941.\n",
      "  495.  583.  380.   84.  421.  431.  502.   62.  345.  923.  492.  856.\n",
      "  926. 1150.    0.    0.    0.    0.    0.    0.    0.    0. 1146.  742.\n",
      "  986.  300.  489. 1056.   95. 1083.  905.  749.   77.  213.  270.  278.\n",
      "    0.    0.    0.    0.    0.    0.    0.    0.  340.  960.  631.  795.\n",
      " 1055.  585.  981.  423.   35.   92. 1003.   40.  490. 1092.  579.  698.\n",
      "    0.    0.    0.    0.    0.    0. 1072.  326.  491.  768.   39.  442.\n",
      "  466. 1077.  735.  377.  258.  370. 1191.   81.   93.  440.  488. 1184.]\n"
     ]
    }
   ],
   "source": [
    "import numpy as np\n",
    "\n",
    "data = np.loadtxt('data2.csv', delimiter=',')\n",
    "\n",
    "print(data)"
   ]
  },
  {
   "cell_type": "markdown",
   "metadata": {},
   "source": [
    "## Loading a row of data with mixed data types"
   ]
  },
  {
   "cell_type": "code",
   "execution_count": 6,
   "metadata": {},
   "outputs": [
    {
     "name": "stdout",
     "output_type": "stream",
     "text": [
      "['Juliana' '685' '0' '0' '0' '0' '0' '0' '0' '0' '964' '934' '21' '623'\n",
      " '1085' '989' '1113' '599' '667' '869' '1192' '86' '402' '1040' '1065'\n",
      " '953' '903' '0' '0' '0' '0' '0' '0' '631' '1178' '410' '447' '1013' '952'\n",
      " '482' '67' '62' '1164' '977' '1127' '970' '22' '403' '665' '762' '0' '0'\n",
      " '0' '0' '0' '0' '0' '0' '649' '1029' '1133' '1000' '802' '946' '675'\n",
      " '768' '743' '786' '41' '856' '868' '209' '1097' '469' '217' '0' '0' '0'\n",
      " '0' '0' '0' '0' '495' '241' '941' '495' '583' '380' '84' '421' '431'\n",
      " '502' '62' '345' '923' '492' '856' '926' '1150' '0' '0' '0' '0' '0' '0'\n",
      " '0' '0' '1146' '742' '986' '300' '489' '1056' '95' '1083' '905' '749'\n",
      " '77' '213' '270' '278' '0' '0' '0' '0' '0' '0' '0' '0' '340' '960' '631'\n",
      " '795' '1055' '585' '981' '423' '35' '92' '1003' '40' '490' '1092' '579'\n",
      " '698' '0' '0' '0' '0' '0' '0' '1072' '326' '491' '768' '39' '442' '466'\n",
      " '1077' '735' '377' '258' '370' '1191' '81' '93' '440' '488' '1184']\n"
     ]
    }
   ],
   "source": [
    "import numpy as np\n",
    "\n",
    "data = np.loadtxt('data3.csv', delimiter=',', dtype='str')\n",
    "\n",
    "print(data)"
   ]
  },
  {
   "cell_type": "markdown",
   "metadata": {},
   "source": [
    "To make calculations with the data, we need the step counts to be in `int` or `float` data type. After splitting the list that we've loaded into a username and counts list, can you figure out a way to convert the list of strings into a list of integers?"
   ]
  },
  {
   "cell_type": "code",
   "execution_count": 8,
   "metadata": {},
   "outputs": [
    {
     "name": "stdout",
     "output_type": "stream",
     "text": [
      "<class 'numpy.int64'>\n"
     ]
    }
   ],
   "source": [
    "import numpy as np\n",
    "\n",
    "data = np.loadtxt('data3.csv', delimiter=',', dtype='str')\n",
    "\n",
    "name = data[0]\n",
    "steps = data[1:].astype('int')\n",
    "\n",
    "print(type(steps[0]))"
   ]
  }
 ],
 "metadata": {
  "kernelspec": {
   "display_name": "venv",
   "language": "python",
   "name": "python3"
  },
  "language_info": {
   "codemirror_mode": {
    "name": "ipython",
    "version": 3
   },
   "file_extension": ".py",
   "mimetype": "text/x-python",
   "name": "python",
   "nbconvert_exporter": "python",
   "pygments_lexer": "ipython3",
   "version": "3.12.1"
  }
 },
 "nbformat": 4,
 "nbformat_minor": 2
}
