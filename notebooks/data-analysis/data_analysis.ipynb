{
 "cells": [
  {
   "cell_type": "markdown",
   "metadata": {},
   "source": [
    "# Data Analysis and Visualization"
   ]
  },
  {
   "cell_type": "code",
   "execution_count": 2,
   "metadata": {},
   "outputs": [],
   "source": [
    "import numpy as np\n",
    "from scipy import stats\n",
    "import pandas as pd\n",
    "from IPython.display import HTML, display\n",
    "\n",
    "def print_colored(text, color):\n",
    "    display(HTML(f\"<span style='color: {color};'>{text}</span>\"))"
   ]
  },
  {
   "cell_type": "markdown",
   "metadata": {},
   "source": [
    "# Python Basics\n",
    "## Task 1\n",
    "Create a function which takes a `numpy` 1D array as input and returns the following (in the same order as listed):\n",
    "- **Max** - Maximum value in the array\n",
    "- **Std** - Measure of variation between the elements of an array\n",
    "- **Sum** - Value obtained as a result of adding all the elements of an array\n",
    "- **Dot Product** - Inner product of between the array and itself"
   ]
  },
  {
   "cell_type": "code",
   "execution_count": 50,
   "metadata": {},
   "outputs": [
    {
     "data": {
      "text/html": [
       "<span style='color: cyan;'>[0.8009653137985688, 0.01622749326838613, 0.5360833547353685, 0.9363119298412041, 0.1644300575704889, 0.015453834836810842, 0.07099223910677821, 0.13122118898748703, 0.6753666121426073, 0.7129239138372847]</span>"
      ],
      "text/plain": [
       "<IPython.core.display.HTML object>"
      ]
     },
     "metadata": {},
     "output_type": "display_data"
    },
    {
     "name": "stdout",
     "output_type": "stream",
     "text": [
      "Maximum:  0.9363119298412041\n",
      "Standard Deviation : 0.3422644047856356\n",
      "Sum : 4.0599759381249845\n",
      "Dot Product:  2.8197896896480388\n"
     ]
    }
   ],
   "source": [
    "def array_stats(array):\n",
    "    array_max = float(np.max(array))  # Convert to Python float\n",
    "    array_std = float(np.std(array))  # Convert to Python float\n",
    "    array_sum = float(np.sum(array))   # Convert to Python float\n",
    "    array_dot = float(np.dot(array, array))  # Convert to Python float\n",
    "    \n",
    "    return array_max, array_std, array_sum, array_dot\n",
    "\n",
    "# Create a 1D array of 10 random numbers between 0 and 1\n",
    "random_array = np.random.rand(10)\n",
    "print_colored(random_array.tolist(), 'cyan')  # Convert to list for printing\n",
    "\n",
    "myStats = array_stats(random_array)\n",
    "print('Maximum: ', myStats[0]) \n",
    "print('Standard Deviation :', myStats[1])\n",
    "print('Sum :', myStats[2])\n",
    "print('Dot Product: ', myStats[3])"
   ]
  },
  {
   "cell_type": "markdown",
   "metadata": {},
   "source": [
    "## Task 2\n",
    "Create a function that takes in two `numpy` 1D arrays and returns the `correlation` and `p-value` as a tuple"
   ]
  },
  {
   "cell_type": "code",
   "execution_count": 48,
   "metadata": {},
   "outputs": [
    {
     "name": "stdout",
     "output_type": "stream",
     "text": [
      "Array 1:  [ 0.16057627 -0.48223545  1.13387204  2.28222354  0.14971118  0.8723842\n",
      "  0.26031131  1.14130541 -0.01143671  0.49968502] \n",
      "Array 2:  [-1.56673697  0.0117414  -0.61902115  0.83229815  0.10602984  0.99942727\n",
      "  1.20600736 -1.49725913  0.22816905  0.02987403]\n",
      "\n",
      "Pearson Correlation Coefficient: 0.08959772264571106\n",
      "P-value: 0.80557081706302\n"
     ]
    }
   ],
   "source": [
    "import numpy as np\n",
    "from scipy import stats\n",
    "\n",
    "def correlation(array1, array2):\n",
    "    # Get the Pearson correlation coefficient and p-value\n",
    "    pearsonr_stats = stats.pearsonr(array1, array2)\n",
    "    # Return both the correlation coefficient and the p-value\n",
    "    return float(pearsonr_stats[0]), float(pearsonr_stats[1])  # First element is the coefficient, second is the p-value\n",
    "\n",
    "# Example usage\n",
    "array1 = np.random.randn(10)\n",
    "array2 = np.random.randn(10)\n",
    "\n",
    "corr, p_value = correlation(array1, array2)\n",
    "\n",
    "print('Array 1: ', array1, '\\nArray 2: ', array2)\n",
    "print()\n",
    "print('Pearson Correlation Coefficient:', corr)\n",
    "print('P-value:', p_value)"
   ]
  },
  {
   "cell_type": "markdown",
   "metadata": {},
   "source": [
    "# Reading Data\n",
    "## Comma Separated Files"
   ]
  },
  {
   "cell_type": "code",
   "execution_count": 6,
   "metadata": {},
   "outputs": [
    {
     "data": {
      "text/html": [
       "<div>\n",
       "<style scoped>\n",
       "    .dataframe tbody tr th:only-of-type {\n",
       "        vertical-align: middle;\n",
       "    }\n",
       "\n",
       "    .dataframe tbody tr th {\n",
       "        vertical-align: top;\n",
       "    }\n",
       "\n",
       "    .dataframe thead th {\n",
       "        text-align: right;\n",
       "    }\n",
       "</style>\n",
       "<table border=\"1\" class=\"dataframe\">\n",
       "  <thead>\n",
       "    <tr style=\"text-align: right;\">\n",
       "      <th></th>\n",
       "      <th>age</th>\n",
       "      <th>workclass</th>\n",
       "      <th>fnlwgt</th>\n",
       "      <th>education</th>\n",
       "      <th>educationnum</th>\n",
       "      <th>martialstatus</th>\n",
       "      <th>occupation</th>\n",
       "      <th>relationship</th>\n",
       "      <th>race</th>\n",
       "      <th>sex</th>\n",
       "      <th>capitalgain</th>\n",
       "      <th>capitalloss</th>\n",
       "      <th>hoursperweek</th>\n",
       "      <th>nativecountry</th>\n",
       "      <th>label</th>\n",
       "    </tr>\n",
       "  </thead>\n",
       "  <tbody>\n",
       "    <tr>\n",
       "      <th>0</th>\n",
       "      <td>age</td>\n",
       "      <td>workclass</td>\n",
       "      <td>fnlwgt</td>\n",
       "      <td>education</td>\n",
       "      <td>educationnum</td>\n",
       "      <td>martialstatus</td>\n",
       "      <td>occupation</td>\n",
       "      <td>relationship</td>\n",
       "      <td>race</td>\n",
       "      <td>sex</td>\n",
       "      <td>capitalgain</td>\n",
       "      <td>capitalloss</td>\n",
       "      <td>hoursperweek</td>\n",
       "      <td>nativecountry</td>\n",
       "      <td>label</td>\n",
       "    </tr>\n",
       "    <tr>\n",
       "      <th>1</th>\n",
       "      <td>62</td>\n",
       "      <td>Private</td>\n",
       "      <td>919528</td>\n",
       "      <td>HS-grad</td>\n",
       "      <td>4</td>\n",
       "      <td>NaN</td>\n",
       "      <td>Tech</td>\n",
       "      <td>Own-child</td>\n",
       "      <td>Hispanic</td>\n",
       "      <td>Male</td>\n",
       "      <td>5802</td>\n",
       "      <td>70</td>\n",
       "      <td>8</td>\n",
       "      <td>China</td>\n",
       "      <td>&lt;=50K</td>\n",
       "    </tr>\n",
       "    <tr>\n",
       "      <th>2</th>\n",
       "      <td>65</td>\n",
       "      <td>Self-emp</td>\n",
       "      <td>25741</td>\n",
       "      <td>Doctorate</td>\n",
       "      <td>7</td>\n",
       "      <td>NaN</td>\n",
       "      <td>Service</td>\n",
       "      <td>Unmarried</td>\n",
       "      <td>Asian</td>\n",
       "      <td>Female</td>\n",
       "      <td>8058</td>\n",
       "      <td>21</td>\n",
       "      <td>52</td>\n",
       "      <td>United States</td>\n",
       "      <td>&lt;=50K</td>\n",
       "    </tr>\n",
       "    <tr>\n",
       "      <th>3</th>\n",
       "      <td>18</td>\n",
       "      <td>Self-emp</td>\n",
       "      <td>853800</td>\n",
       "      <td>Doctorate</td>\n",
       "      <td>2</td>\n",
       "      <td>NaN</td>\n",
       "      <td>Management</td>\n",
       "      <td>Wife</td>\n",
       "      <td>Other</td>\n",
       "      <td>Female</td>\n",
       "      <td>2489</td>\n",
       "      <td>734</td>\n",
       "      <td>74</td>\n",
       "      <td>Mexico</td>\n",
       "      <td>&lt;=50K</td>\n",
       "    </tr>\n",
       "    <tr>\n",
       "      <th>4</th>\n",
       "      <td>21</td>\n",
       "      <td>Federal</td>\n",
       "      <td>104275</td>\n",
       "      <td>HS-grad</td>\n",
       "      <td>8</td>\n",
       "      <td>NaN</td>\n",
       "      <td>Tech</td>\n",
       "      <td>Not-in-family</td>\n",
       "      <td>Black</td>\n",
       "      <td>Male</td>\n",
       "      <td>1169</td>\n",
       "      <td>707</td>\n",
       "      <td>88</td>\n",
       "      <td>Mexico</td>\n",
       "      <td>&gt;50K</td>\n",
       "    </tr>\n",
       "  </tbody>\n",
       "</table>\n",
       "</div>"
      ],
      "text/plain": [
       "   age  workclass  fnlwgt  education  educationnum  martialstatus  occupation  \\\n",
       "0  age  workclass  fnlwgt  education  educationnum  martialstatus  occupation   \n",
       "1   62    Private  919528    HS-grad             4            NaN        Tech   \n",
       "2   65   Self-emp   25741  Doctorate             7            NaN     Service   \n",
       "3   18   Self-emp  853800  Doctorate             2            NaN  Management   \n",
       "4   21    Federal  104275    HS-grad             8            NaN        Tech   \n",
       "\n",
       "    relationship      race     sex  capitalgain  capitalloss  hoursperweek  \\\n",
       "0   relationship      race     sex  capitalgain  capitalloss  hoursperweek   \n",
       "1      Own-child  Hispanic    Male         5802           70             8   \n",
       "2      Unmarried     Asian  Female         8058           21            52   \n",
       "3           Wife     Other  Female         2489          734            74   \n",
       "4  Not-in-family     Black    Male         1169          707            88   \n",
       "\n",
       "   nativecountry  label  \n",
       "0  nativecountry  label  \n",
       "1          China  <=50K  \n",
       "2  United States  <=50K  \n",
       "3         Mexico  <=50K  \n",
       "4         Mexico   >50K  "
      ]
     },
     "execution_count": 6,
     "metadata": {},
     "output_type": "execute_result"
    }
   ],
   "source": [
    "# Define the column names as a list\n",
    "names = ['age', 'workclass', 'fnlwgt', 'education', 'educationnum', 'martialstatus', 'occupation',\n",
    "         'relationship', 'race', 'sex', 'capitalgain', 'capitalloss', 'hoursperweek', 'nativecountry', 'label']\n",
    "\n",
    "# Generate sample data\n",
    "np.random.seed(0)  # For reproducibility\n",
    "data = {\n",
    "    'age': np.random.randint(18, 70, size=100),  # Random ages between 18 and 70\n",
    "    'workclass': np.random.choice(['Private', 'Self-emp', 'Gov', 'Federal', 'Local'], size=100),\n",
    "    'fnlwgt': np.random.randint(10000, 1000000, size=100),  # Random final weight\n",
    "    'education': np.random.choice(['Bachelors', 'Masters', 'HS-grad', 'Some-college', 'Doctorate'], size=100),\n",
    "    'educationnum': np.random.randint(1, 16, size=100),  # Education level as a number\n",
    "    'maritalstatus': np.random.choice(['Married', 'Single', 'Divorced', 'Widowed'], size=100),\n",
    "    'occupation': np.random.choice(['Tech', 'Sales', 'Management', 'Clerical', 'Service'], size=100),\n",
    "    'relationship': np.random.choice(['Husband', 'Wife', 'Not-in-family', 'Own-child', 'Unmarried'], size=100),\n",
    "    'race': np.random.choice(['White', 'Black', 'Asian', 'Hispanic', 'Other'], size=100),\n",
    "    'sex': np.random.choice(['Male', 'Female'], size=100),\n",
    "    'capitalgain': np.random.randint(0, 10000, size=100),  # Random capital gain\n",
    "    'capitalloss': np.random.randint(0, 1000, size=100),   # Random capital loss\n",
    "    'hoursperweek': np.random.randint(1, 100, size=100),   # Random hours worked per week\n",
    "    'nativecountry': np.random.choice(['United States', 'Canada', 'Mexico', 'India', 'China'], size=100),\n",
    "    'label': np.random.choice(['<=50K', '>50K'], size=100)  # Random labels\n",
    "}\n",
    "\n",
    "# Create a DataFrame\n",
    "df = pd.DataFrame(data, columns=names)\n",
    "\n",
    "# Save to CSV\n",
    "df.to_csv('sample_data.csv', index=False)\n",
    "\n",
    "#print(\"Sample CSV file 'sample_data.csv' created successfully.\")\n",
    "\n",
    "# Read the CSV \n",
    "df = pd.read_csv(\"/workspaces/scribing/notebooks/data-analysis/sample_data.csv\", header=None, names=names)\n",
    "\n",
    "df.head()"
   ]
  },
  {
   "cell_type": "markdown",
   "metadata": {},
   "source": [
    "## JSON Files"
   ]
  },
  {
   "cell_type": "code",
   "execution_count": 13,
   "metadata": {},
   "outputs": [
    {
     "name": "stdout",
     "output_type": "stream",
     "text": [
      "{'glossary': {'title': 'example glossary', 'GlossDiv': {'title': 'S', 'GlossList': {'GlossEntry': {'ID': 'SGML', 'SortAs': 'SGML', 'GlossTerm': 'Standard Generalized Markup Language', 'Acronym': 'SGML', 'Abbrev': 'ISO 8879:1986', 'GlossDef': {'para': 'A meta-markup language, used to create markup languages such as DocBook.', 'GlossSeeAlso': ['GML', 'XML']}, 'GlossSee': 'markup'}}}}}\n"
     ]
    }
   ],
   "source": [
    "import json\n",
    "\n",
    "# Open the JSON file and load the data\n",
    "with open('/workspaces/scribing/notebooks/data-analysis/data.json') as f:\n",
    "    json_data = json.load(f)  # Load the JSON data directly into a Python dictionary\n",
    "\n",
    "# Now you can print or manipulate json_data as needed\n",
    "print(json_data)"
   ]
  },
  {
   "cell_type": "markdown",
   "metadata": {},
   "source": [
    "## Raw Files"
   ]
  },
  {
   "cell_type": "code",
   "execution_count": 19,
   "metadata": {},
   "outputs": [
    {
     "name": "stdout",
     "output_type": "stream",
     "text": [
      "['Allison', 'Lauren', 'Paul']\n"
     ]
    }
   ],
   "source": [
    "import tempfile\n",
    "\n",
    "tmp = tempfile.NamedTemporaryFile()\n",
    "\n",
    "#Open the file for writing, and write the data\n",
    "with open(tmp.name, 'w') as f:\n",
    "    f.write(\"Allison|22|F\\n\")\n",
    "    f.write(\"Lauren|31|F\\n\")\n",
    "    f.write(\"Paul|25|M\")\n",
    "    \n",
    "first_values = [] # Define a list to store the first values of each row\n",
    "\n",
    "with open(tmp.name, \"r\") as f:  # Open the file to read\n",
    "    for line in f:  # Loop over each line\n",
    "        row_values = line.split(\"|\") # Split each line by the | character into a list\n",
    "        first_values.append(row_values[0])\n",
    "        \n",
    "print(first_values)"
   ]
  },
  {
   "cell_type": "code",
   "execution_count": null,
   "metadata": {},
   "outputs": [],
   "source": []
  }
 ],
 "metadata": {
  "language_info": {
   "name": "python"
  }
 },
 "nbformat": 4,
 "nbformat_minor": 2
}
