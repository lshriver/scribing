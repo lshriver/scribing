{
 "cells": [
  {
   "cell_type": "code",
   "execution_count": 11,
   "metadata": {},
   "outputs": [],
   "source": [
    "import sys\n",
    "sys.path.append('/workspaces/scribing/')\n",
    "from colors import Bcolors as bc\n",
    "\n",
    "import numpy as np"
   ]
  },
  {
   "cell_type": "markdown",
   "metadata": {},
   "source": [
    "Source: Cohen, M. X. (2021). *Linear algebra: Theory, intuition and code*. Middletown, DE, USA."
   ]
  },
  {
   "cell_type": "markdown",
   "metadata": {},
   "source": [
    "# Code Challenge 3.12"
   ]
  },
  {
   "cell_type": "markdown",
   "metadata": {},
   "source": [
    "Task 1: Create three 5-D vectors and a fourth vector that contains the weights for each vector"
   ]
  },
  {
   "cell_type": "code",
   "execution_count": 23,
   "metadata": {},
   "outputs": [
    {
     "name": "stdout",
     "output_type": "stream",
     "text": [
      "\u001b[34m\n",
      "v1 = [1 2 3 4 5]\n",
      "v2 = [1 0 9 1 3]\n",
      "v3 = [9 8 4 4 9]\n",
      "\u001b[32m\n",
      "w = [8 6 0]\n",
      "\u001b[93m\n",
      "result =  [14 16 78 38 58]\n"
     ]
    }
   ],
   "source": [
    "v1 = np.array([1, 2, 3 , 4, 5])\n",
    "v2 = np.random.randint(0, 10, 5)\n",
    "v3 = np.random.randint(0, 10, 5)\n",
    "w = np.random.randint(0, 10, 3) \n",
    "\n",
    "result = v1*w[0] + v2*w[1] + v3*w[2]\n",
    "\n",
    "print(f'{bc.BLUE}')\n",
    "print('v1 =',v1)\n",
    "print('v2 =',v2) \n",
    "print('v3 =',v3)\n",
    "print(f'{bc.GREEN}')\n",
    "print('w =',w)\n",
    "print(f'{bc.WARNING}')\n",
    "print('result = ',result)"
   ]
  },
  {
   "cell_type": "markdown",
   "metadata": {},
   "source": [
    "Task 2: Use the dot product to create a method for using the dot product to compute the average of a set of numbers in a vector"
   ]
  },
  {
   "cell_type": "code",
   "execution_count": 26,
   "metadata": {},
   "outputs": [
    {
     "name": "stdout",
     "output_type": "stream",
     "text": [
      "Average:  3.0\n"
     ]
    }
   ],
   "source": [
    "v = np.array([1, 2, 3 , 4, 5])\n",
    "o = np.ones(len(v))\n",
    "avg = np.dot(v,o) / len(v)\n",
    "print('Average: ',avg)"
   ]
  },
  {
   "cell_type": "markdown",
   "metadata": {},
   "source": [
    "Task 3: Modify your last answer to device a method of using the dot product to compute a weighted mean of a set of numbers"
   ]
  },
  {
   "cell_type": "code",
   "execution_count": null,
   "metadata": {},
   "outputs": [],
   "source": []
  }
 ],
 "metadata": {
  "language_info": {
   "name": "python"
  }
 },
 "nbformat": 4,
 "nbformat_minor": 2
}
