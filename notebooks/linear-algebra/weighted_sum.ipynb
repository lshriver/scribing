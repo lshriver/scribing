{
 "cells": [
  {
   "cell_type": "code",
   "execution_count": 27,
   "metadata": {},
   "outputs": [],
   "source": [
    "\n",
    "import sys\n",
    "sys.path.append('/workspaces/scribing/')\n",
    "from colors import Bcolors as bc\n",
    "\n",
    "import numpy as np\n",
    "from typing import Union"
   ]
  },
  {
   "cell_type": "markdown",
   "metadata": {},
   "source": [
    "# Code Challenge 3.12\n",
    "Source: Cohen, M. X. (2021). *Linear algebra: Theory, intuition and code*. Middletown, DE, USA."
   ]
  },
  {
   "cell_type": "markdown",
   "metadata": {},
   "source": [
    "## Task 1\n",
    "Create three 5-D vectors and a fourth vector that contains the weights for each vector"
   ]
  },
  {
   "cell_type": "code",
   "execution_count": 23,
   "metadata": {},
   "outputs": [
    {
     "name": "stdout",
     "output_type": "stream",
     "text": [
      "\u001b[34m\n",
      "v1 = [1 2 3 4 5]\n",
      "v2 = [1 0 9 1 3]\n",
      "v3 = [9 8 4 4 9]\n",
      "\u001b[32m\n",
      "w = [8 6 0]\n",
      "\u001b[93m\n",
      "result =  [14 16 78 38 58]\n"
     ]
    }
   ],
   "source": [
    "v1 = np.array([1, 2, 3 , 4, 5])\n",
    "v2 = np.random.randint(0, 10, 5)\n",
    "v3 = np.random.randint(0, 10, 5)\n",
    "w = np.random.randint(0, 10, 3) \n",
    "\n",
    "result = v1*w[0] + v2*w[1] + v3*w[2]\n",
    "\n",
    "print(f'{bc.BLUE}')\n",
    "print('v1 =',v1)\n",
    "print('v2 =',v2) \n",
    "print('v3 =',v3)\n",
    "print(f'{bc.GREEN}')\n",
    "print('w =',w)\n",
    "print(f'{bc.WARNING}')\n",
    "print('result = ',result)"
   ]
  },
  {
   "cell_type": "markdown",
   "metadata": {},
   "source": [
    "## Task 2\n",
    "Use the dot product to create a method for using the dot product to compute the average of a set of numbers in a vector"
   ]
  },
  {
   "cell_type": "code",
   "execution_count": 35,
   "metadata": {},
   "outputs": [
    {
     "name": "stdout",
     "output_type": "stream",
     "text": [
      "\u001b[34m\n",
      "vector = [3 1 9 5 9]\n",
      "\u001b[0m\n",
      "Average:  5.4\n"
     ]
    }
   ],
   "source": [
    "def calculate_average(vector: Union[np.ndarray, list[Union[int, float]]]) -> float:\n",
    "    o = np.ones(len(vector))\n",
    "    avg = np.dot(vector, o) / len(vector)\n",
    "    return avg\n",
    "\n",
    "# Example\n",
    "v = np.random.randint(0, 10, 5)\n",
    "\n",
    "print(f'{bc.BLUE}')\n",
    "print('vector =',v)\n",
    "print(f'{bc.ENDC}')\n",
    "avg = calculate_average(v)\n",
    "print('Average: ',avg)"
   ]
  },
  {
   "cell_type": "markdown",
   "metadata": {},
   "source": [
    "## Task 3\n",
    "Modify your last answer to devise a method of using the dot product to compute a weighted mean of a set of numbers"
   ]
  },
  {
   "cell_type": "code",
   "execution_count": 32,
   "metadata": {},
   "outputs": [
    {
     "name": "stdout",
     "output_type": "stream",
     "text": [
      "\u001b[34m\n",
      "vecotr = [1 7 9 9 3]\n",
      "\u001b[32m\n",
      "weights = [0.1 0.2 0.3 0.4 0.5]\n",
      "\u001b[0m\n",
      "Weighted mean:  6.2\n"
     ]
    }
   ],
   "source": [
    "def calculate_weighted_mean(vector: Union[np.ndarray, list[Union[int, float]]],\n",
    "                            weights: Union[np.ndarray, list[Union[int, float]]]) -> float:\n",
    "    vector = np.array(vector)\n",
    "    weights = np.array(weights)\n",
    "    weighted_sum = np.dot(vector, weights)\n",
    "    sum_of_weights = np.sum(weights)\n",
    "    weighted_mean = weighted_sum/ sum_of_weights\n",
    "    return weighted_mean\n",
    "\n",
    "# Example\n",
    "vector = np.random.randint(0, 10, 5)\n",
    "weights = np.array([0.1, 0.2, 0.3, 0.4, 0.5])\n",
    "\n",
    "print(f'{bc.BLUE}')\n",
    "print('vector =',vector)\n",
    "print(f'{bc.GREEN}')\n",
    "print('weights =',weights)\n",
    "print(f'{bc.ENDC}')\n",
    "\n",
    "weighted_mean = calculate_weighted_mean(vector, weights)\n",
    "print('Weighted mean: ', weighted_mean)"
   ]
  },
  {
   "cell_type": "code",
   "execution_count": null,
   "metadata": {},
   "outputs": [],
   "source": []
  }
 ],
 "metadata": {
  "language_info": {
   "name": "python"
  }
 },
 "nbformat": 4,
 "nbformat_minor": 2
}
