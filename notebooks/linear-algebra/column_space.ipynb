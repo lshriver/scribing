{
 "cells": [
  {
   "cell_type": "code",
   "execution_count": 4,
   "metadata": {},
   "outputs": [
    {
     "name": "stdout",
     "output_type": "stream",
     "text": [
      "RREF of the matrix:\n",
      "⎡1  0  0  -1  14/3⎤\n",
      "⎢                 ⎥\n",
      "⎢0  1  0  1   -5/3⎥\n",
      "⎢                 ⎥\n",
      "⎢0  0  1  0   -1/3⎥\n",
      "⎢                 ⎥\n",
      "⎢0  0  0  0    0  ⎥\n",
      "⎢                 ⎥\n",
      "⎣0  0  0  0    0  ⎦\n",
      "\n",
      "Row Space Basis:\n",
      "[1  0  0  -1  14/3]\n",
      "[0  1  0  1  -5/3]\n",
      "[0  0  1  0  -1/3]\n"
     ]
    }
   ],
   "source": [
    "import sympy as sp\n",
    "from typing import List, Tuple\n",
    "\n",
    "def row_space_from_rref(A: List[List[float]]) -> None:\n",
    "    \"\"\"\n",
    "    Computes and prints the row space of a matrix A using its reduced row echelon form (RREF).\n",
    "\n",
    "    Parameters:\n",
    "    A (List[List[float]]): A 2D list representing the input matrix.\n",
    "\n",
    "    Returns:\n",
    "    None\n",
    "    \"\"\"\n",
    "    # Convert the input matrix to a SymPy matrix\n",
    "    sym_matrix = sp.Matrix(A)\n",
    "\n",
    "    # Compute the RREF and pivot columns\n",
    "    rref_matrix, _ = sym_matrix.rref()  # Unpack RREF matrix and ignore pivot columns\n",
    "\n",
    "    # Extract non-zero rows from the RREF matrix to form the row space basis\n",
    "    row_space_basis = [rref_matrix.row(i) for i in range(rref_matrix.rows) \n",
    "                       if any(rref_matrix.row(i))]\n",
    "\n",
    "    # Print the RREF of the matrix\n",
    "    print(\"RREF of the matrix:\")\n",
    "    sp.pprint(rref_matrix)\n",
    "    \n",
    "    # Print the basis for the row space\n",
    "    print(\"\\nRow Space Basis:\")\n",
    "    for vec in row_space_basis:\n",
    "        sp.pprint(vec)\n",
    "\n",
    "# Example usage\n",
    "A = [[1, 3, -1, 2, 0],\n",
    "     [2, 3, 1, 1, 4],\n",
    "     [1, 2, 1, 1, 1],\n",
    "     [4, 8, 1, 4, 5],\n",
    "     [-1, 0, -2, 1, -4]]\n",
    "\n",
    "row_space_from_rref(A)"
   ]
  }
 ],
 "metadata": {
  "language_info": {
   "name": "python"
  }
 },
 "nbformat": 4,
 "nbformat_minor": 2
}
