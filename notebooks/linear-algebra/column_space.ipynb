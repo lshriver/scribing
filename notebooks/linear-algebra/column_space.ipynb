{
 "cells": [
  {
   "cell_type": "code",
   "execution_count": 1,
   "metadata": {},
   "outputs": [
    {
     "name": "stdout",
     "output_type": "stream",
     "text": [
      "Matrix Rank: 2\n",
      "Column Space as a Solution Set (Nullspace Basis):\n",
      "Matrix([[1], [-2], [1]])\n"
     ]
    }
   ],
   "source": [
    "import sympy as sp\n",
    "from typing import List, Any\n",
    "\n",
    "def column_space_solution(A: List[List[float]]) -> None:\n",
    "    \"\"\"\n",
    "    Computes and prints the column space of a matrix as a set of solutions \n",
    "    to a system of equations.\n",
    "\n",
    "    Parameters:\n",
    "    A (List[List[float]]): A 2D list representing the input matrix.\n",
    "\n",
    "    Returns:\n",
    "    None\n",
    "    \"\"\"\n",
    "    # Convert the input matrix to a SymPy matrix for symbolic computations\n",
    "    sym_matrix = sp.Matrix(A)\n",
    "\n",
    "    # Step 1: Compute the rank of the matrix\n",
    "    rank = sym_matrix.rank()\n",
    "    print(f\"Matrix Rank: {rank}\")\n",
    "\n",
    "    # Step 2: Compute the nullspace to find dependencies among the columns\n",
    "    nullspace = sym_matrix.nullspace()\n",
    "\n",
    "    # Debug: Check if the nullspace is empty (no dependencies)\n",
    "    if not nullspace:\n",
    "        print(\"The columns are linearly independent. No non-trivial dependencies found.\")\n",
    "        return\n",
    "\n",
    "    # Step 3: Print the basis of the nullspace (dependencies among columns)\n",
    "    print(\"Column Space as a Solution Set (Nullspace Basis):\")\n",
    "    for vec in nullspace:\n",
    "        print(vec)\n",
    "\n",
    "# Example usage\n",
    "A = [[1, 2, 3],\n",
    "     [4, 5, 6],\n",
    "     [7, 8, 9]]\n",
    "\n",
    "column_space_solution(A)"
   ]
  }
 ],
 "metadata": {
  "language_info": {
   "name": "python"
  }
 },
 "nbformat": 4,
 "nbformat_minor": 2
}
