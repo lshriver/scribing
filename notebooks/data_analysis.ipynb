{
 "cells": [
  {
   "cell_type": "markdown",
   "metadata": {},
   "source": [
    "# Data Analysis and Visualization"
   ]
  },
  {
   "cell_type": "code",
   "execution_count": 36,
   "metadata": {},
   "outputs": [],
   "source": [
    "import numpy as np\n",
    "from scipy import stats\n",
    "from IPython.display import HTML, display\n",
    "\n",
    "def print_colored(text, color):\n",
    "    display(HTML(f\"<span style='color: {color};'>{text}</span>\"))"
   ]
  },
  {
   "cell_type": "markdown",
   "metadata": {},
   "source": [
    "# Task 1\n",
    "Create a function which takes a `numpy` 1D array as input and returns the following (in the same order as listed):\n",
    "- **Max** - Maximum value in the array\n",
    "- **Std** - Measure of variation between the elements of an array\n",
    "- **Sum** - Value obtained as a result of adding all the elements of an array\n",
    "- **Dot Product** - Inner product of between the array and itslef"
   ]
  },
  {
   "cell_type": "code",
   "execution_count": 35,
   "metadata": {},
   "outputs": [
    {
     "data": {
      "text/html": [
       "<span style='color: cyan;'>[0.9334352612244002, 0.02007318315117146, 0.26275073880246047, 0.7731000464504427, 0.4118495807966016, 0.6298797117583693, 0.9536528531153878, 0.5318315379007212, 0.8112002060118033, 0.96950421247957]</span>"
      ],
      "text/plain": [
       "<IPython.core.display.HTML object>"
      ]
     },
     "metadata": {},
     "output_type": "display_data"
    },
    {
     "name": "stdout",
     "output_type": "stream",
     "text": [
      "Maximum:  0.96950421247957\n",
      "Standard Deviation : 0.3048781793792876\n",
      "Sum : 6.297277331690928\n",
      "Dot Product:  4.8950772218391325\n"
     ]
    }
   ],
   "source": [
    "def array_stats(array):\n",
    "    array_max = float(np.max(array))  # Convert to Python float\n",
    "    array_std = float(np.std(array))  # Convert to Python float\n",
    "    array_sum = float(np.sum(array))   # Convert to Python float\n",
    "    array_dot = float(np.dot(array, array))  # Convert to Python float\n",
    "    \n",
    "    return array_max, array_std, array_sum, array_dot\n",
    "\n",
    "# Create a 1D array of 10 random numbers between 0 and 1\n",
    "random_array = np.random.rand(10)\n",
    "print_colored(random_array.tolist(), 'cyan')  # Convert to list for printing\n",
    "\n",
    "myStats = array_stats(random_array)\n",
    "print('Maximum: ', myStats[0]) \n",
    "print('Standard Deviation :', myStats[1])\n",
    "print('Sum :', myStats[2])\n",
    "print('Dot Product: ', myStats[3])"
   ]
  },
  {
   "cell_type": "markdown",
   "metadata": {},
   "source": [
    "# Task 2\n",
    "Create a function that takes in two `numpy` 1D arrays and returns the `correlation` and `p-value` as a tuple"
   ]
  },
  {
   "cell_type": "code",
   "execution_count": 48,
   "metadata": {},
   "outputs": [
    {
     "name": "stdout",
     "output_type": "stream",
     "text": [
      "Array 1:  [ 0.16057627 -0.48223545  1.13387204  2.28222354  0.14971118  0.8723842\n",
      "  0.26031131  1.14130541 -0.01143671  0.49968502] \n",
      "Array 2:  [-1.56673697  0.0117414  -0.61902115  0.83229815  0.10602984  0.99942727\n",
      "  1.20600736 -1.49725913  0.22816905  0.02987403]\n",
      "\n",
      "Pearson Correlation Coefficient: 0.08959772264571106\n",
      "P-value: 0.80557081706302\n"
     ]
    }
   ],
   "source": [
    "import numpy as np\n",
    "from scipy import stats\n",
    "\n",
    "def correlation(array1, array2):\n",
    "    # Get the Pearson correlation coefficient and p-value\n",
    "    pearsonr_stats = stats.pearsonr(array1, array2)\n",
    "    # Return both the correlation coefficient and the p-value\n",
    "    return float(pearsonr_stats[0]), float(pearsonr_stats[1])  # First element is the coefficient, second is the p-value\n",
    "\n",
    "# Example usage\n",
    "array1 = np.random.randn(10)\n",
    "array2 = np.random.randn(10)\n",
    "\n",
    "corr, p_value = correlation(array1, array2)\n",
    "\n",
    "print('Array 1: ', array1, '\\nArray 2: ', array2)\n",
    "print()\n",
    "print('Pearson Correlation Coefficient:', corr)\n",
    "print('P-value:', p_value)"
   ]
  }
 ],
 "metadata": {
  "language_info": {
   "name": "python"
  }
 },
 "nbformat": 4,
 "nbformat_minor": 2
}
