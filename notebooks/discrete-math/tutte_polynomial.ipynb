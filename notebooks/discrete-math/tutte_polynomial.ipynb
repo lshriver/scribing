{
 "cells": [
  {
   "cell_type": "code",
   "execution_count": 10,
   "id": "a99a418f",
   "metadata": {},
   "outputs": [],
   "source": [
    "import networkx as nx\n",
    "import sympy as sp\n",
    "from sympy import *\n",
    "from IPython.display import display, Math"
   ]
  },
  {
   "cell_type": "markdown",
   "id": "0da97ef7",
   "metadata": {},
   "source": [
    "### Compute the Tutte polynomial $T(G; x, y)$ of a graph $G(V,E)$ using `networkx`"
   ]
  },
  {
   "cell_type": "code",
   "execution_count": 4,
   "id": "c9be9e6d",
   "metadata": {},
   "outputs": [
    {
     "data": {
      "text/latex": [
       "$\\displaystyle x^{3} + x^{2} + x + y$"
      ],
      "text/plain": [
       "x**3 + x**2 + x + y"
      ]
     },
     "metadata": {},
     "output_type": "display_data"
    },
    {
     "data": {
      "text/latex": [
       "$\\displaystyle x^{4} - 4 x^{3} + 6 x^{2} - 3 x$"
      ],
      "text/plain": [
       "x**4 - 4*x**3 + 6*x**2 - 3*x"
      ]
     },
     "metadata": {},
     "output_type": "display_data"
    }
   ],
   "source": [
    "TCM = nx.cycle_graph(4)\n",
    "T = nx.tutte_polynomial(TCM)\n",
    "Chi = nx.chromatic_polynomial(TCM)\n",
    "\n",
    "display(T)\n",
    "display(Chi)"
   ]
  }
 ],
 "metadata": {
  "kernelspec": {
   "display_name": "venv",
   "language": "python",
   "name": "python3"
  },
  "language_info": {
   "codemirror_mode": {
    "name": "ipython",
    "version": 3
   },
   "file_extension": ".py",
   "mimetype": "text/x-python",
   "name": "python",
   "nbconvert_exporter": "python",
   "pygments_lexer": "ipython3",
   "version": "3.11.2"
  }
 },
 "nbformat": 4,
 "nbformat_minor": 5
}
