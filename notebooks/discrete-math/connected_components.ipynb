{
 "cells": [
  {
   "cell_type": "code",
   "execution_count": 4,
   "id": "64900985",
   "metadata": {},
   "outputs": [
    {
     "name": "stdout",
     "output_type": "stream",
     "text": [
      "1\n"
     ]
    }
   ],
   "source": [
    "# Python3 program for above approach\n",
    "\n",
    "# Graph class represents a undirected graph\n",
    "# using adjacency list representation\n",
    "class Graph:\n",
    "    \n",
    "    def __init__(self, V):\n",
    "\n",
    "        # No. of vertices\n",
    "        self.V = V\n",
    "\n",
    "        # Pointer to an array containing\n",
    "        # adjacency lists\n",
    "        self.adj = [[] for i in range(self.V)]\n",
    "\n",
    "    # Function to return the number of\n",
    "    # connected components in an undirected graph\n",
    "    def NumberOfconnectedComponents(self):\n",
    "        \n",
    "        # Mark all the vertices as not visited\n",
    "        visited = [False for i in range(self.V)]\n",
    "        \n",
    "        # To store the number of connected \n",
    "        # components\n",
    "        count = 0\n",
    "        \n",
    "        for v in range(self.V):\n",
    "            if (visited[v] == False):\n",
    "                self.DFSUtil(v, visited)\n",
    "                count += 1\n",
    "                \n",
    "        return count\n",
    "        \n",
    "    def DFSUtil(self, v, visited):\n",
    "\n",
    "        # Mark the current node as visited\n",
    "        visited[v] = True\n",
    "\n",
    "        # Recur for all the vertices\n",
    "        # adjacent to this vertex\n",
    "        for i in self.adj[v]:\n",
    "            if (not visited[i]):\n",
    "                self.DFSUtil(i, visited)\n",
    "                \n",
    "    # Add an undirected edge\n",
    "    def addEdge(self, v, w):\n",
    "        \n",
    "        self.adj[v].append(w)\n",
    "        self.adj[w].append(v)\n",
    "        \n",
    "# Driver code        \n",
    "if __name__=='__main__':\n",
    "    \n",
    "    g = Graph(5)\n",
    "    g.addEdge(0, 1)\n",
    "    g.addEdge(0, 2)\n",
    "    g.addEdge(1, 2)\n",
    "    g.addEdge(1, 3)\n",
    "    g.addEdge(2, 4)\n",
    "    g.addEdge(1, 4)\n",
    "    \n",
    "    print(g.NumberOfconnectedComponents())\n",
    "\n",
    "# This code is contributed by rutvik_56"
   ]
  }
 ],
 "metadata": {
  "kernelspec": {
   "display_name": "venv",
   "language": "python",
   "name": "python3"
  },
  "language_info": {
   "codemirror_mode": {
    "name": "ipython",
    "version": 3
   },
   "file_extension": ".py",
   "mimetype": "text/x-python",
   "name": "python",
   "nbconvert_exporter": "python",
   "pygments_lexer": "ipython3",
   "version": "3.11.2"
  }
 },
 "nbformat": 4,
 "nbformat_minor": 5
}
