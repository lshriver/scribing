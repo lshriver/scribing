{
 "cells": [
  {
   "cell_type": "code",
   "execution_count": 2,
   "metadata": {},
   "outputs": [
    {
     "name": "stdout",
     "output_type": "stream",
     "text": [
      "Ternary number of  2747  is: 10202202"
     ]
    }
   ],
   "source": [
    "# Python3 program to convert decimal\n",
    "# number to ternary number\n",
    "\n",
    "# Function to convert a decimal\n",
    "# number to a ternary number\n",
    "def convertToTernary(N):\n",
    "    \n",
    "    # Base case\n",
    "    if (N == 0):\n",
    "        return;\n",
    "\n",
    "    # Finding the remainder\n",
    "    # when N is divided by 3\n",
    "    x = N % 3;\n",
    "    N //= 3;\n",
    "    if (x < 0):\n",
    "        N += 1;\n",
    "\n",
    "    # Recursive function to\n",
    "    # call the function for\n",
    "    # the integer division\n",
    "    # of the value N/3\n",
    "    convertToTernary(N);\n",
    "\n",
    "    # Handling the negative cases\n",
    "    if (x < 0):\n",
    "        print(x + (3 * -1), end = \"\");\n",
    "    else:\n",
    "        print(x, end = \"\");\n",
    "\n",
    "\n",
    "# Function to convert the \n",
    "# decimal to ternary\n",
    "def convert(Decimal):\n",
    "    \n",
    "    print(\"Ternary number of \", Decimal,\n",
    "          \" is: \", end = \"\");\n",
    "\n",
    "    # If the number is greater\n",
    "    # than 0, compute the\n",
    "    # ternary representation\n",
    "    # of the number\n",
    "    if (Decimal != 0):\n",
    "        convertToTernary(Decimal);\n",
    "    else:\n",
    "        print(\"0\", end = \"\");\n",
    "\n",
    "# Driver Code\n",
    "if __name__ == '__main__':\n",
    "    \n",
    "    Decimal = 2747;\n",
    "\n",
    "    convert(Decimal);\n",
    "\n",
    "# This code is contributed by Rajput-Ji\n"
   ]
  },
  {
   "cell_type": "code",
   "execution_count": 3,
   "metadata": {},
   "outputs": [
    {
     "name": "stdout",
     "output_type": "stream",
     "text": [
      "Decimal number of 10202202 is: 2747.0\n"
     ]
    }
   ],
   "source": [
    "# Python3 program to convert a\n",
    "# ternary number to decimal number\n",
    "import math;\n",
    "\n",
    "# Function to convert a ternary\n",
    "# number to a decimal number\n",
    "def convertToDecimal(N):\n",
    "\n",
    "    print(\"Decimal number of\", N, \"is:\", end = \" \");\n",
    "\n",
    "    # If the number is greater than 0,\n",
    "    # compute the decimal\n",
    "    # representation of the number\n",
    "    if (N != 0):\n",
    "\n",
    "        decimalNumber = 0; \n",
    "        i = 0;\n",
    "        remainder = 0;\n",
    "\n",
    "        # Loop to iterate through\n",
    "        # the number\n",
    "        while (N != 0):\n",
    "            remainder = N % 10;\n",
    "            N = N // 10;\n",
    "\n",
    "            # Computing the decimal digit\n",
    "            decimalNumber += remainder * math.pow(3, i);\n",
    "            i += 1;\n",
    "        \n",
    "        print(decimalNumber);\n",
    "    \n",
    "    else:\n",
    "        print(\"0\");\n",
    "\n",
    "# Driver code\n",
    "Ternary = 10202202;\n",
    "convertToDecimal(Ternary);\n",
    "\n",
    "# This code is contributed by Code_Mech\n"
   ]
  }
 ],
 "metadata": {
  "kernelspec": {
   "display_name": ".venv",
   "language": "python",
   "name": "python3"
  },
  "language_info": {
   "codemirror_mode": {
    "name": "ipython",
    "version": 3
   },
   "file_extension": ".py",
   "mimetype": "text/x-python",
   "name": "python",
   "nbconvert_exporter": "python",
   "pygments_lexer": "ipython3",
   "version": "3.13.2"
  }
 },
 "nbformat": 4,
 "nbformat_minor": 2
}
