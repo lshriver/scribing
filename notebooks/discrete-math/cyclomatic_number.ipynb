{
 "cells": [
  {
   "cell_type": "code",
   "execution_count": 1,
   "id": "fc72739f",
   "metadata": {},
   "outputs": [],
   "source": [
    "import networkx as nx"
   ]
  },
  {
   "cell_type": "markdown",
   "id": "9be8dfc9",
   "metadata": {},
   "source": [
    "# Compute the Cyclomatic Number of $G(V,E)$\n",
    "\n",
    "$$\\beta(G)=|E(G)|-|V(G)|+\\kappa(G)$$\n",
    "\n",
    "where,\n",
    "- $|E(G)|=$ number of edges in $G$\n",
    "- $|V(G)|=$ nubmer of vertices in $G$\n",
    "- $\\kappa=$ number of connected components in $G$ \n",
    "\n",
    "$\\beta(G)$ gives...\n",
    "- The minimum number of edges that must be removed from $G$ in order to obtain an acyclic graph\n",
    "- The number of independent cycles in $G$"
   ]
  },
  {
   "cell_type": "code",
   "execution_count": 2,
   "id": "7a061f59",
   "metadata": {},
   "outputs": [
    {
     "name": "stdout",
     "output_type": "stream",
     "text": [
      "Cyclomatic number of the graph: 1\n"
     ]
    }
   ],
   "source": [
    "def cyclomatic_number(G):\n",
    "    num_edges = G.number_of_edges()\n",
    "    num_nodes = G.number_of_nodes()\n",
    "    num_components = nx.number_connected_components(G) if not G.is_directed() else nx.number_weakly_connected_components(G)\n",
    "    return num_edges - num_nodes + num_components\n",
    "\n",
    "if __name__ == \"__main__\":\n",
    "    G = nx.Graph()\n",
    "    G.add_edges_from([(0, 1), (0, 2), (1, 2)])   # triangle (3-cycle)\n",
    "\n",
    "    beta = cyclomatic_number(G)\n",
    "    print(f\"Cyclomatic number of the graph: {beta}\")"
   ]
  }
 ],
 "metadata": {
  "kernelspec": {
   "display_name": "venv",
   "language": "python",
   "name": "python3"
  },
  "language_info": {
   "codemirror_mode": {
    "name": "ipython",
    "version": 3
   },
   "file_extension": ".py",
   "mimetype": "text/x-python",
   "name": "python",
   "nbconvert_exporter": "python",
   "pygments_lexer": "ipython3",
   "version": "3.11.2"
  }
 },
 "nbformat": 4,
 "nbformat_minor": 5
}
