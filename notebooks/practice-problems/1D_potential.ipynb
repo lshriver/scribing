{
 "cells": [
  {
   "cell_type": "code",
   "execution_count": 14,
   "metadata": {},
   "outputs": [],
   "source": [
    "import numpy as np\n",
    "import matplotlib.pyplot as plt\n",
    "from scipy.constants import physical_constants\n",
    "from scipy.sparse import diags\n",
    "from scipy.sparse.linalg import eigsh\n",
    "import pandas as pd"
   ]
  },
  {
   "cell_type": "markdown",
   "metadata": {},
   "source": [
    "# Task 1: Numerically solving for eigenstates and eigenvalues of an arbitrary 1D potential\n",
    "\n",
    "Description: Obtain the energy eigenvalues $E_n$ and wavefunctions $\\psi_n(r)$ for the anharmonic Morse potential (below). Note that value of the parameters correspond the hydrogen fluoride. Tabulate $E_n$ for $n=0$ to $5$, and plot the corresponding $\\psi_n(r)$.\n",
    "\n",
    "$$V = D_e [1-e^{-\\alpha x}]^2$$\n",
    "- **Equilibrium bond energy**:\n",
    "    $$D=6.091\\times10^{-19} \\text{ J}$$\n",
    "- **Equilibrium bond length**:\n",
    "    $$r_0=9.109\\times10^{-11} \\text{ m}, \\quad x=r-r_0$$\n",
    "- **Force constant**:\n",
    "    $$k=1.039\\times10^{3} \\ \\text{J}\\text{m}^{-2}, \\quad \\alpha=\\sqrt{ k / 2D_e}$$"
   ]
  },
  {
   "cell_type": "markdown",
   "metadata": {},
   "source": [
    "## Calculate $\\alpha$ using the given $k$ and $D_e$"
   ]
  },
  {
   "cell_type": "code",
   "execution_count": 2,
   "metadata": {},
   "outputs": [
    {
     "name": "stdout",
     "output_type": "stream",
     "text": [
      "Alpha = 2.920e+10 1/m\n"
     ]
    }
   ],
   "source": [
    "import numpy as np\n",
    "\n",
    "k = 1.039e3         # J/m^2\n",
    "D_e = 6.091e-19     # J\n",
    "\n",
    "alpha = np.sqrt(k / (2 * D_e))  # 1/m\n",
    "print(f\"Alpha = {alpha:.3e} 1/m\")"
   ]
  },
  {
   "cell_type": "markdown",
   "metadata": {},
   "source": [
    "## Reduced mass, $\\mu$ of H-F molecule\n",
    "\n",
    "$$\\mu = \\frac{m_\\text{H} m_\\text{F}}{m_\\text{H} + m_\\text{F}}"
   ]
  },
  {
   "cell_type": "code",
   "execution_count": 4,
   "metadata": {},
   "outputs": [
    {
     "name": "stdout",
     "output_type": "stream",
     "text": [
      "Reduced mass: 1.589e-27 kg\n"
     ]
    }
   ],
   "source": [
    "m_H_u = 1.00784     # atomic mass units\n",
    "m_F_u = 18.998403   # atomic mass units\n",
    "u = 1.660539e-27    # kg\n",
    "\n",
    "m_H = m_H_u * u\n",
    "m_F = m_F_u * u\n",
    "mu = (m_H * m_F) / (m_H + m_F)\n",
    "print(f\"Reduced mass: {mu:.3e} kg\")"
   ]
  },
  {
   "cell_type": "markdown",
   "metadata": {},
   "source": [
    "## Set up spatial grid"
   ]
  },
  {
   "cell_type": "code",
   "execution_count": 6,
   "metadata": {},
   "outputs": [],
   "source": [
    "xmin = -5e-10   # m\n",
    "xmax = 5e-10    # m\n",
    "N = 1000        # number of grid points\n",
    "x = np.linspace(xmin, xmax, N)\n",
    "dx = x[1] - x[0]"
   ]
  },
  {
   "cell_type": "markdown",
   "metadata": {},
   "source": [
    "## Calculate the potential $V(x)$ at each point on the grid"
   ]
  },
  {
   "cell_type": "code",
   "execution_count": 7,
   "metadata": {},
   "outputs": [],
   "source": [
    "V = D_e * (1 - np.exp(-alpha * x))**2"
   ]
  },
  {
   "cell_type": "markdown",
   "metadata": {},
   "source": [
    "## Set up the kinetic energy operator ⚠️"
   ]
  },
  {
   "cell_type": "code",
   "execution_count": 8,
   "metadata": {},
   "outputs": [
    {
     "name": "stdout",
     "output_type": "stream",
     "text": [
      "<DIAgonal sparse matrix of dtype 'float64'\n",
      "\twith 2998 stored elements (3 diagonals) and shape (1000, 1000)>\n",
      "  Coords\tValues\n",
      "  (1, 0)\t3.4918940745861605e-18\n",
      "  (2, 1)\t3.4918940745861605e-18\n",
      "  (3, 2)\t3.4918940745861605e-18\n",
      "  (4, 3)\t3.4918940745861605e-18\n",
      "  (5, 4)\t3.4918940745861605e-18\n",
      "  (6, 5)\t3.4918940745861605e-18\n",
      "  (7, 6)\t3.4918940745861605e-18\n",
      "  (8, 7)\t3.4918940745861605e-18\n",
      "  (9, 8)\t3.4918940745861605e-18\n",
      "  (10, 9)\t3.4918940745861605e-18\n",
      "  (11, 10)\t3.4918940745861605e-18\n",
      "  (12, 11)\t3.4918940745861605e-18\n",
      "  (13, 12)\t3.4918940745861605e-18\n",
      "  (14, 13)\t3.4918940745861605e-18\n",
      "  (15, 14)\t3.4918940745861605e-18\n",
      "  (16, 15)\t3.4918940745861605e-18\n",
      "  (17, 16)\t3.4918940745861605e-18\n",
      "  (18, 17)\t3.4918940745861605e-18\n",
      "  (19, 18)\t3.4918940745861605e-18\n",
      "  (20, 19)\t3.4918940745861605e-18\n",
      "  (21, 20)\t3.4918940745861605e-18\n",
      "  (22, 21)\t3.4918940745861605e-18\n",
      "  (23, 22)\t3.4918940745861605e-18\n",
      "  (24, 23)\t3.4918940745861605e-18\n",
      "  (25, 24)\t3.4918940745861605e-18\n",
      "  :\t:\n",
      "  (974, 975)\t3.4918940745861605e-18\n",
      "  (975, 976)\t3.4918940745861605e-18\n",
      "  (976, 977)\t3.4918940745861605e-18\n",
      "  (977, 978)\t3.4918940745861605e-18\n",
      "  (978, 979)\t3.4918940745861605e-18\n",
      "  (979, 980)\t3.4918940745861605e-18\n",
      "  (980, 981)\t3.4918940745861605e-18\n",
      "  (981, 982)\t3.4918940745861605e-18\n",
      "  (982, 983)\t3.4918940745861605e-18\n",
      "  (983, 984)\t3.4918940745861605e-18\n",
      "  (984, 985)\t3.4918940745861605e-18\n",
      "  (985, 986)\t3.4918940745861605e-18\n",
      "  (986, 987)\t3.4918940745861605e-18\n",
      "  (987, 988)\t3.4918940745861605e-18\n",
      "  (988, 989)\t3.4918940745861605e-18\n",
      "  (989, 990)\t3.4918940745861605e-18\n",
      "  (990, 991)\t3.4918940745861605e-18\n",
      "  (991, 992)\t3.4918940745861605e-18\n",
      "  (992, 993)\t3.4918940745861605e-18\n",
      "  (993, 994)\t3.4918940745861605e-18\n",
      "  (994, 995)\t3.4918940745861605e-18\n",
      "  (995, 996)\t3.4918940745861605e-18\n",
      "  (996, 997)\t3.4918940745861605e-18\n",
      "  (997, 998)\t3.4918940745861605e-18\n",
      "  (998, 999)\t3.4918940745861605e-18\n"
     ]
    }
   ],
   "source": [
    "hbar = 1.0545718e-34    # Js\n",
    "\n",
    "# Construct the second derivative operator (kinetic energy term)\n",
    "T_coeff = (hbar**2) / (2 * mu * dx**2)\n",
    "diagonal = -2 * np.ones(N) * T_coeff\n",
    "off_diagonal = np.ones(N - 1) * T_coeff\n",
    "\n",
    "# Assemble the kinetic energy matrix\n",
    "from scipy.sparse import diags\n",
    "\n",
    "T = diags([off_diagonal, diagonal, off_diagonal], offsets=[-1,0,1])"
   ]
  },
  {
   "cell_type": "markdown",
   "metadata": {},
   "source": [
    "## Construct the Hamiltonian Matrix\n",
    "Combine the kinetic and potential energy terms"
   ]
  },
  {
   "cell_type": "code",
   "execution_count": 9,
   "metadata": {},
   "outputs": [],
   "source": [
    "from scipy.sparse import dia_matrix\n",
    "\n",
    "# Potential energy matrix (diagonal matrix ⚠️\n",
    "V_matrix = dia_matrix((V, [0]), shape=(N,N))\n",
    "\n",
    "# Hamiltonian matrix\n",
    "H = T + V_matrix"
   ]
  },
  {
   "cell_type": "markdown",
   "metadata": {},
   "source": [
    "## Solving the Schrodinger Equation ⚠️"
   ]
  },
  {
   "cell_type": "code",
   "execution_count": 11,
   "metadata": {},
   "outputs": [
    {
     "ename": "ArpackNoConvergence",
     "evalue": "ARPACK error -1: No convergence (10001 iterations, 0/6 eigenvectors converged)",
     "output_type": "error",
     "traceback": [
      "\u001b[0;31m---------------------------------------------------------------------------\u001b[0m",
      "\u001b[0;31mArpackNoConvergence\u001b[0m                       Traceback (most recent call last)",
      "Cell \u001b[0;32mIn[11], line 7\u001b[0m\n\u001b[1;32m      4\u001b[0m num_eigenvalues \u001b[38;5;241m=\u001b[39m \u001b[38;5;241m6\u001b[39m\n\u001b[1;32m      6\u001b[0m \u001b[38;5;66;03m# Compute the lowest eigenvalues and corresponding eigenvectors\u001b[39;00m\n\u001b[0;32m----> 7\u001b[0m eigenvalues, eigenvectors \u001b[38;5;241m=\u001b[39m \u001b[43meigsh\u001b[49m\u001b[43m(\u001b[49m\u001b[43mH\u001b[49m\u001b[43m,\u001b[49m\u001b[43m \u001b[49m\u001b[43mk\u001b[49m\u001b[38;5;241;43m=\u001b[39;49m\u001b[43mnum_eigenvalues\u001b[49m\u001b[43m,\u001b[49m\u001b[43m \u001b[49m\u001b[43mwhich\u001b[49m\u001b[38;5;241;43m=\u001b[39;49m\u001b[38;5;124;43m'\u001b[39;49m\u001b[38;5;124;43mSM\u001b[39;49m\u001b[38;5;124;43m'\u001b[39;49m\u001b[43m)\u001b[49m\n",
      "File \u001b[0;32m/workspaces/scribing/qenv/lib/python3.12/site-packages/scipy/sparse/linalg/_eigen/arpack/arpack.py:1700\u001b[0m, in \u001b[0;36meigsh\u001b[0;34m(A, k, M, sigma, which, v0, ncv, maxiter, tol, return_eigenvectors, Minv, OPinv, mode)\u001b[0m\n\u001b[1;32m   1698\u001b[0m \u001b[38;5;28;01mwith\u001b[39;00m _ARPACK_LOCK:\n\u001b[1;32m   1699\u001b[0m     \u001b[38;5;28;01mwhile\u001b[39;00m \u001b[38;5;129;01mnot\u001b[39;00m params\u001b[38;5;241m.\u001b[39mconverged:\n\u001b[0;32m-> 1700\u001b[0m         \u001b[43mparams\u001b[49m\u001b[38;5;241;43m.\u001b[39;49m\u001b[43miterate\u001b[49m\u001b[43m(\u001b[49m\u001b[43m)\u001b[49m\n\u001b[1;32m   1702\u001b[0m     \u001b[38;5;28;01mreturn\u001b[39;00m params\u001b[38;5;241m.\u001b[39mextract(return_eigenvectors)\n",
      "File \u001b[0;32m/workspaces/scribing/qenv/lib/python3.12/site-packages/scipy/sparse/linalg/_eigen/arpack/arpack.py:571\u001b[0m, in \u001b[0;36m_SymmetricArpackParams.iterate\u001b[0;34m(self)\u001b[0m\n\u001b[1;32m    569\u001b[0m     \u001b[38;5;28;01mpass\u001b[39;00m\n\u001b[1;32m    570\u001b[0m \u001b[38;5;28;01melif\u001b[39;00m \u001b[38;5;28mself\u001b[39m\u001b[38;5;241m.\u001b[39minfo \u001b[38;5;241m==\u001b[39m \u001b[38;5;241m1\u001b[39m:\n\u001b[0;32m--> 571\u001b[0m     \u001b[38;5;28;43mself\u001b[39;49m\u001b[38;5;241;43m.\u001b[39;49m\u001b[43m_raise_no_convergence\u001b[49m\u001b[43m(\u001b[49m\u001b[43m)\u001b[49m\n\u001b[1;32m    572\u001b[0m \u001b[38;5;28;01melse\u001b[39;00m:\n\u001b[1;32m    573\u001b[0m     \u001b[38;5;28;01mraise\u001b[39;00m ArpackError(\u001b[38;5;28mself\u001b[39m\u001b[38;5;241m.\u001b[39minfo, infodict\u001b[38;5;241m=\u001b[39m\u001b[38;5;28mself\u001b[39m\u001b[38;5;241m.\u001b[39miterate_infodict)\n",
      "File \u001b[0;32m/workspaces/scribing/qenv/lib/python3.12/site-packages/scipy/sparse/linalg/_eigen/arpack/arpack.py:377\u001b[0m, in \u001b[0;36m_ArpackParams._raise_no_convergence\u001b[0;34m(self)\u001b[0m\n\u001b[1;32m    375\u001b[0m     vec \u001b[38;5;241m=\u001b[39m np\u001b[38;5;241m.\u001b[39mzeros((\u001b[38;5;28mself\u001b[39m\u001b[38;5;241m.\u001b[39mn, \u001b[38;5;241m0\u001b[39m))\n\u001b[1;32m    376\u001b[0m     k_ok \u001b[38;5;241m=\u001b[39m \u001b[38;5;241m0\u001b[39m\n\u001b[0;32m--> 377\u001b[0m \u001b[38;5;28;01mraise\u001b[39;00m ArpackNoConvergence(msg \u001b[38;5;241m%\u001b[39m (num_iter, k_ok, \u001b[38;5;28mself\u001b[39m\u001b[38;5;241m.\u001b[39mk), ev, vec)\n",
      "\u001b[0;31mArpackNoConvergence\u001b[0m: ARPACK error -1: No convergence (10001 iterations, 0/6 eigenvectors converged)"
     ]
    }
   ],
   "source": [
    "from scipy.sparse.linalg import eigsh\n",
    "\n",
    "# Number of eigenvalues and eigenvectors to compute\n",
    "num_eigenvalues = 6\n",
    "\n",
    "# Compute the lowest eigenvalues and corresponding eigenvectors\n",
    "eigenvalues, eigenvectors = eigsh(H, k=num_eigenvalues, which='SM')"
   ]
  },
  {
   "cell_type": "markdown",
   "metadata": {},
   "source": [
    "## Converting Eigenvalues to Physical Units"
   ]
  },
  {
   "cell_type": "code",
   "execution_count": 12,
   "metadata": {},
   "outputs": [
    {
     "ename": "NameError",
     "evalue": "name 'eigenvalues' is not defined",
     "output_type": "error",
     "traceback": [
      "\u001b[0;31m---------------------------------------------------------------------------\u001b[0m",
      "\u001b[0;31mNameError\u001b[0m                                 Traceback (most recent call last)",
      "Cell \u001b[0;32mIn[12], line 2\u001b[0m\n\u001b[1;32m      1\u001b[0m \u001b[38;5;66;03m# Eigenvalues are already in Joules\u001b[39;00m\n\u001b[0;32m----> 2\u001b[0m E_n \u001b[38;5;241m=\u001b[39m \u001b[43meigenvalues\u001b[49m\n",
      "\u001b[0;31mNameError\u001b[0m: name 'eigenvalues' is not defined"
     ]
    }
   ],
   "source": [
    "# Eigenvalues are already in Joules\n",
    "E_n = eigenvalues   # J"
   ]
  },
  {
   "cell_type": "markdown",
   "metadata": {},
   "source": [
    "## Normalizing the Eigenfunctions ⚠️\n",
    "Normalize the eigenfunctions so that the integral over all space is 1"
   ]
  },
  {
   "cell_type": "code",
   "execution_count": null,
   "metadata": {},
   "outputs": [],
   "source": [
    "# Normalize eigenfunctions\n",
    "psi_n = []\n",
    "for i in range(num_eigenvalues):\n",
    "    psi = eigenvectors[:, i]\n",
    "    \n",
    "    # Normalize\n",
    "    norm = np.sqrt(np.sum(np.abs(psi)**2) + dx)    \n",
    "    psi_n.append(psi / norm) "
   ]
  },
  {
   "cell_type": "markdown",
   "metadata": {},
   "source": [
    "## Tabulate the Energy Eigenvalues"
   ]
  },
  {
   "cell_type": "code",
   "execution_count": null,
   "metadata": {},
   "outputs": [],
   "source": [
    "import pandas as pd \n",
    "\n",
    "data = {'n': np.arange(num_eigenvalues), 'E_n (J)': E_n}\n",
    "df = pd.DataFrame(data)\n",
    "print(df)"
   ]
  },
  {
   "cell_type": "markdown",
   "metadata": {},
   "source": [
    "## Plot the Wavefunctions"
   ]
  },
  {
   "cell_type": "code",
   "execution_count": 13,
   "metadata": {},
   "outputs": [
    {
     "ename": "NameError",
     "evalue": "name 'r_0' is not defined",
     "output_type": "error",
     "traceback": [
      "\u001b[0;31m---------------------------------------------------------------------------\u001b[0m",
      "\u001b[0;31mNameError\u001b[0m                                 Traceback (most recent call last)",
      "Cell \u001b[0;32mIn[13], line 5\u001b[0m\n\u001b[1;32m      3\u001b[0m plt\u001b[38;5;241m.\u001b[39mfigure(figsize\u001b[38;5;241m=\u001b[39m(\u001b[38;5;241m10\u001b[39m, \u001b[38;5;241m6\u001b[39m))\n\u001b[1;32m      4\u001b[0m \u001b[38;5;28;01mfor\u001b[39;00m i \u001b[38;5;129;01min\u001b[39;00m \u001b[38;5;28mrange\u001b[39m(num_eigenvalues):\n\u001b[0;32m----> 5\u001b[0m     plt\u001b[38;5;241m.\u001b[39mplot(x \u001b[38;5;241m+\u001b[39m \u001b[43mr_0\u001b[49m, psi_n[i] \u001b[38;5;241m+\u001b[39m E_n[i], label\u001b[38;5;241m=\u001b[39m\u001b[38;5;124mf\u001b[39m\u001b[38;5;124m'\u001b[39m\u001b[38;5;124mn=\u001b[39m\u001b[38;5;132;01m{\u001b[39;00mi\u001b[38;5;132;01m}\u001b[39;00m\u001b[38;5;124m'\u001b[39m)\n\u001b[1;32m      7\u001b[0m \u001b[38;5;66;03m# Plot the potential for reference\u001b[39;00m\n\u001b[1;32m      8\u001b[0m plt\u001b[38;5;241m.\u001b[39mplot(x \u001b[38;5;241m+\u001b[39m r_0, V, \u001b[38;5;124m'\u001b[39m\u001b[38;5;124mk-\u001b[39m\u001b[38;5;124m'\u001b[39m, label\u001b[38;5;241m=\u001b[39m\u001b[38;5;124m'\u001b[39m\u001b[38;5;124mPotential V(x)\u001b[39m\u001b[38;5;124m'\u001b[39m)\n",
      "\u001b[0;31mNameError\u001b[0m: name 'r_0' is not defined"
     ]
    },
    {
     "data": {
      "text/plain": [
       "<Figure size 1000x600 with 0 Axes>"
      ]
     },
     "metadata": {},
     "output_type": "display_data"
    }
   ],
   "source": [
    "import matplotlib.pyplot as plt \n",
    "\n",
    "plt.figure(figsize=(10, 6))\n",
    "for i in range(num_eigenvalues):\n",
    "    plt.plot(x + r_0, psi_n[i] + E_n[i], label=f'n={i}')\n",
    "    \n",
    "# Plot the potential for reference\n",
    "plt.plot(x + r_0, V, 'k-', label='Potential V(x)')\n",
    "\n",
    "plt.xlabel('Position r (m)')\n",
    "plt.ylabel('Energy (J)')\n",
    "plt.title('Morse Potential Wavefunction')\n",
    "plt.legend()\n",
    "plt.show()"
   ]
  }
 ],
 "metadata": {
  "kernelspec": {
   "display_name": "qenv",
   "language": "python",
   "name": "python3"
  },
  "language_info": {
   "codemirror_mode": {
    "name": "ipython",
    "version": 3
   },
   "file_extension": ".py",
   "mimetype": "text/x-python",
   "name": "python",
   "nbconvert_exporter": "python",
   "pygments_lexer": "ipython3",
   "version": "3.12.1"
  }
 },
 "nbformat": 4,
 "nbformat_minor": 2
}
