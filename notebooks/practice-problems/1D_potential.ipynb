{
 "cells": [
  {
   "cell_type": "code",
   "execution_count": 98,
   "metadata": {},
   "outputs": [],
   "source": [
    "import numpy as np\n",
    "import matplotlib.pyplot as plt\n",
    "from scipy.constants import physical_constants\n",
    "from scipy.sparse import diags\n",
    "from scipy.sparse.linalg import eigsh\n",
    "import pandas as pd# Import necessary libraries\n",
    "import numpy as np\n",
    "import sympy as sp\n",
    "from IPython.display import display, Math\n",
    "\n",
    "import sys\n",
    "sys.path.append('/workspaces/scribing/')\n",
    "from colors import Bcolors as bc"
   ]
  },
  {
   "cell_type": "markdown",
   "metadata": {},
   "source": [
    "# ⚠️⚠️⚠️⚠️Script still not properly rendering!"
   ]
  },
  {
   "cell_type": "markdown",
   "metadata": {},
   "source": [
    "# Numerically solving for eigenstates and eigenvalues of an arbitrary 1D potential\n",
    "\n",
    "Description: Obtain the energy eigenvalues $E_n$ and wavefunctions $\\psi_n(r)$ for the anharmonic Morse potential (below). Note that value of the parameters correspond the hydrogen fluoride. Tabulate $E_n$ for $n=0$ to $5$, and plot the corresponding $\\psi_n(r)$.\n",
    "\n",
    "$$V = D_e [1-e^{-\\alpha x}]^2$$\n",
    "- **Equilibrium bond energy**:\n",
    "    $$D=6.091\\times10^{-19} \\text{ J}$$\n",
    "- **Equilibrium bond length**:\n",
    "    $$r_0=9.109\\times10^{-11} \\text{ m}, \\quad x=r-r_0$$\n",
    "- **Force constant**:\n",
    "    $$k=1.039\\times10^{3} \\ \\text{J}\\text{m}^{-2}, \\quad \\alpha=\\sqrt{ k / 2D_e}$$"
   ]
  },
  {
   "cell_type": "markdown",
   "metadata": {},
   "source": [
    "## Define constants in atomic units"
   ]
  },
  {
   "cell_type": "code",
   "execution_count": 99,
   "metadata": {},
   "outputs": [
    {
     "data": {
      "text/html": [
       "<div>\n",
       "<style scoped>\n",
       "    .dataframe tbody tr th:only-of-type {\n",
       "        vertical-align: middle;\n",
       "    }\n",
       "\n",
       "    .dataframe tbody tr th {\n",
       "        vertical-align: top;\n",
       "    }\n",
       "\n",
       "    .dataframe thead th {\n",
       "        text-align: right;\n",
       "    }\n",
       "</style>\n",
       "<table border=\"1\" class=\"dataframe\">\n",
       "  <thead>\n",
       "    <tr style=\"text-align: right;\">\n",
       "      <th></th>\n",
       "      <th>Constant</th>\n",
       "      <th>Value in SI Units</th>\n",
       "      <th>SI Units</th>\n",
       "      <th>Value in Atomic Units</th>\n",
       "      <th>AU Units</th>\n",
       "    </tr>\n",
       "  </thead>\n",
       "  <tbody>\n",
       "    <tr>\n",
       "      <th>0</th>\n",
       "      <td>hbar</td>\n",
       "      <td>1.054572e-34</td>\n",
       "      <td>J·s</td>\n",
       "      <td>1.000000</td>\n",
       "      <td>reduced Planck constant</td>\n",
       "    </tr>\n",
       "    <tr>\n",
       "      <th>1</th>\n",
       "      <td>m_e (electron mass)</td>\n",
       "      <td>9.109384e-31</td>\n",
       "      <td>kg</td>\n",
       "      <td>0.000549</td>\n",
       "      <td>Daltons</td>\n",
       "    </tr>\n",
       "    <tr>\n",
       "      <th>2</th>\n",
       "      <td>a_0</td>\n",
       "      <td>5.291772e-11</td>\n",
       "      <td>m</td>\n",
       "      <td>1.000000</td>\n",
       "      <td>Bohr radius</td>\n",
       "    </tr>\n",
       "    <tr>\n",
       "      <th>3</th>\n",
       "      <td>E_h</td>\n",
       "      <td>4.359745e-18</td>\n",
       "      <td>J</td>\n",
       "      <td>1.000000</td>\n",
       "      <td>Hartree energy</td>\n",
       "    </tr>\n",
       "  </tbody>\n",
       "</table>\n",
       "</div>"
      ],
      "text/plain": [
       "              Constant  Value in SI Units SI Units  Value in Atomic Units  \\\n",
       "0                 hbar       1.054572e-34      J·s               1.000000   \n",
       "1  m_e (electron mass)       9.109384e-31       kg               0.000549   \n",
       "2                  a_0       5.291772e-11        m               1.000000   \n",
       "3                  E_h       4.359745e-18        J               1.000000   \n",
       "\n",
       "                  AU Units  \n",
       "0  reduced Planck constant  \n",
       "1                  Daltons  \n",
       "2              Bohr radius  \n",
       "3           Hartree energy  "
      ]
     },
     "execution_count": 99,
     "metadata": {},
     "output_type": "execute_result"
    }
   ],
   "source": [
    "# Import necessary libraries\n",
    "import pandas as pd\n",
    "from scipy.constants import physical_constants\n",
    "from IPython.display import display, HTML\n",
    "\n",
    "# Physical constants in SI units\n",
    "hbar_SI = physical_constants['Planck constant over 2 pi'][0]  # J·s\n",
    "m_e_SI = physical_constants['electron mass'][0]               # kg\n",
    "a_0_SI = physical_constants['Bohr radius'][0]                 # m\n",
    "E_h_SI = physical_constants['Hartree energy'][0]              # J\n",
    "\n",
    "# Physical constants in atomic units\n",
    "hbar_AU = 1    # Reduced Planck constant\n",
    "m_e_AU = 5.4858e-4     # Atomic mass unit (Daltons)\n",
    "a_0_AU = 1     # Bohr radius\n",
    "E_h_AU = 1     # Hartree energy\n",
    "\n",
    "# Create a dictionary with the physical constants\n",
    "physical_constants_data = {\n",
    "    'Constant': [\n",
    "        r'hbar',\n",
    "        r'm_e (electron mass)',\n",
    "        r'a_0',\n",
    "        r'E_h'\n",
    "    ],\n",
    "    'Value in SI Units': [hbar_SI, m_e_SI, a_0_SI, E_h_SI],\n",
    "    'SI Units': ['J·s', 'kg', 'm', 'J'], \n",
    "    'Value in Atomic Units': [hbar_AU, m_e_AU, a_0_AU, E_h_AU],\n",
    "    'AU Units': ['reduced Planck constant', 'Daltons', 'Bohr radius', 'Hartree energy']\n",
    "}\n",
    "\n",
    "# Create a DataFrame\n",
    "df = pd.DataFrame(physical_constants_data)\n",
    "df"
   ]
  },
  {
   "cell_type": "markdown",
   "metadata": {},
   "source": [
    "## Calculate $\\alpha$ using the given $k$ and $D_e$\n",
    "✨ Make sure to convert parameters into atomic units"
   ]
  },
  {
   "cell_type": "code",
   "execution_count": 100,
   "metadata": {},
   "outputs": [
    {
     "name": "stdout",
     "output_type": "stream",
     "text": [
      "Equilibrium bond energy = 0.13971 daltons\n",
      "Force constant in atomic units = 0.66735 (unitless)\n",
      "Alpha in atomic units = 1.54543\n"
     ]
    }
   ],
   "source": [
    "import numpy as np\n",
    "from scipy.constants import physical_constants\n",
    "\n",
    "# Given values in SI units\n",
    "k_SI = 1.039e3       # J/m^2\n",
    "D_e_SI = 6.091e-19   # J\n",
    "r_0_SI = 9.109e-11   # m\n",
    "\n",
    "# Convert D_e to Hartree (atomic units)\n",
    "D_e_AU = D_e_SI / E_h_SI\n",
    "r_0_AU = r_0_SI / a_0_SI\n",
    "\n",
    "# Correct conversion of k to atomic units\n",
    "k_AU = k_AU * (a_0_AU**2) / E_h_AU  # Units: (J/m^2)*(m^2)/J = dimensionless\n",
    "\n",
    "# Compute alpha in atomic units\n",
    "alpha_AU = np.sqrt(k_AU / (2 * D_e_AU))\n",
    "\n",
    "print(f\"Equilibrium bond energy = {D_e_AU:.5f} daltons\")\n",
    "print(f\"Force constant in atomic units = {k_AU:.5f} (unitless)\")  \n",
    "print(f\"Alpha in atomic units = {alpha_AU:.5f}\")"
   ]
  },
  {
   "cell_type": "markdown",
   "metadata": {},
   "source": [
    "## Reduced mass, $\\mu$ of H-F molecule\n",
    "\n",
    "$$\\mu = \\frac{m_\\text{H} m_\\text{F}}{m_\\text{H} + m_\\text{F}}"
   ]
  },
  {
   "cell_type": "code",
   "execution_count": 101,
   "metadata": {},
   "outputs": [
    {
     "name": "stdout",
     "output_type": "stream",
     "text": [
      "Reduced mass: \u001b[32m9.571e-01 atomic mass units\u001b[0m\n"
     ]
    }
   ],
   "source": [
    "# Atomic mass in atomic mass units\n",
    "m_H_AU = 1.00784     # atomic mass units\n",
    "m_F_AU = 18.998403   # atomic mass units\n",
    "\n",
    "mu_AU = (m_H_AU * m_F_AU) / (m_H_AU + m_F_AU)\n",
    "\n",
    "# Reduced mass in atomic mass units (mu / m_e)\n",
    "print(f\"Reduced mass: {bc.GREEN}{mu_AU:.3e} atomic mass units{bc.ENDC}\")"
   ]
  },
  {
   "cell_type": "markdown",
   "metadata": {},
   "source": [
    "## Set up spatial grid"
   ]
  },
  {
   "cell_type": "code",
   "execution_count": 102,
   "metadata": {},
   "outputs": [
    {
     "data": {
      "text/html": [
       "<div>\n",
       "<style scoped>\n",
       "    .dataframe tbody tr th:only-of-type {\n",
       "        vertical-align: middle;\n",
       "    }\n",
       "\n",
       "    .dataframe tbody tr th {\n",
       "        vertical-align: top;\n",
       "    }\n",
       "\n",
       "    .dataframe thead th {\n",
       "        text-align: right;\n",
       "    }\n",
       "</style>\n",
       "<table border=\"1\" class=\"dataframe\">\n",
       "  <thead>\n",
       "    <tr style=\"text-align: right;\">\n",
       "      <th></th>\n",
       "      <th>Grid point/interval</th>\n",
       "      <th>Value in AU Units</th>\n",
       "      <th>Atomic Units</th>\n",
       "    </tr>\n",
       "  </thead>\n",
       "  <tbody>\n",
       "    <tr>\n",
       "      <th>0</th>\n",
       "      <td>xmin</td>\n",
       "      <td>-3.779452</td>\n",
       "      <td>Bohr radii</td>\n",
       "    </tr>\n",
       "    <tr>\n",
       "      <th>1</th>\n",
       "      <td>xmax</td>\n",
       "      <td>9.448631</td>\n",
       "      <td>Bohr radii</td>\n",
       "    </tr>\n",
       "    <tr>\n",
       "      <th>2</th>\n",
       "      <td>dx</td>\n",
       "      <td>0.013241</td>\n",
       "      <td>Bohr radii</td>\n",
       "    </tr>\n",
       "  </tbody>\n",
       "</table>\n",
       "</div>"
      ],
      "text/plain": [
       "  Grid point/interval  Value in AU Units Atomic Units\n",
       "0                xmin          -3.779452   Bohr radii\n",
       "1                xmax           9.448631   Bohr radii\n",
       "2                  dx           0.013241   Bohr radii"
      ]
     },
     "execution_count": 102,
     "metadata": {},
     "output_type": "execute_result"
    }
   ],
   "source": [
    "# Spatial range in atomic units (typically a few Bohr radii around equilibrium)\n",
    "xmin = (-2e-10)/(a_0_SI)  # a_0\n",
    "xmax = (5e-10)/(a_0_SI)   # a_0\n",
    "\n",
    "N = 1000  # Increase N for better resolution\n",
    "x = np.linspace(xmin, xmax, N)\n",
    "dx = x[1] - x[0]\n",
    "\n",
    "# Create a dictionary with the data, using raw strings for LaTeX expressions\n",
    "physical_constants_data = {\n",
    "    'Grid point/interval': [\n",
    "        r'xmin',\n",
    "        r'xmax',\n",
    "        r'dx',\n",
    "    ],\n",
    "    'Value in AU Units': [xmin, xmax, dx],\n",
    "    'Atomic Units': ['Bohr radii', 'Bohr radii', 'Bohr radii']\n",
    "}\n",
    "\n",
    "# Create a DataFrame\n",
    "df = pd.DataFrame(physical_constants_data)\n",
    "df\n",
    "\n",
    "# Displacement from equilibrium position (already in atomic units)"
   ]
  },
  {
   "cell_type": "markdown",
   "metadata": {},
   "source": [
    "## Calculate the potential $V(x)$ at each point on the grid"
   ]
  },
  {
   "cell_type": "code",
   "execution_count": 103,
   "metadata": {},
   "outputs": [],
   "source": [
    "V_ii = D_e_AU * (1 - np.exp(-alpha_AU * x))**2   # V in Hartree units\n",
    "\n",
    "# Set minimum value\n",
    "V_floor = 1e-6  # Choose an appropriate floor value\n",
    "V = np.maximum(V_ii, V_floor)"
   ]
  },
  {
   "cell_type": "markdown",
   "metadata": {},
   "source": [
    "## Set up the kinetic energy operator ⚠️"
   ]
  },
  {
   "cell_type": "code",
   "execution_count": 104,
   "metadata": {},
   "outputs": [
    {
     "name": "stdout",
     "output_type": "stream",
     "text": [
      "<DIAgonal sparse matrix of dtype 'float64'\n",
      "\twith 2998 stored elements (3 diagonals) and shape (1000, 1000)>\n",
      "  Coords\tValues\n",
      "  (1, 0)\t-2979.6415339587747\n",
      "  (2, 1)\t-2979.6415339587747\n",
      "  (3, 2)\t-2979.6415339587747\n",
      "  (4, 3)\t-2979.6415339587747\n",
      "  (5, 4)\t-2979.6415339587747\n",
      "  (6, 5)\t-2979.6415339587747\n",
      "  (7, 6)\t-2979.6415339587747\n",
      "  (8, 7)\t-2979.6415339587747\n",
      "  (9, 8)\t-2979.6415339587747\n",
      "  (10, 9)\t-2979.6415339587747\n",
      "  (11, 10)\t-2979.6415339587747\n",
      "  (12, 11)\t-2979.6415339587747\n",
      "  (13, 12)\t-2979.6415339587747\n",
      "  (14, 13)\t-2979.6415339587747\n",
      "  (15, 14)\t-2979.6415339587747\n",
      "  (16, 15)\t-2979.6415339587747\n",
      "  (17, 16)\t-2979.6415339587747\n",
      "  (18, 17)\t-2979.6415339587747\n",
      "  (19, 18)\t-2979.6415339587747\n",
      "  (20, 19)\t-2979.6415339587747\n",
      "  (21, 20)\t-2979.6415339587747\n",
      "  (22, 21)\t-2979.6415339587747\n",
      "  (23, 22)\t-2979.6415339587747\n",
      "  (24, 23)\t-2979.6415339587747\n",
      "  (25, 24)\t-2979.6415339587747\n",
      "  :\t:\n",
      "  (974, 975)\t-2979.6415339587747\n",
      "  (975, 976)\t-2979.6415339587747\n",
      "  (976, 977)\t-2979.6415339587747\n",
      "  (977, 978)\t-2979.6415339587747\n",
      "  (978, 979)\t-2979.6415339587747\n",
      "  (979, 980)\t-2979.6415339587747\n",
      "  (980, 981)\t-2979.6415339587747\n",
      "  (981, 982)\t-2979.6415339587747\n",
      "  (982, 983)\t-2979.6415339587747\n",
      "  (983, 984)\t-2979.6415339587747\n",
      "  (984, 985)\t-2979.6415339587747\n",
      "  (985, 986)\t-2979.6415339587747\n",
      "  (986, 987)\t-2979.6415339587747\n",
      "  (987, 988)\t-2979.6415339587747\n",
      "  (988, 989)\t-2979.6415339587747\n",
      "  (989, 990)\t-2979.6415339587747\n",
      "  (990, 991)\t-2979.6415339587747\n",
      "  (991, 992)\t-2979.6415339587747\n",
      "  (992, 993)\t-2979.6415339587747\n",
      "  (993, 994)\t-2979.6415339587747\n",
      "  (994, 995)\t-2979.6415339587747\n",
      "  (995, 996)\t-2979.6415339587747\n",
      "  (996, 997)\t-2979.6415339587747\n",
      "  (997, 998)\t-2979.6415339587747\n",
      "  (998, 999)\t-2979.6415339587747\n"
     ]
    }
   ],
   "source": [
    "# Construct the second derivative operator (kinetic energy term)\n",
    "T_coeff = (hbar_AU**2) / (2 * mu_AU * dx**2)\n",
    "diagonal = -2 * np.ones(N) * T_coeff\n",
    "off_diagonal = (-1) * np.ones(N - 1) * T_coeff\n",
    "\n",
    "# Assemble the kinetic energy matrix\n",
    "from scipy.sparse import diags\n",
    "\n",
    "T = diags([off_diagonal, diagonal, off_diagonal], offsets=[-1,0,1])\n",
    "print(T)"
   ]
  },
  {
   "cell_type": "markdown",
   "metadata": {},
   "source": [
    "## Construct the Hamiltonian Matrix\n",
    "Combine the kinetic and potential energy terms"
   ]
  },
  {
   "cell_type": "code",
   "execution_count": 105,
   "metadata": {},
   "outputs": [],
   "source": [
    "# Potential energy matrix (diagonal matrix)\n",
    "V_matrix = diags(V, 0, format='csr')\n",
    "\n",
    "# Hamiltonian matrix\n",
    "H = T + V_matrix\n",
    "\n",
    "# Convert to a dense matrix:\n",
    "H = H.toarray()"
   ]
  },
  {
   "cell_type": "markdown",
   "metadata": {},
   "source": [
    "Ensure no NaNs or infinities:"
   ]
  },
  {
   "cell_type": "code",
   "execution_count": 106,
   "metadata": {},
   "outputs": [
    {
     "name": "stdout",
     "output_type": "stream",
     "text": [
      "Hamiltonian matrix is valid.\n"
     ]
    }
   ],
   "source": [
    "import numpy as np\n",
    "\n",
    "if np.isnan(H.data).any() or np.isinf(H.data).any():\n",
    "    print(\"Hamiltonian contains NaNs or Infinities.\")\n",
    "else:\n",
    "    print(\"Hamiltonian matrix is valid.\")"
   ]
  },
  {
   "cell_type": "markdown",
   "metadata": {},
   "source": [
    "Check the magnitudes of matrix elements:"
   ]
  },
  {
   "cell_type": "code",
   "execution_count": 107,
   "metadata": {},
   "outputs": [
    {
     "name": "stdout",
     "output_type": "stream",
     "text": [
      "Max Hamiltonian element: 10485.403764581668\n",
      "Min non-zero Hamiltonian element: 71.21894016234637\n"
     ]
    }
   ],
   "source": [
    "H_data = np.array(H.data)\n",
    "max_element = np.max(np.abs(H_data))\n",
    "non_zero_elements = H_data[H_data != 0]  # This extracts all non-zero elements\n",
    "\n",
    "min_element = np.min(np.abs(non_zero_elements))\n",
    "print(f\"Max Hamiltonian element: {max_element}\")\n",
    "print(f\"Min non-zero Hamiltonian element: {min_element}\")"
   ]
  },
  {
   "cell_type": "markdown",
   "metadata": {},
   "source": [
    "## Solving the Schrodinger Equation ⚠️"
   ]
  },
  {
   "cell_type": "code",
   "execution_count": 108,
   "metadata": {},
   "outputs": [],
   "source": [
    "from scipy.sparse.linalg import eigsh\n",
    "\n",
    "# Number of eigenvalues and eigenvectors to compute\n",
    "num_eigenvalues = 6\n",
    "\n",
    "# Compute the lowest eigenvalues and corresponding eigenvectors\n",
    "eigenvalues, eigenvectors = eigsh(H, k=num_eigenvalues, which='SA', tol=1e-5, maxiter=10000)\n",
    "\n",
    "# 'which' parameter:\n",
    "# 'SA' - compute the smallest algebraic eigenvalues\n",
    "# 'SM' - may not work properly with sparse matrices and complex potentials"
   ]
  },
  {
   "cell_type": "markdown",
   "metadata": {},
   "source": [
    "## Converting Eigenvalues to Physical Units"
   ]
  },
  {
   "cell_type": "code",
   "execution_count": 109,
   "metadata": {},
   "outputs": [],
   "source": [
    "# Eigenvalues are already in Joules\n",
    "E_n = eigenvalues   # J"
   ]
  },
  {
   "cell_type": "markdown",
   "metadata": {},
   "source": [
    "## Normalizing the Eigenfunctions ⚠️\n",
    "Normalize the eigenfunctions so that the integral over all space is 1"
   ]
  },
  {
   "cell_type": "code",
   "execution_count": 110,
   "metadata": {},
   "outputs": [],
   "source": [
    "# Normalize eigenfunctions\n",
    "psi_n = []\n",
    "for i in range(num_eigenvalues):\n",
    "    psi = eigenvectors[:, i]\n",
    "    \n",
    "    # Normalize\n",
    "    norm = np.sqrt(np.sum(np.abs(psi)**2) + dx)    \n",
    "    psi_n.append(psi / norm) "
   ]
  },
  {
   "cell_type": "markdown",
   "metadata": {},
   "source": [
    "## Tabulate the Energy Eigenvalues"
   ]
  },
  {
   "cell_type": "code",
   "execution_count": 111,
   "metadata": {},
   "outputs": [
    {
     "name": "stdout",
     "output_type": "stream",
     "text": [
      "   n       E_n (J)\n",
      "0  0 -11918.392426\n",
      "1  1 -11918.269071\n",
      "2  2 -11918.046637\n",
      "3  3 -11917.730200\n",
      "4  4 -11917.324246\n",
      "5  5 -11916.831382\n"
     ]
    }
   ],
   "source": [
    "import pandas as pd \n",
    "\n",
    "data = {'n': np.arange(num_eigenvalues), 'E_n (J)': E_n}\n",
    "df = pd.DataFrame(data)\n",
    "print(df)"
   ]
  },
  {
   "cell_type": "markdown",
   "metadata": {},
   "source": [
    "## Plot the Wavefunctions"
   ]
  },
  {
   "cell_type": "code",
   "execution_count": 112,
   "metadata": {},
   "outputs": [
    {
     "data": {
      "image/png": "[encoded data removed]",
      "text/plain": [
       "<Figure size 1000x600 with 1 Axes>"
      ]
     },
     "metadata": {},
     "output_type": "display_data"
    }
   ],
   "source": [
    "import matplotlib.pyplot as plt \n",
    "\n",
    "plt.figure(figsize=(10, 6))\n",
    "for i in range(num_eigenvalues):\n",
    "    plt.plot(x + r_0_AU, psi_n[i] + E_n[i], label=f'n={i}')\n",
    "    \n",
    "# Plot the potential for reference\n",
    "plt.plot(x + r_0_AU, V, 'k-', label='Potential V(x)')\n",
    "\n",
    "plt.xlabel('Position r (m)')\n",
    "plt.ylabel('Energy (J)')\n",
    "plt.title('Morse Potential Wavefunction')\n",
    "plt.legend()\n",
    "plt.show()"
   ]
  }
 ],
 "metadata": {
  "kernelspec": {
   "display_name": "qenv",
   "language": "python",
   "name": "python3"
  },
  "language_info": {
   "codemirror_mode": {
    "name": "ipython",
    "version": 3
   },
   "file_extension": ".py",
   "mimetype": "text/x-python",
   "name": "python",
   "nbconvert_exporter": "python",
   "pygments_lexer": "ipython3",
   "version": "3.12.1"
  }
 },
 "nbformat": 4,
 "nbformat_minor": 2
}
