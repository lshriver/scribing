{
 "cells": [
  {
   "cell_type": "code",
   "execution_count": 51,
   "metadata": {},
   "outputs": [],
   "source": [
    "import numpy as np\n",
    "import matplotlib.pyplot as plt\n",
    "from scipy.constants import physical_constants\n",
    "from scipy.sparse import diags\n",
    "from scipy.sparse.linalg import eigsh\n",
    "import pandas as pd"
   ]
  },
  {
   "cell_type": "markdown",
   "metadata": {},
   "source": [
    "# ⚠️⚠️⚠️⚠️Script not working!"
   ]
  },
  {
   "cell_type": "markdown",
   "metadata": {},
   "source": [
    "# Numerically solving for eigenstates and eigenvalues of an arbitrary 1D potential\n",
    "\n",
    "Description: Obtain the energy eigenvalues $E_n$ and wavefunctions $\\psi_n(r)$ for the anharmonic Morse potential (below). Note that value of the parameters correspond the hydrogen fluoride. Tabulate $E_n$ for $n=0$ to $5$, and plot the corresponding $\\psi_n(r)$.\n",
    "\n",
    "$$V = D_e [1-e^{-\\alpha x}]^2$$\n",
    "- **Equilibrium bond energy**:\n",
    "    $$D=6.091\\times10^{-19} \\text{ J}$$\n",
    "- **Equilibrium bond length**:\n",
    "    $$r_0=9.109\\times10^{-11} \\text{ m}, \\quad x=r-r_0$$\n",
    "- **Force constant**:\n",
    "    $$k=1.039\\times10^{3} \\ \\text{J}\\text{m}^{-2}, \\quad \\alpha=\\sqrt{ k / 2D_e}$$"
   ]
  },
  {
   "cell_type": "markdown",
   "metadata": {},
   "source": [
    "## Define constants in atomic units"
   ]
  },
  {
   "cell_type": "code",
   "execution_count": 52,
   "metadata": {},
   "outputs": [],
   "source": [
    "# Physical constants in SI units\n",
    "hbar = physical_constants['Planck constant over 2 pi'][0]  # J·s\n",
    "m_e = physical_constants['electron mass'][0]  # kg\n",
    "a_0 = physical_constants['Bohr radius'][0]  # meters\n",
    "E_h = physical_constants['Hartree energy'][0]  # Joules\n",
    "\n",
    "# Convert given parameters to atomic units\n",
    "# Atomic units: hbar = 1, m_e = 1, a_0 = 1, E_h = 1"
   ]
  },
  {
   "cell_type": "markdown",
   "metadata": {},
   "source": [
    "## Calculate $\\alpha$ using the given $k$ and $D_e$\n",
    "✨ Make sure to convert parameters to atomic units"
   ]
  },
  {
   "cell_type": "code",
   "execution_count": 53,
   "metadata": {},
   "outputs": [
    {
     "name": "stdout",
     "output_type": "stream",
     "text": [
      "Alpha in atomic units = 1.545\n"
     ]
    }
   ],
   "source": [
    "# Given parameters in SI units\n",
    "k_SI = 1.039e3         # J/m^2\n",
    "D_e_SI = 6.091e-19     # J\n",
    "\n",
    "# Convert D_e to Hartree (atomic unit of energy)\n",
    "D_e = D_e_SI / E_h     # now in units of Hartree\n",
    "\n",
    "# Convert the force constant k to atomic units\n",
    "# k in atomic units: E_h / a_0^2\n",
    "k = k_SI * (a_0**2) / E_h # now dimensionless\n",
    "\n",
    "# Compute alpha in atomic units\n",
    "alpha = np.sqrt(k / (2 * D_e))  \n",
    "print(f\"Alpha in atomic units = {alpha:.3f}\")"
   ]
  },
  {
   "cell_type": "markdown",
   "metadata": {},
   "source": [
    "## Reduced mass, $\\mu$ of H-F molecule\n",
    "\n",
    "$$\\mu = \\frac{m_\\text{H} m_\\text{F}}{m_\\text{H} + m_\\text{F}}"
   ]
  },
  {
   "cell_type": "code",
   "execution_count": 54,
   "metadata": {},
   "outputs": [
    {
     "name": "stdout",
     "output_type": "stream",
     "text": [
      "Reduced mass in atomic units: 1.745e+03\n"
     ]
    }
   ],
   "source": [
    "# Atomic mass in atomic mass units\n",
    "m_H_u = 1.00784     # atomic mass units\n",
    "m_F_u = 18.998403   # atomic mass units\n",
    "\n",
    "u = physical_constants['atomic mass constant'][0]   # kg\n",
    "\n",
    "# Masses in kg\n",
    "m_H = m_H_u * u\n",
    "m_F = m_F_u * u\n",
    "mu_SI = (m_H * m_F) / (m_H + m_F)\n",
    "\n",
    "# Reduced mass in atomic mass units (mu / m_e)\n",
    "mu = mu_SI / m_e\n",
    "print(f\"Reduced mass in atomic units: {mu:.3e}\")"
   ]
  },
  {
   "cell_type": "markdown",
   "metadata": {},
   "source": [
    "## Set up spatial grid"
   ]
  },
  {
   "cell_type": "code",
   "execution_count": 55,
   "metadata": {},
   "outputs": [],
   "source": [
    "# Spatial range in atomic units (typically a few Bohr radii around equilibrium)\n",
    "x_min = -5  # a_0\n",
    "x_max = 5   # a_0\n",
    "N = 500  # Increase N for better resolution\n",
    "x = np.linspace(x_min, x_max, N)\n",
    "dx = x[1] - x[0]\n",
    "\n",
    "# Displacement from equilibrium position (already in atomic units)"
   ]
  },
  {
   "cell_type": "markdown",
   "metadata": {},
   "source": [
    "## Calculate the potential $V(x)$ at each point on the grid"
   ]
  },
  {
   "cell_type": "code",
   "execution_count": 56,
   "metadata": {},
   "outputs": [],
   "source": [
    "V = D_e * (1 - np.exp(-alpha * x))**2   # V in Hartree units\n",
    "\n",
    "# Set minimum value\n",
    "V_floor = 1e-6  # Choose an appropriate floor value\n",
    "V = np.maximum(D_e * (1 - np.exp(-alpha * x))**2, V_floor)"
   ]
  },
  {
   "cell_type": "markdown",
   "metadata": {},
   "source": [
    "## Set up the kinetic energy operator ⚠️"
   ]
  },
  {
   "cell_type": "code",
   "execution_count": 57,
   "metadata": {},
   "outputs": [],
   "source": [
    "hbar = 1.0545718e-34    # Js\n",
    "\n",
    "# Construct the second derivative operator (kinetic energy term)\n",
    "T_coeff = (hbar**2) / (2 * mu * dx**2)\n",
    "diagonal = -2 * np.ones(N) * T_coeff\n",
    "off_diagonal = np.ones(N - 1) * T_coeff\n",
    "\n",
    "# Assemble the kinetic energy matrix\n",
    "from scipy.sparse import diags\n",
    "\n",
    "T = diags([off_diagonal, diagonal, off_diagonal], offsets=[-1,0,1])"
   ]
  },
  {
   "cell_type": "markdown",
   "metadata": {},
   "source": [
    "## Construct the Hamiltonian Matrix\n",
    "Combine the kinetic and potential energy terms"
   ]
  },
  {
   "cell_type": "code",
   "execution_count": 58,
   "metadata": {},
   "outputs": [],
   "source": [
    "# Potential energy matrix (diagonal matrix)\n",
    "V_matrix = diags(V, 0, format='csr')\n",
    "\n",
    "# Hamiltonian matrix\n",
    "H = T + V_matrix\n",
    "\n",
    "# Convert to a dense matrix:\n",
    "H = H.toarray()"
   ]
  },
  {
   "cell_type": "markdown",
   "metadata": {},
   "source": [
    "Ensure no NaNs or infinities:"
   ]
  },
  {
   "cell_type": "code",
   "execution_count": 59,
   "metadata": {},
   "outputs": [
    {
     "name": "stdout",
     "output_type": "stream",
     "text": [
      "Hamiltonian matrix is valid.\n"
     ]
    }
   ],
   "source": [
    "import numpy as np\n",
    "\n",
    "if np.isnan(H.data).any() or np.isinf(H.data).any():\n",
    "    print(\"Hamiltonian contains NaNs or Infinities.\")\n",
    "else:\n",
    "    print(\"Hamiltonian matrix is valid.\")"
   ]
  },
  {
   "cell_type": "markdown",
   "metadata": {},
   "source": [
    "Check the magnitudes of matrix elements:"
   ]
  },
  {
   "cell_type": "code",
   "execution_count": 60,
   "metadata": {},
   "outputs": [
    {
     "ename": "TypeError",
     "evalue": "only integer scalar arrays can be converted to a scalar index",
     "output_type": "error",
     "traceback": [
      "\u001b[0;31m---------------------------------------------------------------------------\u001b[0m",
      "\u001b[0;31mTypeError\u001b[0m                                 Traceback (most recent call last)",
      "Cell \u001b[0;32mIn[60], line 2\u001b[0m\n\u001b[1;32m      1\u001b[0m max_element \u001b[38;5;241m=\u001b[39m np\u001b[38;5;241m.\u001b[39mmax(np\u001b[38;5;241m.\u001b[39mabs(H\u001b[38;5;241m.\u001b[39mdata))\n\u001b[0;32m----> 2\u001b[0m min_element \u001b[38;5;241m=\u001b[39m np\u001b[38;5;241m.\u001b[39mmin(np\u001b[38;5;241m.\u001b[39mabs(\u001b[43mH\u001b[49m\u001b[38;5;241;43m.\u001b[39;49m\u001b[43mdata\u001b[49m\u001b[43m[\u001b[49m\u001b[43mnp\u001b[49m\u001b[38;5;241;43m.\u001b[39;49m\u001b[43mnonzero\u001b[49m\u001b[43m(\u001b[49m\u001b[43mH\u001b[49m\u001b[38;5;241;43m.\u001b[39;49m\u001b[43mdata\u001b[49m\u001b[43m)\u001b[49m\u001b[43m]\u001b[49m))\n\u001b[1;32m      3\u001b[0m \u001b[38;5;28mprint\u001b[39m(\u001b[38;5;124mf\u001b[39m\u001b[38;5;124m\"\u001b[39m\u001b[38;5;124mMax Hamiltonian element: \u001b[39m\u001b[38;5;132;01m{\u001b[39;00mmax_element\u001b[38;5;132;01m}\u001b[39;00m\u001b[38;5;124m\"\u001b[39m)\n\u001b[1;32m      4\u001b[0m \u001b[38;5;28mprint\u001b[39m(\u001b[38;5;124mf\u001b[39m\u001b[38;5;124m\"\u001b[39m\u001b[38;5;124mMin non-zero Hamiltonian element: \u001b[39m\u001b[38;5;132;01m{\u001b[39;00mmin_element\u001b[38;5;132;01m}\u001b[39;00m\u001b[38;5;124m\"\u001b[39m)\n",
      "\u001b[0;31mTypeError\u001b[0m: only integer scalar arrays can be converted to a scalar index"
     ]
    }
   ],
   "source": [
    "max_element = np.max(np.abs(H.data))\n",
    "min_element = np.min(np.abs(H.data[np.nonzero(H.data)]))\n",
    "print(f\"Max Hamiltonian element: {max_element}\")\n",
    "print(f\"Min non-zero Hamiltonian element: {min_element}\")"
   ]
  },
  {
   "cell_type": "markdown",
   "metadata": {},
   "source": [
    "## Solving the Schrodinger Equation ⚠️"
   ]
  },
  {
   "cell_type": "code",
   "execution_count": 61,
   "metadata": {},
   "outputs": [
    {
     "ename": "ArpackNoConvergence",
     "evalue": "ARPACK error -1: No convergence (10001 iterations, 0/6 eigenvectors converged)",
     "output_type": "error",
     "traceback": [
      "\u001b[0;31m---------------------------------------------------------------------------\u001b[0m",
      "\u001b[0;31mArpackNoConvergence\u001b[0m                       Traceback (most recent call last)",
      "Cell \u001b[0;32mIn[61], line 7\u001b[0m\n\u001b[1;32m      4\u001b[0m num_eigenvalues \u001b[38;5;241m=\u001b[39m \u001b[38;5;241m6\u001b[39m\n\u001b[1;32m      6\u001b[0m \u001b[38;5;66;03m# Compute the lowest eigenvalues and corresponding eigenvectors\u001b[39;00m\n\u001b[0;32m----> 7\u001b[0m eigenvalues, eigenvectors \u001b[38;5;241m=\u001b[39m \u001b[43meigsh\u001b[49m\u001b[43m(\u001b[49m\u001b[43mH\u001b[49m\u001b[43m,\u001b[49m\u001b[43m \u001b[49m\u001b[43mk\u001b[49m\u001b[38;5;241;43m=\u001b[39;49m\u001b[43mnum_eigenvalues\u001b[49m\u001b[43m,\u001b[49m\u001b[43m \u001b[49m\u001b[43mwhich\u001b[49m\u001b[38;5;241;43m=\u001b[39;49m\u001b[38;5;124;43m'\u001b[39;49m\u001b[38;5;124;43mSA\u001b[39;49m\u001b[38;5;124;43m'\u001b[39;49m\u001b[43m,\u001b[49m\u001b[43m \u001b[49m\u001b[43mtol\u001b[49m\u001b[38;5;241;43m=\u001b[39;49m\u001b[38;5;241;43m1e-5\u001b[39;49m\u001b[43m,\u001b[49m\u001b[43m \u001b[49m\u001b[43mmaxiter\u001b[49m\u001b[38;5;241;43m=\u001b[39;49m\u001b[38;5;241;43m10000\u001b[39;49m\u001b[43m)\u001b[49m\n\u001b[1;32m      9\u001b[0m \u001b[38;5;66;03m# 'which' parameter:\u001b[39;00m\n\u001b[1;32m     10\u001b[0m \u001b[38;5;66;03m# 'SA' - compute the smallest algebraic eigenvalues\u001b[39;00m\n\u001b[1;32m     11\u001b[0m \u001b[38;5;66;03m# 'SM' - may not work properly with sparse matrices and complex potentials\u001b[39;00m\n",
      "File \u001b[0;32m/workspaces/scribing/qenv/lib/python3.12/site-packages/scipy/sparse/linalg/_eigen/arpack/arpack.py:1700\u001b[0m, in \u001b[0;36meigsh\u001b[0;34m(A, k, M, sigma, which, v0, ncv, maxiter, tol, return_eigenvectors, Minv, OPinv, mode)\u001b[0m\n\u001b[1;32m   1698\u001b[0m \u001b[38;5;28;01mwith\u001b[39;00m _ARPACK_LOCK:\n\u001b[1;32m   1699\u001b[0m     \u001b[38;5;28;01mwhile\u001b[39;00m \u001b[38;5;129;01mnot\u001b[39;00m params\u001b[38;5;241m.\u001b[39mconverged:\n\u001b[0;32m-> 1700\u001b[0m         \u001b[43mparams\u001b[49m\u001b[38;5;241;43m.\u001b[39;49m\u001b[43miterate\u001b[49m\u001b[43m(\u001b[49m\u001b[43m)\u001b[49m\n\u001b[1;32m   1702\u001b[0m     \u001b[38;5;28;01mreturn\u001b[39;00m params\u001b[38;5;241m.\u001b[39mextract(return_eigenvectors)\n",
      "File \u001b[0;32m/workspaces/scribing/qenv/lib/python3.12/site-packages/scipy/sparse/linalg/_eigen/arpack/arpack.py:571\u001b[0m, in \u001b[0;36m_SymmetricArpackParams.iterate\u001b[0;34m(self)\u001b[0m\n\u001b[1;32m    569\u001b[0m     \u001b[38;5;28;01mpass\u001b[39;00m\n\u001b[1;32m    570\u001b[0m \u001b[38;5;28;01melif\u001b[39;00m \u001b[38;5;28mself\u001b[39m\u001b[38;5;241m.\u001b[39minfo \u001b[38;5;241m==\u001b[39m \u001b[38;5;241m1\u001b[39m:\n\u001b[0;32m--> 571\u001b[0m     \u001b[38;5;28;43mself\u001b[39;49m\u001b[38;5;241;43m.\u001b[39;49m\u001b[43m_raise_no_convergence\u001b[49m\u001b[43m(\u001b[49m\u001b[43m)\u001b[49m\n\u001b[1;32m    572\u001b[0m \u001b[38;5;28;01melse\u001b[39;00m:\n\u001b[1;32m    573\u001b[0m     \u001b[38;5;28;01mraise\u001b[39;00m ArpackError(\u001b[38;5;28mself\u001b[39m\u001b[38;5;241m.\u001b[39minfo, infodict\u001b[38;5;241m=\u001b[39m\u001b[38;5;28mself\u001b[39m\u001b[38;5;241m.\u001b[39miterate_infodict)\n",
      "File \u001b[0;32m/workspaces/scribing/qenv/lib/python3.12/site-packages/scipy/sparse/linalg/_eigen/arpack/arpack.py:377\u001b[0m, in \u001b[0;36m_ArpackParams._raise_no_convergence\u001b[0;34m(self)\u001b[0m\n\u001b[1;32m    375\u001b[0m     vec \u001b[38;5;241m=\u001b[39m np\u001b[38;5;241m.\u001b[39mzeros((\u001b[38;5;28mself\u001b[39m\u001b[38;5;241m.\u001b[39mn, \u001b[38;5;241m0\u001b[39m))\n\u001b[1;32m    376\u001b[0m     k_ok \u001b[38;5;241m=\u001b[39m \u001b[38;5;241m0\u001b[39m\n\u001b[0;32m--> 377\u001b[0m \u001b[38;5;28;01mraise\u001b[39;00m ArpackNoConvergence(msg \u001b[38;5;241m%\u001b[39m (num_iter, k_ok, \u001b[38;5;28mself\u001b[39m\u001b[38;5;241m.\u001b[39mk), ev, vec)\n",
      "\u001b[0;31mArpackNoConvergence\u001b[0m: ARPACK error -1: No convergence (10001 iterations, 0/6 eigenvectors converged)"
     ]
    }
   ],
   "source": [
    "from scipy.sparse.linalg import eigsh\n",
    "\n",
    "# Number of eigenvalues and eigenvectors to compute\n",
    "num_eigenvalues = 6\n",
    "\n",
    "# Compute the lowest eigenvalues and corresponding eigenvectors\n",
    "eigenvalues, eigenvectors = eigsh(H, k=num_eigenvalues, which='SA', tol=1e-5, maxiter=10000)\n",
    "\n",
    "# 'which' parameter:\n",
    "# 'SA' - compute the smallest algebraic eigenvalues\n",
    "# 'SM' - may not work properly with sparse matrices and complex potentials"
   ]
  },
  {
   "cell_type": "markdown",
   "metadata": {},
   "source": [
    "## Converting Eigenvalues to Physical Units"
   ]
  },
  {
   "cell_type": "code",
   "execution_count": null,
   "metadata": {},
   "outputs": [],
   "source": [
    "# Eigenvalues are already in Joules\n",
    "E_n = eigenvalues   # J"
   ]
  },
  {
   "cell_type": "markdown",
   "metadata": {},
   "source": [
    "## Normalizing the Eigenfunctions ⚠️\n",
    "Normalize the eigenfunctions so that the integral over all space is 1"
   ]
  },
  {
   "cell_type": "code",
   "execution_count": 15,
   "metadata": {},
   "outputs": [],
   "source": [
    "# Normalize eigenfunctions\n",
    "psi_n = []\n",
    "for i in range(num_eigenvalues):\n",
    "    psi = eigenvectors[:, i]\n",
    "    \n",
    "    # Normalize\n",
    "    norm = np.sqrt(np.sum(np.abs(psi)**2) + dx)    \n",
    "    psi_n.append(psi / norm) "
   ]
  },
  {
   "cell_type": "markdown",
   "metadata": {},
   "source": [
    "## Tabulate the Energy Eigenvalues"
   ]
  },
  {
   "cell_type": "code",
   "execution_count": 16,
   "metadata": {},
   "outputs": [
    {
     "name": "stdout",
     "output_type": "stream",
     "text": [
      "   n       E_n (J)\n",
      "0  0 -2.719156e-21\n",
      "1  1 -1.348993e-21\n",
      "2  2 -4.595187e-22\n",
      "3  3  1.179863e-21\n",
      "4  4  1.303045e-21\n",
      "5  5  3.996451e-21\n"
     ]
    }
   ],
   "source": [
    "import pandas as pd \n",
    "\n",
    "data = {'n': np.arange(num_eigenvalues), 'E_n (J)': E_n}\n",
    "df = pd.DataFrame(data)\n",
    "print(df)"
   ]
  },
  {
   "cell_type": "markdown",
   "metadata": {},
   "source": [
    "## Plot the Wavefunctions"
   ]
  },
  {
   "cell_type": "code",
   "execution_count": null,
   "metadata": {},
   "outputs": [
    {
     "ename": "NameError",
     "evalue": "name 'r_0' is not defined",
     "output_type": "error",
     "traceback": [
      "\u001b[0;31m---------------------------------------------------------------------------\u001b[0m",
      "\u001b[0;31mNameError\u001b[0m                                 Traceback (most recent call last)",
      "Cell \u001b[0;32mIn[17], line 5\u001b[0m\n\u001b[1;32m      3\u001b[0m plt\u001b[38;5;241m.\u001b[39mfigure(figsize\u001b[38;5;241m=\u001b[39m(\u001b[38;5;241m10\u001b[39m, \u001b[38;5;241m6\u001b[39m))\n\u001b[1;32m      4\u001b[0m \u001b[38;5;28;01mfor\u001b[39;00m i \u001b[38;5;129;01min\u001b[39;00m \u001b[38;5;28mrange\u001b[39m(num_eigenvalues):\n\u001b[0;32m----> 5\u001b[0m     plt\u001b[38;5;241m.\u001b[39mplot(x \u001b[38;5;241m+\u001b[39m \u001b[43mr_0\u001b[49m, psi_n[i] \u001b[38;5;241m+\u001b[39m E_n[i], label\u001b[38;5;241m=\u001b[39m\u001b[38;5;124mf\u001b[39m\u001b[38;5;124m'\u001b[39m\u001b[38;5;124mn=\u001b[39m\u001b[38;5;132;01m{\u001b[39;00mi\u001b[38;5;132;01m}\u001b[39;00m\u001b[38;5;124m'\u001b[39m)\n\u001b[1;32m      7\u001b[0m \u001b[38;5;66;03m# Plot the potential for reference\u001b[39;00m\n\u001b[1;32m      8\u001b[0m plt\u001b[38;5;241m.\u001b[39mplot(x \u001b[38;5;241m+\u001b[39m r_0, V, \u001b[38;5;124m'\u001b[39m\u001b[38;5;124mk-\u001b[39m\u001b[38;5;124m'\u001b[39m, label\u001b[38;5;241m=\u001b[39m\u001b[38;5;124m'\u001b[39m\u001b[38;5;124mPotential V(x)\u001b[39m\u001b[38;5;124m'\u001b[39m)\n",
      "\u001b[0;31mNameError\u001b[0m: name 'r_0' is not defined"
     ]
    },
    {
     "data": {
      "text/plain": [
       "<Figure size 1000x600 with 0 Axes>"
      ]
     },
     "metadata": {},
     "output_type": "display_data"
    }
   ],
   "source": [
    "import matplotlib.pyplot as plt \n",
    "\n",
    "plt.figure(figsize=(10, 6))\n",
    "for i in range(num_eigenvalues):\n",
    "    plt.plot(x + r_0, psi_n[i] + E_n[i], label=f'n={i}')\n",
    "    \n",
    "# Plot the potential for reference\n",
    "plt.plot(x + r_0, V, 'k-', label='Potential V(x)')\n",
    "\n",
    "plt.xlabel('Position r (m)')\n",
    "plt.ylabel('Energy (J)')\n",
    "plt.title('Morse Potential Wavefunction')\n",
    "plt.legend()\n",
    "plt.show()"
   ]
  }
 ],
 "metadata": {
  "kernelspec": {
   "display_name": "qenv",
   "language": "python",
   "name": "python3"
  },
  "language_info": {
   "codemirror_mode": {
    "name": "ipython",
    "version": 3
   },
   "file_extension": ".py",
   "mimetype": "text/x-python",
   "name": "python",
   "nbconvert_exporter": "python",
   "pygments_lexer": "ipython3",
   "version": "3.12.1"
  }
 },
 "nbformat": 4,
 "nbformat_minor": 2
}
